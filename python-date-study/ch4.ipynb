{
 "cells": [
  {
   "cell_type": "markdown",
   "id": "a30f7ee7-f95e-443f-9bbc-bfdbae2b5350",
   "metadata": {},
   "source": [
    "# 데이터 불러오기와 간단한 분석"
   ]
  },
  {
   "cell_type": "code",
   "execution_count": 2,
   "id": "a9237ce8-887b-4f40-92b1-79d21edad8e8",
   "metadata": {},
   "outputs": [],
   "source": [
    "import numpy as np\n",
    "import pandas as pd"
   ]
  },
  {
   "cell_type": "code",
   "execution_count": 24,
   "id": "5d98a3dc-31b0-4987-9db7-39ce27719998",
   "metadata": {},
   "outputs": [],
   "source": [
    "df = pd.read_csv('sample/sample1.csv')"
   ]
  },
  {
   "cell_type": "code",
   "execution_count": 25,
   "id": "3db0cb2e-cd02-4f7a-8894-9984b1ae60c1",
   "metadata": {},
   "outputs": [
    {
     "data": {
      "text/html": [
       "<div>\n",
       "<style scoped>\n",
       "    .dataframe tbody tr th:only-of-type {\n",
       "        vertical-align: middle;\n",
       "    }\n",
       "\n",
       "    .dataframe tbody tr th {\n",
       "        vertical-align: top;\n",
       "    }\n",
       "\n",
       "    .dataframe thead th {\n",
       "        text-align: right;\n",
       "    }\n",
       "</style>\n",
       "<table border=\"1\" class=\"dataframe\">\n",
       "  <thead>\n",
       "    <tr style=\"text-align: right;\">\n",
       "      <th></th>\n",
       "      <th>student_id</th>\n",
       "      <th>math</th>\n",
       "      <th>eng</th>\n",
       "      <th>kor</th>\n",
       "    </tr>\n",
       "  </thead>\n",
       "  <tbody>\n",
       "    <tr>\n",
       "      <th>0</th>\n",
       "      <td>101</td>\n",
       "      <td>80</td>\n",
       "      <td>95</td>\n",
       "      <td>88</td>\n",
       "    </tr>\n",
       "    <tr>\n",
       "      <th>1</th>\n",
       "      <td>102</td>\n",
       "      <td>92</td>\n",
       "      <td>85</td>\n",
       "      <td>90</td>\n",
       "    </tr>\n",
       "    <tr>\n",
       "      <th>2</th>\n",
       "      <td>103</td>\n",
       "      <td>75</td>\n",
       "      <td>80</td>\n",
       "      <td>66</td>\n",
       "    </tr>\n",
       "  </tbody>\n",
       "</table>\n",
       "</div>"
      ],
      "text/plain": [
       "   student_id  math  eng  kor\n",
       "0         101    80   95   88\n",
       "1         102    92   85   90\n",
       "2         103    75   80   66"
      ]
     },
     "execution_count": 25,
     "metadata": {},
     "output_type": "execute_result"
    }
   ],
   "source": [
    "df"
   ]
  },
  {
   "cell_type": "markdown",
   "id": "687eea04-1e27-4973-839d-b42a4025b6c6",
   "metadata": {},
   "source": [
    "index는 자동으로 정수로 설정<br>columns은 첫번째 행으로 설정"
   ]
  },
  {
   "cell_type": "code",
   "execution_count": 13,
   "id": "5e1284d3-34ca-4863-9102-3054cccd8681",
   "metadata": {
    "scrolled": true
   },
   "outputs": [
    {
     "data": {
      "text/html": [
       "<div>\n",
       "<style scoped>\n",
       "    .dataframe tbody tr th:only-of-type {\n",
       "        vertical-align: middle;\n",
       "    }\n",
       "\n",
       "    .dataframe tbody tr th {\n",
       "        vertical-align: top;\n",
       "    }\n",
       "\n",
       "    .dataframe thead th {\n",
       "        text-align: right;\n",
       "    }\n",
       "</style>\n",
       "<table border=\"1\" class=\"dataframe\">\n",
       "  <thead>\n",
       "    <tr style=\"text-align: right;\">\n",
       "      <th></th>\n",
       "      <th>math</th>\n",
       "      <th>eng</th>\n",
       "      <th>kor</th>\n",
       "    </tr>\n",
       "    <tr>\n",
       "      <th>student_id</th>\n",
       "      <th></th>\n",
       "      <th></th>\n",
       "      <th></th>\n",
       "    </tr>\n",
       "  </thead>\n",
       "  <tbody>\n",
       "    <tr>\n",
       "      <th>101</th>\n",
       "      <td>80</td>\n",
       "      <td>95</td>\n",
       "      <td>88</td>\n",
       "    </tr>\n",
       "    <tr>\n",
       "      <th>102</th>\n",
       "      <td>92</td>\n",
       "      <td>85</td>\n",
       "      <td>90</td>\n",
       "    </tr>\n",
       "    <tr>\n",
       "      <th>103</th>\n",
       "      <td>75</td>\n",
       "      <td>80</td>\n",
       "      <td>66</td>\n",
       "    </tr>\n",
       "  </tbody>\n",
       "</table>\n",
       "</div>"
      ],
      "text/plain": [
       "            math  eng  kor\n",
       "student_id                \n",
       "101           80   95   88\n",
       "102           92   85   90\n",
       "103           75   80   66"
      ]
     },
     "execution_count": 13,
     "metadata": {},
     "output_type": "execute_result"
    }
   ],
   "source": [
    "df.set_index('student_id')"
   ]
  },
  {
   "cell_type": "code",
   "execution_count": 49,
   "id": "ee070184-46b2-4730-bfef-f832c6b70d7a",
   "metadata": {},
   "outputs": [
    {
     "data": {
      "text/html": [
       "<div>\n",
       "<style scoped>\n",
       "    .dataframe tbody tr th:only-of-type {\n",
       "        vertical-align: middle;\n",
       "    }\n",
       "\n",
       "    .dataframe tbody tr th {\n",
       "        vertical-align: top;\n",
       "    }\n",
       "\n",
       "    .dataframe thead th {\n",
       "        text-align: right;\n",
       "    }\n",
       "</style>\n",
       "<table border=\"1\" class=\"dataframe\">\n",
       "  <thead>\n",
       "    <tr style=\"text-align: right;\">\n",
       "      <th></th>\n",
       "      <th>상품명</th>\n",
       "      <th>가격</th>\n",
       "      <th>재고</th>\n",
       "    </tr>\n",
       "  </thead>\n",
       "  <tbody>\n",
       "    <tr>\n",
       "      <th>0</th>\n",
       "      <td>노트북</td>\n",
       "      <td>1200000</td>\n",
       "      <td>5</td>\n",
       "    </tr>\n",
       "    <tr>\n",
       "      <th>1</th>\n",
       "      <td>키보드</td>\n",
       "      <td>29000</td>\n",
       "      <td>20</td>\n",
       "    </tr>\n",
       "    <tr>\n",
       "      <th>2</th>\n",
       "      <td>마우스</td>\n",
       "      <td>19000</td>\n",
       "      <td>15</td>\n",
       "    </tr>\n",
       "  </tbody>\n",
       "</table>\n",
       "</div>"
      ],
      "text/plain": [
       "   상품명       가격  재고\n",
       "0  노트북  1200000   5\n",
       "1  키보드    29000  20\n",
       "2  마우스    19000  15"
      ]
     },
     "execution_count": 49,
     "metadata": {},
     "output_type": "execute_result"
    }
   ],
   "source": [
    "df = pd.read_csv('sample/sample2.csv', encoding='euc-kr')\n",
    "df"
   ]
  },
  {
   "cell_type": "code",
   "execution_count": 50,
   "id": "590a9279-6b2c-4dc1-be02-6f3b1bbd8065",
   "metadata": {},
   "outputs": [
    {
     "data": {
      "text/html": [
       "<div>\n",
       "<style scoped>\n",
       "    .dataframe tbody tr th:only-of-type {\n",
       "        vertical-align: middle;\n",
       "    }\n",
       "\n",
       "    .dataframe tbody tr th {\n",
       "        vertical-align: top;\n",
       "    }\n",
       "\n",
       "    .dataframe thead th {\n",
       "        text-align: right;\n",
       "    }\n",
       "</style>\n",
       "<table border=\"1\" class=\"dataframe\">\n",
       "  <thead>\n",
       "    <tr style=\"text-align: right;\">\n",
       "      <th></th>\n",
       "      <th>가격</th>\n",
       "      <th>재고</th>\n",
       "    </tr>\n",
       "    <tr>\n",
       "      <th>상품명</th>\n",
       "      <th></th>\n",
       "      <th></th>\n",
       "    </tr>\n",
       "  </thead>\n",
       "  <tbody>\n",
       "    <tr>\n",
       "      <th>노트북</th>\n",
       "      <td>1200000</td>\n",
       "      <td>5</td>\n",
       "    </tr>\n",
       "    <tr>\n",
       "      <th>키보드</th>\n",
       "      <td>29000</td>\n",
       "      <td>20</td>\n",
       "    </tr>\n",
       "    <tr>\n",
       "      <th>마우스</th>\n",
       "      <td>19000</td>\n",
       "      <td>15</td>\n",
       "    </tr>\n",
       "  </tbody>\n",
       "</table>\n",
       "</div>"
      ],
      "text/plain": [
       "          가격  재고\n",
       "상품명             \n",
       "노트북  1200000   5\n",
       "키보드    29000  20\n",
       "마우스    19000  15"
      ]
     },
     "execution_count": 50,
     "metadata": {},
     "output_type": "execute_result"
    }
   ],
   "source": [
    "df = df.set_index('상품명')\n",
    "df"
   ]
  },
  {
   "cell_type": "code",
   "execution_count": 54,
   "id": "1ab6ca4b-b42c-4e8f-8c55-e88259b32fd3",
   "metadata": {},
   "outputs": [
    {
     "name": "stdout",
     "output_type": "stream",
     "text": [
      "Index(['노트북', '키보드', '마우스'], dtype='object', name='상품명')\n"
     ]
    }
   ],
   "source": [
    "print(df.index)"
   ]
  },
  {
   "cell_type": "code",
   "execution_count": 57,
   "id": "03276fb9-f956-4d53-ab21-998135d908a2",
   "metadata": {},
   "outputs": [
    {
     "name": "stdout",
     "output_type": "stream",
     "text": [
      "Index(['가격', '재고'], dtype='object')\n"
     ]
    }
   ],
   "source": [
    "print(df.columns)"
   ]
  },
  {
   "cell_type": "code",
   "execution_count": 59,
   "id": "7bb08381-2b34-4b39-8961-2df19dad571d",
   "metadata": {},
   "outputs": [],
   "source": [
    "import json\n",
    "f = open('sample/sample3.json', 'r')"
   ]
  },
  {
   "cell_type": "code",
   "execution_count": 61,
   "id": "02609329-0031-4a63-b5c3-83f0496d0c93",
   "metadata": {},
   "outputs": [
    {
     "data": {
      "text/plain": [
       "{'id': 101, 'name': 'alice', 'age': 30}"
      ]
     },
     "execution_count": 61,
     "metadata": {},
     "output_type": "execute_result"
    }
   ],
   "source": [
    "dic = json.load(f)\n",
    "dic"
   ]
  },
  {
   "cell_type": "code",
   "execution_count": 64,
   "id": "c497992e-dba9-4d95-91a5-be113423df36",
   "metadata": {},
   "outputs": [],
   "source": [
    "f = open('sample/sample4.json', 'r', encoding='utf-8')"
   ]
  },
  {
   "cell_type": "code",
   "execution_count": 65,
   "id": "55b571db-45be-4358-9dd1-c1514023e6c9",
   "metadata": {},
   "outputs": [
    {
     "data": {
      "text/plain": [
       "{'name': '홍길동', 'age': 25, 'city': '서울'}"
      ]
     },
     "execution_count": 65,
     "metadata": {},
     "output_type": "execute_result"
    }
   ],
   "source": [
    "dic = json.load(f)\n",
    "dic"
   ]
  },
  {
   "cell_type": "code",
   "execution_count": 74,
   "id": "73ae6308-43d5-44a8-a663-d167746ef85f",
   "metadata": {},
   "outputs": [
    {
     "name": "stdout",
     "output_type": "stream",
     "text": [
      "name 홍길동\n",
      "age 25\n",
      "city 서울\n"
     ]
    }
   ],
   "source": [
    "for key, value in dic.items():\n",
    "    print(key, value)"
   ]
  },
  {
   "cell_type": "code",
   "execution_count": 75,
   "id": "658fa24b-545b-4167-9413-331d0bb761d4",
   "metadata": {},
   "outputs": [
    {
     "data": {
      "text/plain": [
       "[{'name': '홍길동', 'age': 25, 'city': '서울'},\n",
       " {'name': '김철수', 'age': 30, 'city': '부산'}]"
      ]
     },
     "execution_count": 75,
     "metadata": {},
     "output_type": "execute_result"
    }
   ],
   "source": [
    "f = open('sample/sample5.json', 'r', encoding='utf-8')\n",
    "dic = json.load(f)\n",
    "dic"
   ]
  },
  {
   "cell_type": "code",
   "execution_count": 76,
   "id": "697c65b4-c27a-4320-8f77-52a808a96a26",
   "metadata": {},
   "outputs": [
    {
     "data": {
      "text/html": [
       "<div>\n",
       "<style scoped>\n",
       "    .dataframe tbody tr th:only-of-type {\n",
       "        vertical-align: middle;\n",
       "    }\n",
       "\n",
       "    .dataframe tbody tr th {\n",
       "        vertical-align: top;\n",
       "    }\n",
       "\n",
       "    .dataframe thead th {\n",
       "        text-align: right;\n",
       "    }\n",
       "</style>\n",
       "<table border=\"1\" class=\"dataframe\">\n",
       "  <thead>\n",
       "    <tr style=\"text-align: right;\">\n",
       "      <th></th>\n",
       "      <th>name</th>\n",
       "      <th>age</th>\n",
       "      <th>city</th>\n",
       "    </tr>\n",
       "  </thead>\n",
       "  <tbody>\n",
       "    <tr>\n",
       "      <th>0</th>\n",
       "      <td>홍길동</td>\n",
       "      <td>25</td>\n",
       "      <td>서울</td>\n",
       "    </tr>\n",
       "    <tr>\n",
       "      <th>1</th>\n",
       "      <td>김철수</td>\n",
       "      <td>30</td>\n",
       "      <td>부산</td>\n",
       "    </tr>\n",
       "  </tbody>\n",
       "</table>\n",
       "</div>"
      ],
      "text/plain": [
       "  name  age city\n",
       "0  홍길동   25   서울\n",
       "1  김철수   30   부산"
      ]
     },
     "execution_count": 76,
     "metadata": {},
     "output_type": "execute_result"
    }
   ],
   "source": [
    "df = pd.read_json('sample/sample5.json')\n",
    "df"
   ]
  },
  {
   "cell_type": "code",
   "execution_count": 78,
   "id": "68496af2-89e3-496f-9c5e-9ce639e375f1",
   "metadata": {},
   "outputs": [
    {
     "data": {
      "text/plain": [
       "name    김철수\n",
       "age      30\n",
       "city     부산\n",
       "Name: 1, dtype: object"
      ]
     },
     "execution_count": 78,
     "metadata": {},
     "output_type": "execute_result"
    }
   ],
   "source": [
    "df.loc[1]"
   ]
  },
  {
   "cell_type": "code",
   "execution_count": 79,
   "id": "be581458-0338-4f86-896b-eb5abde127cb",
   "metadata": {},
   "outputs": [],
   "source": [
    "import sqlite3"
   ]
  },
  {
   "cell_type": "code",
   "execution_count": 84,
   "id": "775bc1f1-301e-4037-87fc-02f10e6e9739",
   "metadata": {},
   "outputs": [],
   "source": [
    "con = sqlite3.connect('mydata.sqlite')"
   ]
  },
  {
   "cell_type": "code",
   "execution_count": 85,
   "id": "00647d64-b4a3-43f7-83b7-ad11d5c33dd4",
   "metadata": {},
   "outputs": [],
   "source": [
    "con.execute('CREATE TABLE student (id INTEGER, name TEXT, age INTEGER)')\n",
    "con.execute('INSERT INTO student VALUES (1, \"둘리\", 25)')\n",
    "con.execute('INSERT INTO student VALUES (2, \"또치\", 30)')\n",
    "con.commit()"
   ]
  },
  {
   "cell_type": "code",
   "execution_count": 88,
   "id": "9fb6daf7-3a1d-4014-b4b8-63b7f692710a",
   "metadata": {},
   "outputs": [
    {
     "name": "stdout",
     "output_type": "stream",
     "text": [
      "(1, '둘리', 25)\n",
      "(2, '또치', 30)\n"
     ]
    }
   ],
   "source": [
    "cur = con.execute('SELECT * From student')\n",
    "rows = cur.fetchall()\n",
    "for tup in rows:\n",
    "    print(tup)"
   ]
  },
  {
   "cell_type": "code",
   "execution_count": 89,
   "id": "c1d0e52e-0634-4993-9d49-1d228ac1749b",
   "metadata": {},
   "outputs": [
    {
     "data": {
      "text/plain": [
       "(1, '둘리', 25)"
      ]
     },
     "execution_count": 89,
     "metadata": {},
     "output_type": "execute_result"
    }
   ],
   "source": [
    "cur = con.execute('SELECT * From student where id = 1')\n",
    "row = cur.fetchone()\n",
    "row"
   ]
  },
  {
   "cell_type": "code",
   "execution_count": 105,
   "id": "8b69df89-3bb6-4314-be5b-a96d31ff3a6d",
   "metadata": {},
   "outputs": [
    {
     "data": {
      "text/html": [
       "<div>\n",
       "<style scoped>\n",
       "    .dataframe tbody tr th:only-of-type {\n",
       "        vertical-align: middle;\n",
       "    }\n",
       "\n",
       "    .dataframe tbody tr th {\n",
       "        vertical-align: top;\n",
       "    }\n",
       "\n",
       "    .dataframe thead th {\n",
       "        text-align: right;\n",
       "    }\n",
       "</style>\n",
       "<table border=\"1\" class=\"dataframe\">\n",
       "  <thead>\n",
       "    <tr style=\"text-align: right;\">\n",
       "      <th></th>\n",
       "      <th>지점</th>\n",
       "      <th>지점명</th>\n",
       "      <th>일시</th>\n",
       "      <th>기온</th>\n",
       "      <th>습도</th>\n",
       "    </tr>\n",
       "  </thead>\n",
       "  <tbody>\n",
       "    <tr>\n",
       "      <th>0</th>\n",
       "      <td>112</td>\n",
       "      <td>인천</td>\n",
       "      <td>2025-09-14 1:00</td>\n",
       "      <td>22.2</td>\n",
       "      <td>84</td>\n",
       "    </tr>\n",
       "    <tr>\n",
       "      <th>1</th>\n",
       "      <td>112</td>\n",
       "      <td>인천</td>\n",
       "      <td>2025-09-14 2:00</td>\n",
       "      <td>21.8</td>\n",
       "      <td>86</td>\n",
       "    </tr>\n",
       "    <tr>\n",
       "      <th>2</th>\n",
       "      <td>112</td>\n",
       "      <td>인천</td>\n",
       "      <td>2025-09-14 3:00</td>\n",
       "      <td>21.7</td>\n",
       "      <td>87</td>\n",
       "    </tr>\n",
       "    <tr>\n",
       "      <th>3</th>\n",
       "      <td>112</td>\n",
       "      <td>인천</td>\n",
       "      <td>2025-09-14 4:00</td>\n",
       "      <td>21.4</td>\n",
       "      <td>87</td>\n",
       "    </tr>\n",
       "    <tr>\n",
       "      <th>4</th>\n",
       "      <td>112</td>\n",
       "      <td>인천</td>\n",
       "      <td>2025-09-14 5:00</td>\n",
       "      <td>21.2</td>\n",
       "      <td>87</td>\n",
       "    </tr>\n",
       "    <tr>\n",
       "      <th>5</th>\n",
       "      <td>112</td>\n",
       "      <td>인천</td>\n",
       "      <td>2025-09-14 6:00</td>\n",
       "      <td>21.2</td>\n",
       "      <td>87</td>\n",
       "    </tr>\n",
       "    <tr>\n",
       "      <th>6</th>\n",
       "      <td>112</td>\n",
       "      <td>인천</td>\n",
       "      <td>2025-09-14 7:00</td>\n",
       "      <td>21.3</td>\n",
       "      <td>87</td>\n",
       "    </tr>\n",
       "    <tr>\n",
       "      <th>7</th>\n",
       "      <td>112</td>\n",
       "      <td>인천</td>\n",
       "      <td>2025-09-14 8:00</td>\n",
       "      <td>22.3</td>\n",
       "      <td>86</td>\n",
       "    </tr>\n",
       "    <tr>\n",
       "      <th>8</th>\n",
       "      <td>112</td>\n",
       "      <td>인천</td>\n",
       "      <td>2025-09-14 9:00</td>\n",
       "      <td>22.9</td>\n",
       "      <td>85</td>\n",
       "    </tr>\n",
       "    <tr>\n",
       "      <th>9</th>\n",
       "      <td>112</td>\n",
       "      <td>인천</td>\n",
       "      <td>2025-09-14 10:00</td>\n",
       "      <td>23.8</td>\n",
       "      <td>82</td>\n",
       "    </tr>\n",
       "    <tr>\n",
       "      <th>10</th>\n",
       "      <td>112</td>\n",
       "      <td>인천</td>\n",
       "      <td>2025-09-14 11:00</td>\n",
       "      <td>24.6</td>\n",
       "      <td>79</td>\n",
       "    </tr>\n",
       "    <tr>\n",
       "      <th>11</th>\n",
       "      <td>112</td>\n",
       "      <td>인천</td>\n",
       "      <td>2025-09-14 12:00</td>\n",
       "      <td>25.9</td>\n",
       "      <td>71</td>\n",
       "    </tr>\n",
       "    <tr>\n",
       "      <th>12</th>\n",
       "      <td>112</td>\n",
       "      <td>인천</td>\n",
       "      <td>2025-09-14 13:00</td>\n",
       "      <td>26.9</td>\n",
       "      <td>64</td>\n",
       "    </tr>\n",
       "    <tr>\n",
       "      <th>13</th>\n",
       "      <td>112</td>\n",
       "      <td>인천</td>\n",
       "      <td>2025-09-14 14:00</td>\n",
       "      <td>27.4</td>\n",
       "      <td>61</td>\n",
       "    </tr>\n",
       "    <tr>\n",
       "      <th>14</th>\n",
       "      <td>112</td>\n",
       "      <td>인천</td>\n",
       "      <td>2025-09-14 15:00</td>\n",
       "      <td>27.7</td>\n",
       "      <td>65</td>\n",
       "    </tr>\n",
       "    <tr>\n",
       "      <th>15</th>\n",
       "      <td>112</td>\n",
       "      <td>인천</td>\n",
       "      <td>2025-09-14 16:00</td>\n",
       "      <td>27.4</td>\n",
       "      <td>70</td>\n",
       "    </tr>\n",
       "    <tr>\n",
       "      <th>16</th>\n",
       "      <td>112</td>\n",
       "      <td>인천</td>\n",
       "      <td>2025-09-14 17:00</td>\n",
       "      <td>27.0</td>\n",
       "      <td>68</td>\n",
       "    </tr>\n",
       "    <tr>\n",
       "      <th>17</th>\n",
       "      <td>112</td>\n",
       "      <td>인천</td>\n",
       "      <td>2025-09-14 18:00</td>\n",
       "      <td>26.4</td>\n",
       "      <td>70</td>\n",
       "    </tr>\n",
       "    <tr>\n",
       "      <th>18</th>\n",
       "      <td>112</td>\n",
       "      <td>인천</td>\n",
       "      <td>2025-09-14 19:00</td>\n",
       "      <td>25.2</td>\n",
       "      <td>73</td>\n",
       "    </tr>\n",
       "    <tr>\n",
       "      <th>19</th>\n",
       "      <td>112</td>\n",
       "      <td>인천</td>\n",
       "      <td>2025-09-14 20:00</td>\n",
       "      <td>24.7</td>\n",
       "      <td>78</td>\n",
       "    </tr>\n",
       "    <tr>\n",
       "      <th>20</th>\n",
       "      <td>112</td>\n",
       "      <td>인천</td>\n",
       "      <td>2025-09-14 21:00</td>\n",
       "      <td>24.5</td>\n",
       "      <td>82</td>\n",
       "    </tr>\n",
       "    <tr>\n",
       "      <th>21</th>\n",
       "      <td>112</td>\n",
       "      <td>인천</td>\n",
       "      <td>2025-09-14 22:00</td>\n",
       "      <td>24.2</td>\n",
       "      <td>85</td>\n",
       "    </tr>\n",
       "    <tr>\n",
       "      <th>22</th>\n",
       "      <td>112</td>\n",
       "      <td>인천</td>\n",
       "      <td>2025-09-14 23:00</td>\n",
       "      <td>23.9</td>\n",
       "      <td>84</td>\n",
       "    </tr>\n",
       "    <tr>\n",
       "      <th>23</th>\n",
       "      <td>112</td>\n",
       "      <td>인천</td>\n",
       "      <td>2025-09-15 0:00</td>\n",
       "      <td>23.7</td>\n",
       "      <td>84</td>\n",
       "    </tr>\n",
       "  </tbody>\n",
       "</table>\n",
       "</div>"
      ],
      "text/plain": [
       "     지점 지점명                일시    기온  습도\n",
       "0   112  인천   2025-09-14 1:00  22.2  84\n",
       "1   112  인천   2025-09-14 2:00  21.8  86\n",
       "2   112  인천   2025-09-14 3:00  21.7  87\n",
       "3   112  인천   2025-09-14 4:00  21.4  87\n",
       "4   112  인천   2025-09-14 5:00  21.2  87\n",
       "5   112  인천   2025-09-14 6:00  21.2  87\n",
       "6   112  인천   2025-09-14 7:00  21.3  87\n",
       "7   112  인천   2025-09-14 8:00  22.3  86\n",
       "8   112  인천   2025-09-14 9:00  22.9  85\n",
       "9   112  인천  2025-09-14 10:00  23.8  82\n",
       "10  112  인천  2025-09-14 11:00  24.6  79\n",
       "11  112  인천  2025-09-14 12:00  25.9  71\n",
       "12  112  인천  2025-09-14 13:00  26.9  64\n",
       "13  112  인천  2025-09-14 14:00  27.4  61\n",
       "14  112  인천  2025-09-14 15:00  27.7  65\n",
       "15  112  인천  2025-09-14 16:00  27.4  70\n",
       "16  112  인천  2025-09-14 17:00  27.0  68\n",
       "17  112  인천  2025-09-14 18:00  26.4  70\n",
       "18  112  인천  2025-09-14 19:00  25.2  73\n",
       "19  112  인천  2025-09-14 20:00  24.7  78\n",
       "20  112  인천  2025-09-14 21:00  24.5  82\n",
       "21  112  인천  2025-09-14 22:00  24.2  85\n",
       "22  112  인천  2025-09-14 23:00  23.9  84\n",
       "23  112  인천   2025-09-15 0:00  23.7  84"
      ]
     },
     "execution_count": 105,
     "metadata": {},
     "output_type": "execute_result"
    }
   ],
   "source": [
    "incheon = pd.read_csv('sample/OBS_ASOS_TIM_20250916161022.csv', encoding='euc-kr')\n",
    "incheon"
   ]
  },
  {
   "cell_type": "code",
   "execution_count": 117,
   "id": "5453985f-4bb6-4fd7-b544-9ff14657c733",
   "metadata": {},
   "outputs": [
    {
     "name": "stdout",
     "output_type": "stream",
     "text": [
      "평균기온 : 24도, 평균습도 : 78%\n"
     ]
    }
   ],
   "source": [
    "temp = int(incheon['기온'].mean())\n",
    "su = int(incheon['습도'].mean())\n",
    "print(f'평균기온 : {temp}도, 평균습도 : {su}%')"
   ]
  },
  {
   "cell_type": "code",
   "execution_count": 135,
   "id": "c908fc8e-0e72-4aa0-b143-1ff67339ec1d",
   "metadata": {},
   "outputs": [
    {
     "data": {
      "text/plain": [
       "지점                  112\n",
       "지점명                  인천\n",
       "일시     2025-09-14 15:00\n",
       "기온                 27.7\n",
       "습도                   65\n",
       "Name: 14, dtype: object"
      ]
     },
     "execution_count": 135,
     "metadata": {},
     "output_type": "execute_result"
    }
   ],
   "source": [
    "incheon.loc[incheon['기온'].idxmax()]"
   ]
  },
  {
   "cell_type": "code",
   "execution_count": null,
   "id": "bc196d6a-6772-4a3c-b4b0-7470d940e336",
   "metadata": {},
   "outputs": [],
   "source": []
  },
  {
   "cell_type": "code",
   "execution_count": null,
   "id": "a5bf123e-a75a-46ac-9465-9aeccb647312",
   "metadata": {},
   "outputs": [],
   "source": []
  },
  {
   "cell_type": "code",
   "execution_count": null,
   "id": "6ce305a1-8925-4ddb-b086-dc323b275c95",
   "metadata": {},
   "outputs": [],
   "source": []
  },
  {
   "cell_type": "code",
   "execution_count": null,
   "id": "473184d3-380f-4f7b-9063-b617214457ea",
   "metadata": {},
   "outputs": [],
   "source": []
  }
 ],
 "metadata": {
  "kernelspec": {
   "display_name": "Python 3 (ipykernel)",
   "language": "python",
   "name": "python3"
  },
  "language_info": {
   "codemirror_mode": {
    "name": "ipython",
    "version": 3
   },
   "file_extension": ".py",
   "mimetype": "text/x-python",
   "name": "python",
   "nbconvert_exporter": "python",
   "pygments_lexer": "ipython3",
   "version": "3.10.18"
  },
  "widgets": {
   "application/vnd.jupyter.widget-state+json": {
    "state": {},
    "version_major": 2,
    "version_minor": 0
   }
  }
 },
 "nbformat": 4,
 "nbformat_minor": 5
}
