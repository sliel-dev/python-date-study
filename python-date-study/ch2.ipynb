{
 "cells": [
  {
   "cell_type": "markdown",
   "id": "ea7c26e5-b883-4d7b-92b7-449bd6096d98",
   "metadata": {},
   "source": [
    "# 3. 넘파이(NumPy)\n",
    "다차원배열과 수학 함수를 제공하는 모듈, 라이브러리"
   ]
  },
  {
   "cell_type": "code",
   "execution_count": 1,
   "id": "b72edd96-0fdb-4d6d-a4ef-f00451d64d8a",
   "metadata": {},
   "outputs": [],
   "source": [
    "import numpy as np"
   ]
  },
  {
   "cell_type": "code",
   "execution_count": 2,
   "id": "cb9d3203-4da0-454b-b5a1-6ff491e2d626",
   "metadata": {},
   "outputs": [],
   "source": [
    "a = np.array([1, 2, 3], dtype=np.float32)\n",
    "b = np.array([1, 2, 3], dtype=np.int32)"
   ]
  },
  {
   "cell_type": "code",
   "execution_count": 3,
   "id": "a87ba136-03df-46c9-a0a2-2fb6ef55dbe2",
   "metadata": {},
   "outputs": [
    {
     "name": "stdout",
     "output_type": "stream",
     "text": [
      "[1. 2. 3.] float32\n",
      "[1 2 3] int32\n"
     ]
    }
   ],
   "source": [
    "print(a, a.dtype)\n",
    "print(b, b.dtype)"
   ]
  },
  {
   "cell_type": "code",
   "execution_count": 4,
   "id": "f8798d61-5df7-4ef7-a33b-b4da443dca86",
   "metadata": {},
   "outputs": [],
   "source": [
    "c = np.array([[1, 2, 3], [4, 5, 6]])"
   ]
  },
  {
   "cell_type": "code",
   "execution_count": 5,
   "id": "9ed3e7d1-7dfb-476e-bf1b-8667980051b4",
   "metadata": {},
   "outputs": [
    {
     "name": "stdout",
     "output_type": "stream",
     "text": [
      "[[1 2 3]\n",
      " [4 5 6]]\n"
     ]
    }
   ],
   "source": [
    "print(c)"
   ]
  },
  {
   "cell_type": "code",
   "execution_count": 6,
   "id": "b31a8821-f7ba-4988-a05b-1137c4ec485d",
   "metadata": {},
   "outputs": [],
   "source": [
    "d = np.array([[1, 2, 3], [4, 5, 6], [7, 8, 9]])"
   ]
  },
  {
   "cell_type": "code",
   "execution_count": 7,
   "id": "6def3db7-3f64-416f-9e14-178ea9769685",
   "metadata": {},
   "outputs": [
    {
     "data": {
      "text/plain": [
       "array([[1, 2, 3],\n",
       "       [4, 5, 6],\n",
       "       [7, 8, 9]])"
      ]
     },
     "execution_count": 7,
     "metadata": {},
     "output_type": "execute_result"
    }
   ],
   "source": [
    "d"
   ]
  },
  {
   "cell_type": "code",
   "execution_count": 10,
   "id": "a561c28d-341f-4798-83eb-640dd85121a9",
   "metadata": {},
   "outputs": [],
   "source": [
    "a = np.arange(10)\n",
    "b = np.arange(1, 11)\n",
    "c = np.arange(1, 11, 2)"
   ]
  },
  {
   "cell_type": "code",
   "execution_count": 11,
   "id": "b6762649-f79b-4955-90c1-ac380195ec5b",
   "metadata": {},
   "outputs": [
    {
     "data": {
      "text/plain": [
       "(array([0, 1, 2, 3, 4, 5, 6, 7, 8, 9]),\n",
       " array([ 1,  2,  3,  4,  5,  6,  7,  8,  9, 10]),\n",
       " array([1, 3, 5, 7, 9]))"
      ]
     },
     "execution_count": 11,
     "metadata": {},
     "output_type": "execute_result"
    }
   ],
   "source": [
    "a, b, c"
   ]
  },
  {
   "cell_type": "code",
   "execution_count": 12,
   "id": "f56f356f-6bd0-47d5-a513-91e5167c6379",
   "metadata": {},
   "outputs": [],
   "source": [
    "score = np.array([85, 90, 78, 92, 88])"
   ]
  },
  {
   "cell_type": "code",
   "execution_count": 13,
   "id": "9ba76bbc-4c74-44a9-be9f-4655616eb0b6",
   "metadata": {},
   "outputs": [
    {
     "data": {
      "text/plain": [
       "array([85, 90, 78, 92, 88])"
      ]
     },
     "execution_count": 13,
     "metadata": {},
     "output_type": "execute_result"
    }
   ],
   "source": [
    "score"
   ]
  },
  {
   "cell_type": "code",
   "execution_count": 14,
   "id": "62899cff-087b-402b-a062-dbada51ec8fc",
   "metadata": {},
   "outputs": [],
   "source": [
    "heights = np.array([160, 165, 170, 175, 180])"
   ]
  },
  {
   "cell_type": "code",
   "execution_count": 15,
   "id": "7ceb3190-0ed7-43eb-8f8e-fdca37ec5d71",
   "metadata": {},
   "outputs": [
    {
     "data": {
      "text/plain": [
       "array([160, 165, 170, 175, 180])"
      ]
     },
     "execution_count": 15,
     "metadata": {},
     "output_type": "execute_result"
    }
   ],
   "source": [
    "heights"
   ]
  },
  {
   "cell_type": "code",
   "execution_count": 16,
   "id": "c5cd440b-51d2-409d-a97c-2a1462c22c9b",
   "metadata": {},
   "outputs": [],
   "source": [
    "prices = np.array([1200, 1500, 1800, 2100])"
   ]
  },
  {
   "cell_type": "code",
   "execution_count": 17,
   "id": "0308bf52-9b5d-4df7-b30d-529e20183fcb",
   "metadata": {},
   "outputs": [
    {
     "data": {
      "text/plain": [
       "array([1200, 1500, 1800, 2100])"
      ]
     },
     "execution_count": 17,
     "metadata": {},
     "output_type": "execute_result"
    }
   ],
   "source": [
    "prices"
   ]
  },
  {
   "cell_type": "code",
   "execution_count": 18,
   "id": "dfd3ef10-92ac-420d-98dd-93c95c740920",
   "metadata": {},
   "outputs": [],
   "source": [
    "temps = np.array([20, 22, 19, 25, 30])"
   ]
  },
  {
   "cell_type": "code",
   "execution_count": 19,
   "id": "ee99eb98-bd8a-49c4-a7e4-f609d51d993e",
   "metadata": {},
   "outputs": [
    {
     "data": {
      "text/plain": [
       "array([20, 22, 19, 25, 30])"
      ]
     },
     "execution_count": 19,
     "metadata": {},
     "output_type": "execute_result"
    }
   ],
   "source": [
    "temps"
   ]
  },
  {
   "cell_type": "code",
   "execution_count": 20,
   "id": "2ab53da7-bf01-42e7-9a48-e85393fbb8c5",
   "metadata": {},
   "outputs": [],
   "source": [
    "a = np.arange(0, 5)"
   ]
  },
  {
   "cell_type": "code",
   "execution_count": 21,
   "id": "7eccf08a-6682-4a01-be1b-5af184c1ef3b",
   "metadata": {},
   "outputs": [
    {
     "data": {
      "text/plain": [
       "array([0, 1, 2, 3, 4])"
      ]
     },
     "execution_count": 21,
     "metadata": {},
     "output_type": "execute_result"
    }
   ],
   "source": [
    "a"
   ]
  },
  {
   "cell_type": "code",
   "execution_count": 22,
   "id": "bb2857dd-311e-45c3-9fc7-854450515c1c",
   "metadata": {},
   "outputs": [],
   "source": [
    "b = np.arange(0, 10)"
   ]
  },
  {
   "cell_type": "code",
   "execution_count": 23,
   "id": "82f14707-c59f-4684-9f4b-d35ff80642e6",
   "metadata": {},
   "outputs": [
    {
     "data": {
      "text/plain": [
       "array([0, 1, 2, 3, 4, 5, 6, 7, 8, 9])"
      ]
     },
     "execution_count": 23,
     "metadata": {},
     "output_type": "execute_result"
    }
   ],
   "source": [
    "b"
   ]
  },
  {
   "cell_type": "code",
   "execution_count": 24,
   "id": "ca1ac0e2-4885-4430-8af4-dbcddc07fcaf",
   "metadata": {},
   "outputs": [],
   "source": [
    "c = np.arange(3, 8)"
   ]
  },
  {
   "cell_type": "code",
   "execution_count": 25,
   "id": "2570ff8c-47a0-4740-8e0c-012ecf4ca8a9",
   "metadata": {},
   "outputs": [
    {
     "data": {
      "text/plain": [
       "array([3, 4, 5, 6, 7])"
      ]
     },
     "execution_count": 25,
     "metadata": {},
     "output_type": "execute_result"
    }
   ],
   "source": [
    "c"
   ]
  },
  {
   "cell_type": "code",
   "execution_count": 26,
   "id": "b1478b98-37e3-4235-92fd-77e1fb8539f1",
   "metadata": {},
   "outputs": [],
   "source": [
    "d = np.arange(-2, 3)"
   ]
  },
  {
   "cell_type": "code",
   "execution_count": 27,
   "id": "7b7d7549-c068-4506-81aa-8729c568ab49",
   "metadata": {},
   "outputs": [
    {
     "data": {
      "text/plain": [
       "array([-2, -1,  0,  1,  2])"
      ]
     },
     "execution_count": 27,
     "metadata": {},
     "output_type": "execute_result"
    }
   ],
   "source": [
    "d"
   ]
  },
  {
   "cell_type": "code",
   "execution_count": 39,
   "id": "79c77101-2f53-4a5b-90e1-3b59b8035e1d",
   "metadata": {},
   "outputs": [
    {
     "data": {
      "text/plain": [
       "array([0., 0., 0., 0., 0., 0., 0., 0., 0., 0.])"
      ]
     },
     "execution_count": 39,
     "metadata": {},
     "output_type": "execute_result"
    }
   ],
   "source": [
    "np.zeros(10)"
   ]
  },
  {
   "cell_type": "code",
   "execution_count": 42,
   "id": "c45c6334-e634-46dc-b3b0-218bbc513e48",
   "metadata": {},
   "outputs": [
    {
     "name": "stdout",
     "output_type": "stream",
     "text": [
      "int64\n",
      "2\n",
      "(2, 3)\n"
     ]
    }
   ],
   "source": [
    "b = np.array([[1, 2, 3], [4, 5, 6]])\n",
    "print(b.dtype)\n",
    "print(b.ndim)\n",
    "print(b.shape)"
   ]
  },
  {
   "cell_type": "code",
   "execution_count": 46,
   "id": "ee7d55d8-93fa-45cb-95bf-cef13ae325b9",
   "metadata": {},
   "outputs": [
    {
     "data": {
      "text/plain": [
       "dtype('int32')"
      ]
     },
     "execution_count": 46,
     "metadata": {},
     "output_type": "execute_result"
    }
   ],
   "source": [
    "arr = np.array([1.1, 2.1, 3.1])\n",
    "\n",
    "arr2 = arr.astype(np.int32)\n",
    "arr2\n",
    "arr2.dtype"
   ]
  },
  {
   "cell_type": "code",
   "execution_count": 47,
   "id": "d7f8acdb-c3e2-47ff-a19e-d163fa0bd2eb",
   "metadata": {},
   "outputs": [],
   "source": [
    "lis = [1, 2, 3]"
   ]
  },
  {
   "cell_type": "code",
   "execution_count": 48,
   "id": "7a1c1bde-b6ca-40da-8853-3c3f8c915869",
   "metadata": {},
   "outputs": [
    {
     "name": "stdout",
     "output_type": "stream",
     "text": [
      "4\n",
      "5\n",
      "6\n"
     ]
    }
   ],
   "source": [
    "for i in lis:\n",
    "    print(i+3)"
   ]
  },
  {
   "cell_type": "code",
   "execution_count": 52,
   "id": "52ea5757-677b-431f-ac16-11afb0bb1711",
   "metadata": {},
   "outputs": [
    {
     "data": {
      "text/plain": [
       "array([False, False, False])"
      ]
     },
     "execution_count": 52,
     "metadata": {},
     "output_type": "execute_result"
    }
   ],
   "source": [
    "a = np.array([1, 2, 3])\n",
    "b = np.array([4, 5, 6])\n",
    "a > b"
   ]
  },
  {
   "cell_type": "code",
   "execution_count": 54,
   "id": "d8b7c593-4d20-47af-9db3-3f692e2d422f",
   "metadata": {},
   "outputs": [
    {
     "data": {
      "text/plain": [
       "array([0, 1, 2, 3, 4, 5, 6, 7, 8, 9])"
      ]
     },
     "execution_count": 54,
     "metadata": {},
     "output_type": "execute_result"
    }
   ],
   "source": [
    "a = np.arange(10)\n",
    "a"
   ]
  },
  {
   "cell_type": "code",
   "execution_count": 57,
   "id": "775d89f5-e506-4eb3-bc3f-4d5f618f07b8",
   "metadata": {},
   "outputs": [
    {
     "data": {
      "text/plain": [
       "np.int64(0)"
      ]
     },
     "execution_count": 57,
     "metadata": {},
     "output_type": "execute_result"
    }
   ],
   "source": [
    "a[0]"
   ]
  },
  {
   "cell_type": "code",
   "execution_count": 58,
   "id": "50501896-a875-4c49-8baf-02b387702077",
   "metadata": {},
   "outputs": [
    {
     "data": {
      "text/plain": [
       "array([3, 4, 5])"
      ]
     },
     "execution_count": 58,
     "metadata": {},
     "output_type": "execute_result"
    }
   ],
   "source": [
    "a[3:6]"
   ]
  },
  {
   "cell_type": "code",
   "execution_count": 59,
   "id": "6af852a4-6fbf-43c4-9cf0-741537710aec",
   "metadata": {},
   "outputs": [],
   "source": [
    "a[1] = 99"
   ]
  },
  {
   "cell_type": "code",
   "execution_count": 60,
   "id": "0e644f2f-3cbf-4b66-91f1-ca6cfd64d68c",
   "metadata": {},
   "outputs": [
    {
     "data": {
      "text/plain": [
       "array([ 0, 99,  2,  3,  4,  5,  6,  7,  8,  9])"
      ]
     },
     "execution_count": 60,
     "metadata": {},
     "output_type": "execute_result"
    }
   ],
   "source": [
    "a"
   ]
  },
  {
   "cell_type": "code",
   "execution_count": 61,
   "id": "aa259fd4-2f74-4129-93c2-6eb5a7cbbe48",
   "metadata": {},
   "outputs": [],
   "source": [
    "a[3:6] = 88, 77, 66"
   ]
  },
  {
   "cell_type": "code",
   "execution_count": 62,
   "id": "416efe7a-1604-4082-b9f3-5d358e06f55e",
   "metadata": {},
   "outputs": [
    {
     "data": {
      "text/plain": [
       "array([ 0, 99,  2, 88, 77, 66,  6,  7,  8,  9])"
      ]
     },
     "execution_count": 62,
     "metadata": {},
     "output_type": "execute_result"
    }
   ],
   "source": [
    "a"
   ]
  },
  {
   "cell_type": "code",
   "execution_count": 63,
   "id": "95659b71-18c0-435e-9633-b837391b1f4c",
   "metadata": {},
   "outputs": [
    {
     "data": {
      "text/plain": [
       "array([ 0, 99,  2, 88, 77, 66,  6,  7,  8,  9])"
      ]
     },
     "execution_count": 63,
     "metadata": {},
     "output_type": "execute_result"
    }
   ],
   "source": [
    "a[:]"
   ]
  },
  {
   "cell_type": "code",
   "execution_count": 66,
   "id": "974d1362-e515-4736-b8d3-7657bcdf598f",
   "metadata": {},
   "outputs": [],
   "source": [
    "a[:] = 999"
   ]
  },
  {
   "cell_type": "code",
   "execution_count": 67,
   "id": "fc72a399-35c5-472e-b1d6-eb132135a63d",
   "metadata": {},
   "outputs": [
    {
     "data": {
      "text/plain": [
       "array([999, 999, 999, 999, 999, 999, 999, 999, 999, 999])"
      ]
     },
     "execution_count": 67,
     "metadata": {},
     "output_type": "execute_result"
    }
   ],
   "source": [
    "a"
   ]
  },
  {
   "cell_type": "code",
   "execution_count": 69,
   "id": "51861b9f-5084-4930-8f4e-8bc6920ac762",
   "metadata": {},
   "outputs": [],
   "source": [
    "arr = np.array([10, 20, 30, 40, 50])"
   ]
  },
  {
   "cell_type": "code",
   "execution_count": 70,
   "id": "96b14717-7a7d-4fe2-9a0a-53913abaeb0b",
   "metadata": {},
   "outputs": [
    {
     "data": {
      "text/plain": [
       "np.int64(10)"
      ]
     },
     "execution_count": 70,
     "metadata": {},
     "output_type": "execute_result"
    }
   ],
   "source": [
    "arr[0]"
   ]
  },
  {
   "cell_type": "code",
   "execution_count": 71,
   "id": "e3abc408-9387-45ec-be8d-20069fdfb8d9",
   "metadata": {},
   "outputs": [
    {
     "data": {
      "text/plain": [
       "np.int64(30)"
      ]
     },
     "execution_count": 71,
     "metadata": {},
     "output_type": "execute_result"
    }
   ],
   "source": [
    "arr[2]"
   ]
  },
  {
   "cell_type": "code",
   "execution_count": 72,
   "id": "67c18635-120c-4746-a09e-bc0dc9e52de1",
   "metadata": {},
   "outputs": [
    {
     "data": {
      "text/plain": [
       "np.int64(50)"
      ]
     },
     "execution_count": 72,
     "metadata": {},
     "output_type": "execute_result"
    }
   ],
   "source": [
    "arr[-1]"
   ]
  },
  {
   "cell_type": "code",
   "execution_count": 75,
   "id": "0de89743-e7ae-4dfc-81a1-ab6fc32e7af5",
   "metadata": {},
   "outputs": [
    {
     "data": {
      "text/plain": [
       "array([ 10, 200,  30,  40,  50])"
      ]
     },
     "execution_count": 75,
     "metadata": {},
     "output_type": "execute_result"
    }
   ],
   "source": [
    "arr[1] = 200\n",
    "arr"
   ]
  },
  {
   "cell_type": "code",
   "execution_count": 76,
   "id": "da0ae3cb-fc34-4217-90a2-8410c0dcd47b",
   "metadata": {},
   "outputs": [
    {
     "data": {
      "text/plain": [
       "array([ 10, 200,  30, 999,  50])"
      ]
     },
     "execution_count": 76,
     "metadata": {},
     "output_type": "execute_result"
    }
   ],
   "source": [
    "arr[3] = 999\n",
    "arr"
   ]
  },
  {
   "cell_type": "code",
   "execution_count": 77,
   "id": "e5efae10-6b4d-49f5-95f7-d0181c7e6d2e",
   "metadata": {},
   "outputs": [],
   "source": [
    "arr = np.array(['가', '나', '다', '라', '마'])"
   ]
  },
  {
   "cell_type": "code",
   "execution_count": 79,
   "id": "67c0da00-cede-4682-80b3-86835497ac46",
   "metadata": {},
   "outputs": [
    {
     "data": {
      "text/plain": [
       "np.str_('나')"
      ]
     },
     "execution_count": 79,
     "metadata": {},
     "output_type": "execute_result"
    }
   ],
   "source": [
    "arr[1]"
   ]
  },
  {
   "cell_type": "code",
   "execution_count": 80,
   "id": "f99293da-8ee3-47bd-91a5-1b70efbdb3f3",
   "metadata": {},
   "outputs": [
    {
     "data": {
      "text/plain": [
       "np.str_('라')"
      ]
     },
     "execution_count": 80,
     "metadata": {},
     "output_type": "execute_result"
    }
   ],
   "source": [
    "arr[3]"
   ]
  },
  {
   "cell_type": "code",
   "execution_count": 81,
   "id": "5475dfd3-a6a4-4099-beb0-ff417ad0de61",
   "metadata": {},
   "outputs": [
    {
     "data": {
      "text/plain": [
       "np.str_('마')"
      ]
     },
     "execution_count": 81,
     "metadata": {},
     "output_type": "execute_result"
    }
   ],
   "source": [
    "arr[-1]"
   ]
  },
  {
   "cell_type": "code",
   "execution_count": 88,
   "id": "d0a0679d-8f3e-4a36-b24c-74a1cde35a56",
   "metadata": {},
   "outputs": [
    {
     "data": {
      "text/plain": [
       "array(['하', '나', '호', '라', '마'], dtype='<U1')"
      ]
     },
     "execution_count": 88,
     "metadata": {},
     "output_type": "execute_result"
    }
   ],
   "source": [
    "arr[0] = '하'\n",
    "arr"
   ]
  },
  {
   "cell_type": "code",
   "execution_count": 89,
   "id": "70cf07ea-0408-4894-acf8-29041b974ca2",
   "metadata": {},
   "outputs": [
    {
     "data": {
      "text/plain": [
       "array(['하', '나', '호', '라', '마'], dtype='<U1')"
      ]
     },
     "execution_count": 89,
     "metadata": {},
     "output_type": "execute_result"
    }
   ],
   "source": [
    "arr[2] = '호'\n",
    "arr"
   ]
  },
  {
   "cell_type": "code",
   "execution_count": 90,
   "id": "70f47292-df36-4fdf-a842-f7a7f837ef34",
   "metadata": {},
   "outputs": [],
   "source": [
    "arr = np.array([10, 20, 30, 40, 50, 60, 70])"
   ]
  },
  {
   "cell_type": "code",
   "execution_count": 92,
   "id": "fc84bf99-cb17-412b-8e80-5dc32258f2ce",
   "metadata": {},
   "outputs": [
    {
     "data": {
      "text/plain": [
       "array([10, 20, 30])"
      ]
     },
     "execution_count": 92,
     "metadata": {},
     "output_type": "execute_result"
    }
   ],
   "source": [
    "arr[:3]"
   ]
  },
  {
   "cell_type": "code",
   "execution_count": 94,
   "id": "5099e8fe-18d9-4f75-8d82-663ce44a54a1",
   "metadata": {},
   "outputs": [
    {
     "data": {
      "text/plain": [
       "array([40, 50, 60, 70])"
      ]
     },
     "execution_count": 94,
     "metadata": {},
     "output_type": "execute_result"
    }
   ],
   "source": [
    "arr[3:]"
   ]
  },
  {
   "cell_type": "code",
   "execution_count": 96,
   "id": "ae2aab88-698b-4c22-b6de-5755b4b065ab",
   "metadata": {},
   "outputs": [
    {
     "data": {
      "text/plain": [
       "array([20, 30, 40, 50])"
      ]
     },
     "execution_count": 96,
     "metadata": {},
     "output_type": "execute_result"
    }
   ],
   "source": [
    "arr[1:5]"
   ]
  },
  {
   "cell_type": "code",
   "execution_count": 97,
   "id": "e0190a15-4081-46e6-bd92-c1429061a9ac",
   "metadata": {},
   "outputs": [],
   "source": [
    "arr = np.array(['a', 'b', 'c', 'd', 'e', 'f', 'g'])"
   ]
  },
  {
   "cell_type": "code",
   "execution_count": 99,
   "id": "5934c798-3fb9-4d65-8fd2-0989be268c16",
   "metadata": {},
   "outputs": [
    {
     "data": {
      "text/plain": [
       "array(['a', 'b', 'c'], dtype='<U1')"
      ]
     },
     "execution_count": 99,
     "metadata": {},
     "output_type": "execute_result"
    }
   ],
   "source": [
    "arr[:3]"
   ]
  },
  {
   "cell_type": "code",
   "execution_count": 101,
   "id": "4073b64e-98bd-4093-a778-5235941336a6",
   "metadata": {},
   "outputs": [
    {
     "data": {
      "text/plain": [
       "array(['d', 'e', 'f', 'g'], dtype='<U1')"
      ]
     },
     "execution_count": 101,
     "metadata": {},
     "output_type": "execute_result"
    }
   ],
   "source": [
    "arr[3:]"
   ]
  },
  {
   "cell_type": "code",
   "execution_count": 103,
   "id": "db8fd56d-16ae-4959-b210-4c25f350ffd1",
   "metadata": {},
   "outputs": [
    {
     "data": {
      "text/plain": [
       "array(['b', 'c', 'd', 'e'], dtype='<U1')"
      ]
     },
     "execution_count": 103,
     "metadata": {},
     "output_type": "execute_result"
    }
   ],
   "source": [
    "arr[1:5]"
   ]
  },
  {
   "cell_type": "code",
   "execution_count": 104,
   "id": "0968c751-725b-4baa-8a40-c7b55e435eb5",
   "metadata": {},
   "outputs": [],
   "source": [
    "arr = np.array([[1, 2, 3], [4, 5, 6], [7, 8, 9]])"
   ]
  },
  {
   "cell_type": "code",
   "execution_count": 111,
   "id": "71bee618-7afb-4cd8-83da-b03c105f685e",
   "metadata": {},
   "outputs": [
    {
     "data": {
      "text/plain": [
       "np.int64(9)"
      ]
     },
     "execution_count": 111,
     "metadata": {},
     "output_type": "execute_result"
    }
   ],
   "source": [
    "arr[2][2]"
   ]
  },
  {
   "cell_type": "code",
   "execution_count": 130,
   "id": "7dda7d42-51d2-4508-ab58-a1f8d1beff92",
   "metadata": {},
   "outputs": [
    {
     "data": {
      "text/plain": [
       "array([[5, 6],\n",
       "       [8, 9]])"
      ]
     },
     "execution_count": 130,
     "metadata": {},
     "output_type": "execute_result"
    }
   ],
   "source": [
    "arr[1:3, 1:3]"
   ]
  },
  {
   "cell_type": "code",
   "execution_count": 132,
   "id": "bd1df55d-9751-41cd-9cf0-3f36a3bc294a",
   "metadata": {},
   "outputs": [],
   "source": [
    "arr = np.array([[10, 20, 30], [40, 50, 60], [70, 80, 90]])"
   ]
  },
  {
   "cell_type": "code",
   "execution_count": 134,
   "id": "99b400c6-bdca-4ff5-a9ae-ab1634e24f69",
   "metadata": {},
   "outputs": [
    {
     "data": {
      "text/plain": [
       "np.int64(20)"
      ]
     },
     "execution_count": 134,
     "metadata": {},
     "output_type": "execute_result"
    }
   ],
   "source": [
    "arr[0,1]"
   ]
  },
  {
   "cell_type": "code",
   "execution_count": 136,
   "id": "fd49daa9-2d66-4e89-bb85-d97b8ed95b6b",
   "metadata": {},
   "outputs": [
    {
     "data": {
      "text/plain": [
       "np.int64(70)"
      ]
     },
     "execution_count": 136,
     "metadata": {},
     "output_type": "execute_result"
    }
   ],
   "source": [
    "arr[2,0]"
   ]
  },
  {
   "cell_type": "code",
   "execution_count": 138,
   "id": "478f284c-8ac2-49c4-98bd-bac3d53cbbe8",
   "metadata": {},
   "outputs": [
    {
     "data": {
      "text/plain": [
       "array([40, 50, 60])"
      ]
     },
     "execution_count": 138,
     "metadata": {},
     "output_type": "execute_result"
    }
   ],
   "source": [
    "arr[1]"
   ]
  },
  {
   "cell_type": "code",
   "execution_count": 142,
   "id": "2bc993ef-01cc-413e-89b1-bd0344dad65a",
   "metadata": {},
   "outputs": [
    {
     "data": {
      "text/plain": [
       "array([20, 50, 80])"
      ]
     },
     "execution_count": 142,
     "metadata": {},
     "output_type": "execute_result"
    }
   ],
   "source": [
    "arr[:,1]"
   ]
  },
  {
   "cell_type": "code",
   "execution_count": 144,
   "id": "c872ba7c-8ef3-402c-9fb3-b7dc61786b6f",
   "metadata": {},
   "outputs": [],
   "source": [
    "arr[0,2] = 300"
   ]
  },
  {
   "cell_type": "code",
   "execution_count": 145,
   "id": "9bbb8ea8-783c-4476-a98d-ac073a857729",
   "metadata": {},
   "outputs": [
    {
     "data": {
      "text/plain": [
       "array([[ 10,  20, 300],\n",
       "       [ 40,  50,  60],\n",
       "       [ 70,  80,  90]])"
      ]
     },
     "execution_count": 145,
     "metadata": {},
     "output_type": "execute_result"
    }
   ],
   "source": [
    "arr"
   ]
  },
  {
   "cell_type": "code",
   "execution_count": 146,
   "id": "04a03a69-e7ea-40d5-9142-eb84e6f89bd7",
   "metadata": {},
   "outputs": [],
   "source": [
    "arr = np.array([[1, 2, 3, 4], [5, 6, 7, 8], [9, 10, 11, 12], [13, 14, 15, 16]])"
   ]
  },
  {
   "cell_type": "code",
   "execution_count": 147,
   "id": "3a368e59-d34e-4086-9ec1-829ad432feaa",
   "metadata": {},
   "outputs": [
    {
     "data": {
      "text/plain": [
       "np.int64(7)"
      ]
     },
     "execution_count": 147,
     "metadata": {},
     "output_type": "execute_result"
    }
   ],
   "source": [
    "arr[1, 2]"
   ]
  },
  {
   "cell_type": "code",
   "execution_count": 148,
   "id": "118ecf8a-cdae-4c19-89ef-a1f431348370",
   "metadata": {},
   "outputs": [
    {
     "data": {
      "text/plain": [
       "np.int64(13)"
      ]
     },
     "execution_count": 148,
     "metadata": {},
     "output_type": "execute_result"
    }
   ],
   "source": [
    "arr[3, 0]"
   ]
  },
  {
   "cell_type": "code",
   "execution_count": 150,
   "id": "b8637993-9a15-499b-97b0-8a7872074438",
   "metadata": {},
   "outputs": [
    {
     "data": {
      "text/plain": [
       "array([ 9, 10, 11, 12])"
      ]
     },
     "execution_count": 150,
     "metadata": {},
     "output_type": "execute_result"
    }
   ],
   "source": [
    "arr[2]"
   ]
  },
  {
   "cell_type": "code",
   "execution_count": 151,
   "id": "ae389a7c-5c49-4d05-a771-951be59c7ddb",
   "metadata": {},
   "outputs": [
    {
     "data": {
      "text/plain": [
       "array([ 4,  8, 12, 16])"
      ]
     },
     "execution_count": 151,
     "metadata": {},
     "output_type": "execute_result"
    }
   ],
   "source": [
    "arr[:, 3]"
   ]
  },
  {
   "cell_type": "code",
   "execution_count": 153,
   "id": "34b5cf7c-93fa-48a7-bdf6-5527dd62554f",
   "metadata": {},
   "outputs": [],
   "source": [
    "arr[0, 3] = 100"
   ]
  },
  {
   "cell_type": "code",
   "execution_count": 154,
   "id": "a2c2b49e-d8f0-4502-ae07-ae96df9481ff",
   "metadata": {},
   "outputs": [
    {
     "data": {
      "text/plain": [
       "array([[  1,   2,   3, 100],\n",
       "       [  5,   6,   7,   8],\n",
       "       [  9,  10,  11,  12],\n",
       "       [ 13,  14,  15,  16]])"
      ]
     },
     "execution_count": 154,
     "metadata": {},
     "output_type": "execute_result"
    }
   ],
   "source": [
    "arr"
   ]
  },
  {
   "cell_type": "code",
   "execution_count": 155,
   "id": "1f661879-c902-40aa-a9a4-2fef7cd03c04",
   "metadata": {},
   "outputs": [],
   "source": [
    "arr = np.array([[10, 20, 30], [40, 50, 60], [70, 80, 90]])"
   ]
  },
  {
   "cell_type": "code",
   "execution_count": 157,
   "id": "501026e1-6d54-403d-9db5-b91ccbca6ddb",
   "metadata": {},
   "outputs": [
    {
     "data": {
      "text/plain": [
       "array([10, 20])"
      ]
     },
     "execution_count": 157,
     "metadata": {},
     "output_type": "execute_result"
    }
   ],
   "source": [
    "arr[0,:2]"
   ]
  },
  {
   "cell_type": "code",
   "execution_count": 163,
   "id": "ceefbe74-968c-4b2e-8272-57e173403138",
   "metadata": {},
   "outputs": [
    {
     "data": {
      "text/plain": [
       "array([[40, 50, 60],\n",
       "       [70, 80, 90]])"
      ]
     },
     "execution_count": 163,
     "metadata": {},
     "output_type": "execute_result"
    }
   ],
   "source": [
    "arr[1:]"
   ]
  },
  {
   "cell_type": "code",
   "execution_count": 164,
   "id": "e22b9b09-b7eb-4e75-81ff-eaa6c0f93a5b",
   "metadata": {},
   "outputs": [
    {
     "data": {
      "text/plain": [
       "array([[20, 30],\n",
       "       [50, 60],\n",
       "       [80, 90]])"
      ]
     },
     "execution_count": 164,
     "metadata": {},
     "output_type": "execute_result"
    }
   ],
   "source": [
    "arr[:, 1:]"
   ]
  },
  {
   "cell_type": "code",
   "execution_count": 165,
   "id": "8e99ec23-5097-4d0f-b04a-b1130dc3ac42",
   "metadata": {},
   "outputs": [],
   "source": [
    "student = np.array(['철수', '영희', '민수', '철수', '철수'])\n",
    "books = np.array([['수학의 정석', 7], ['해리포터', 10], ['파이썬 입문', 5], ['한국사', 5], ['데미안', 12]])"
   ]
  },
  {
   "cell_type": "code",
   "execution_count": 169,
   "id": "cdf9e182-e280-4195-9f6e-8e3c20cbdcb9",
   "metadata": {},
   "outputs": [],
   "source": [
    "arr = (student == '철수')"
   ]
  },
  {
   "cell_type": "code",
   "execution_count": 171,
   "id": "a8f2b36e-75bc-42b6-9c44-5906a206a0c1",
   "metadata": {},
   "outputs": [
    {
     "data": {
      "text/plain": [
       "array([['수학의 정석', '7'],\n",
       "       ['한국사', '5'],\n",
       "       ['데미안', '12']], dtype='<U21')"
      ]
     },
     "execution_count": 171,
     "metadata": {},
     "output_type": "execute_result"
    }
   ],
   "source": [
    "books[arr]"
   ]
  },
  {
   "cell_type": "code",
   "execution_count": 172,
   "id": "3ca7535c-a1f9-4d3e-9c3d-07f3341a2e98",
   "metadata": {},
   "outputs": [],
   "source": [
    "arr = (student != '철수')"
   ]
  },
  {
   "cell_type": "code",
   "execution_count": 173,
   "id": "9204713b-9def-4765-b011-475ed406cf8c",
   "metadata": {},
   "outputs": [
    {
     "data": {
      "text/plain": [
       "array([['해리포터', '10'],\n",
       "       ['파이썬 입문', '5']], dtype='<U21')"
      ]
     },
     "execution_count": 173,
     "metadata": {},
     "output_type": "execute_result"
    }
   ],
   "source": [
    "books[arr]"
   ]
  },
  {
   "cell_type": "code",
   "execution_count": 174,
   "id": "e20b664f-a512-4209-9122-ad80658ef82c",
   "metadata": {},
   "outputs": [
    {
     "data": {
      "text/plain": [
       "array([[ True, False],\n",
       "       [False, False],\n",
       "       [False, False],\n",
       "       [False, False],\n",
       "       [False, False]])"
      ]
     },
     "execution_count": 174,
     "metadata": {},
     "output_type": "execute_result"
    }
   ],
   "source": [
    "books == '수학의 정석'"
   ]
  },
  {
   "cell_type": "code",
   "execution_count": 177,
   "id": "e4d1e708-19f8-4eee-bacf-3318ff20a35f",
   "metadata": {},
   "outputs": [],
   "source": [
    "books[books=='수학의 정석'] = '자바의 정석'"
   ]
  },
  {
   "cell_type": "code",
   "execution_count": 178,
   "id": "7e36fdac-c9b9-428a-8f76-ef5772a3871a",
   "metadata": {},
   "outputs": [
    {
     "data": {
      "text/plain": [
       "array([['자바의 정석', '7'],\n",
       "       ['해리포터', '10'],\n",
       "       ['파이썬 입문', '5'],\n",
       "       ['한국사', '5'],\n",
       "       ['데미안', '12']], dtype='<U21')"
      ]
     },
     "execution_count": 178,
     "metadata": {},
     "output_type": "execute_result"
    }
   ],
   "source": [
    "books"
   ]
  },
  {
   "cell_type": "code",
   "execution_count": 179,
   "id": "70637aef-f7a2-47e2-94b8-fc9c77cd6ccc",
   "metadata": {},
   "outputs": [],
   "source": [
    "books[student != '철수'] = 7"
   ]
  },
  {
   "cell_type": "code",
   "execution_count": 180,
   "id": "7d140e13-a365-4a4f-9218-44448e39e3bd",
   "metadata": {
    "scrolled": true
   },
   "outputs": [
    {
     "data": {
      "text/plain": [
       "array([['자바의 정석', '7'],\n",
       "       ['7', '7'],\n",
       "       ['7', '7'],\n",
       "       ['한국사', '5'],\n",
       "       ['데미안', '12']], dtype='<U21')"
      ]
     },
     "execution_count": 180,
     "metadata": {},
     "output_type": "execute_result"
    }
   ],
   "source": [
    "books"
   ]
  },
  {
   "cell_type": "code",
   "execution_count": 192,
   "id": "7fa2e55b-6e42-4839-b702-860a66fb0a53",
   "metadata": {},
   "outputs": [],
   "source": [
    "arr = np.array([10, 20, 30, 40, 50, 60, 70])"
   ]
  },
  {
   "cell_type": "code",
   "execution_count": 193,
   "id": "cb2f943e-7c85-48a4-b4d8-b949f2505d1f",
   "metadata": {},
   "outputs": [
    {
     "data": {
      "text/plain": [
       "array([40, 50, 60, 70])"
      ]
     },
     "execution_count": 193,
     "metadata": {},
     "output_type": "execute_result"
    }
   ],
   "source": [
    "arr[arr > 30]"
   ]
  },
  {
   "cell_type": "code",
   "execution_count": 194,
   "id": "fdd25cfd-246d-4044-acfd-177bfdaf4da5",
   "metadata": {},
   "outputs": [
    {
     "data": {
      "text/plain": [
       "array([10, 20, 30, 40, 50, 60, 70])"
      ]
     },
     "execution_count": 194,
     "metadata": {},
     "output_type": "execute_result"
    }
   ],
   "source": [
    "arr[arr % 2 == 0]"
   ]
  },
  {
   "cell_type": "code",
   "execution_count": 195,
   "id": "37d659ce-c72f-441c-8f47-5aa8530d8ca4",
   "metadata": {},
   "outputs": [],
   "source": [
    "arr[arr > 50] = 999"
   ]
  },
  {
   "cell_type": "code",
   "execution_count": 196,
   "id": "68074ad8-fcb8-4bea-9e02-8749ca47ebb1",
   "metadata": {},
   "outputs": [
    {
     "data": {
      "text/plain": [
       "array([ 10,  20,  30,  40,  50, 999, 999])"
      ]
     },
     "execution_count": 196,
     "metadata": {},
     "output_type": "execute_result"
    }
   ],
   "source": [
    "arr"
   ]
  },
  {
   "cell_type": "code",
   "execution_count": 204,
   "id": "f8db9b2f-344b-4752-85bd-0620808fe738",
   "metadata": {},
   "outputs": [],
   "source": [
    "employees = np.array(['짱구', '철수', '유리', '맹구', '훈이'])\n",
    "salaries = np.array([250, 320, 280, 400, 150])"
   ]
  },
  {
   "cell_type": "code",
   "execution_count": 205,
   "id": "a43bd20b-f802-441d-9b05-5fd34ea05383",
   "metadata": {},
   "outputs": [
    {
     "data": {
      "text/plain": [
       "array([400])"
      ]
     },
     "execution_count": 205,
     "metadata": {},
     "output_type": "execute_result"
    }
   ],
   "source": [
    "salaries[employees == '맹구']"
   ]
  },
  {
   "cell_type": "code",
   "execution_count": 206,
   "id": "6d868881-652b-4efa-8b9e-0919ae267ac1",
   "metadata": {},
   "outputs": [
    {
     "data": {
      "text/plain": [
       "array(['철수', '맹구'], dtype='<U2')"
      ]
     },
     "execution_count": 206,
     "metadata": {},
     "output_type": "execute_result"
    }
   ],
   "source": [
    "employees[salaries > 300]"
   ]
  },
  {
   "cell_type": "code",
   "execution_count": 208,
   "id": "e0dd1fe5-85fe-40dc-94b7-6abb12ba2c97",
   "metadata": {},
   "outputs": [],
   "source": [
    "salaries[salaries < 200] = 200"
   ]
  },
  {
   "cell_type": "code",
   "execution_count": 209,
   "id": "48c234ec-adcd-4411-a148-0cc6a7e531dd",
   "metadata": {},
   "outputs": [
    {
     "data": {
      "text/plain": [
       "array([250, 320, 280, 400, 200])"
      ]
     },
     "execution_count": 209,
     "metadata": {},
     "output_type": "execute_result"
    }
   ],
   "source": [
    "salaries"
   ]
  },
  {
   "cell_type": "code",
   "execution_count": 211,
   "id": "7f4c618a-652c-4730-9df3-57e51e188022",
   "metadata": {},
   "outputs": [],
   "source": [
    "arr = np.arange(1, 10).reshape(3, 3)"
   ]
  },
  {
   "cell_type": "code",
   "execution_count": 212,
   "id": "51283af2-ff78-4554-a01c-dbaac936d82d",
   "metadata": {},
   "outputs": [
    {
     "data": {
      "text/plain": [
       "array([[1, 2, 3],\n",
       "       [4, 5, 6],\n",
       "       [7, 8, 9]])"
      ]
     },
     "execution_count": 212,
     "metadata": {},
     "output_type": "execute_result"
    }
   ],
   "source": [
    "arr"
   ]
  },
  {
   "cell_type": "code",
   "execution_count": 213,
   "id": "9dd9ba0b-9ad4-4ac4-828a-afeaf7f4f8a4",
   "metadata": {},
   "outputs": [],
   "source": [
    "a = np.arange(1, 17).reshape(4, 4)"
   ]
  },
  {
   "cell_type": "code",
   "execution_count": 214,
   "id": "49030ef6-0b56-4841-900c-c9110c6356ae",
   "metadata": {},
   "outputs": [
    {
     "data": {
      "text/plain": [
       "array([[ 1,  2,  3,  4],\n",
       "       [ 5,  6,  7,  8],\n",
       "       [ 9, 10, 11, 12],\n",
       "       [13, 14, 15, 16]])"
      ]
     },
     "execution_count": 214,
     "metadata": {},
     "output_type": "execute_result"
    }
   ],
   "source": [
    "a"
   ]
  },
  {
   "cell_type": "code",
   "execution_count": 215,
   "id": "d1d9db00-f1e9-4b71-acb0-ccba76c186bb",
   "metadata": {},
   "outputs": [],
   "source": [
    "a = np.arange(1, 13).reshape(3, 4)"
   ]
  },
  {
   "cell_type": "code",
   "execution_count": 216,
   "id": "7482fe84-9aac-436c-9ef9-59154dc12d83",
   "metadata": {},
   "outputs": [
    {
     "data": {
      "text/plain": [
       "array([[ 1,  2,  3,  4],\n",
       "       [ 5,  6,  7,  8],\n",
       "       [ 9, 10, 11, 12]])"
      ]
     },
     "execution_count": 216,
     "metadata": {},
     "output_type": "execute_result"
    }
   ],
   "source": [
    "a"
   ]
  },
  {
   "cell_type": "code",
   "execution_count": 217,
   "id": "79dfda85-2f42-44f0-b66f-71de98cf5267",
   "metadata": {},
   "outputs": [],
   "source": [
    "num = np.arange(12).reshape(3, 4)"
   ]
  },
  {
   "cell_type": "code",
   "execution_count": 218,
   "id": "a3561705-aea7-4df3-8b27-c0667fefcd84",
   "metadata": {},
   "outputs": [
    {
     "data": {
      "text/plain": [
       "array([[ 0,  1,  2,  3],\n",
       "       [ 4,  5,  6,  7],\n",
       "       [ 8,  9, 10, 11]])"
      ]
     },
     "execution_count": 218,
     "metadata": {},
     "output_type": "execute_result"
    }
   ],
   "source": [
    "num"
   ]
  },
  {
   "cell_type": "code",
   "execution_count": 219,
   "id": "1947e591-13df-497f-9beb-628d780984c8",
   "metadata": {},
   "outputs": [],
   "source": [
    "num = np.arange(1, 17).reshape(4, 4)"
   ]
  },
  {
   "cell_type": "code",
   "execution_count": 220,
   "id": "5afa94de-fd53-4bed-807d-a2bc9fa1d246",
   "metadata": {},
   "outputs": [
    {
     "data": {
      "text/plain": [
       "array([[ 1,  2,  3,  4],\n",
       "       [ 5,  6,  7,  8],\n",
       "       [ 9, 10, 11, 12],\n",
       "       [13, 14, 15, 16]])"
      ]
     },
     "execution_count": 220,
     "metadata": {},
     "output_type": "execute_result"
    }
   ],
   "source": [
    "num"
   ]
  },
  {
   "cell_type": "code",
   "execution_count": 222,
   "id": "0bba8f8d-5ac3-4fec-8029-475a5181ef85",
   "metadata": {},
   "outputs": [],
   "source": [
    "num = np.arange(1, 21).reshape(5, 4)"
   ]
  },
  {
   "cell_type": "code",
   "execution_count": 223,
   "id": "a96d6e57-8a0f-4d87-b7ec-64f3000be9fd",
   "metadata": {},
   "outputs": [
    {
     "data": {
      "text/plain": [
       "array([[ 1,  2,  3,  4],\n",
       "       [ 5,  6,  7,  8],\n",
       "       [ 9, 10, 11, 12],\n",
       "       [13, 14, 15, 16],\n",
       "       [17, 18, 19, 20]])"
      ]
     },
     "execution_count": 223,
     "metadata": {},
     "output_type": "execute_result"
    }
   ],
   "source": [
    "num"
   ]
  },
  {
   "cell_type": "code",
   "execution_count": 224,
   "id": "3aa52ae6-f50b-4493-b61c-d24912cec089",
   "metadata": {},
   "outputs": [],
   "source": [
    "num = np.arange(10, 26).reshape(4, 4)"
   ]
  },
  {
   "cell_type": "code",
   "execution_count": 225,
   "id": "d20ea894-77b8-44cd-93f0-8f441f177388",
   "metadata": {},
   "outputs": [
    {
     "data": {
      "text/plain": [
       "array([[10, 11, 12, 13],\n",
       "       [14, 15, 16, 17],\n",
       "       [18, 19, 20, 21],\n",
       "       [22, 23, 24, 25]])"
      ]
     },
     "execution_count": 225,
     "metadata": {},
     "output_type": "execute_result"
    }
   ],
   "source": [
    "num"
   ]
  },
  {
   "cell_type": "code",
   "execution_count": 226,
   "id": "c267794c-a9a9-4c66-a428-39f2e2895602",
   "metadata": {},
   "outputs": [
    {
     "data": {
      "text/plain": [
       "array([ 0.29791272, -1.59053127,  1.36394172,  0.25299262,  0.37432476,\n",
       "        1.21303561, -0.26947192,  0.17362925,  0.08561062, -0.19451813])"
      ]
     },
     "execution_count": 226,
     "metadata": {},
     "output_type": "execute_result"
    }
   ],
   "source": [
    "arr = np.random.standard_normal(size=10)\n",
    "arr"
   ]
  },
  {
   "cell_type": "code",
   "execution_count": 228,
   "id": "ac749416-b216-4270-8b11-0c23431890b0",
   "metadata": {},
   "outputs": [
    {
     "data": {
      "text/plain": [
       "array([0.91602895, 0.62716271, 0.0840314 , 0.95837778, 0.87998281,\n",
       "       0.29541426, 0.0443962 , 0.95974353, 0.13620678, 0.11002092])"
      ]
     },
     "execution_count": 228,
     "metadata": {},
     "output_type": "execute_result"
    }
   ],
   "source": [
    "arr = np.random.uniform(size=10)\n",
    "arr"
   ]
  },
  {
   "cell_type": "code",
   "execution_count": 229,
   "id": "a26aa729-dc71-4390-9dc0-126b185c69ab",
   "metadata": {},
   "outputs": [
    {
     "data": {
      "text/plain": [
       "array([ 0.65072168,  0.99788254, -0.04802285, -0.79158754,  0.86090958])"
      ]
     },
     "execution_count": 229,
     "metadata": {},
     "output_type": "execute_result"
    }
   ],
   "source": [
    "arr = np.random.standard_normal(size=5)\n",
    "arr"
   ]
  },
  {
   "cell_type": "code",
   "execution_count": 231,
   "id": "313978a0-4e8f-49ff-aaa8-089191dc5771",
   "metadata": {},
   "outputs": [
    {
     "data": {
      "text/plain": [
       "array([0.27420189, 0.61995504, 0.10872515, 0.53100443, 0.73895028])"
      ]
     },
     "execution_count": 231,
     "metadata": {},
     "output_type": "execute_result"
    }
   ],
   "source": [
    "arr = np.random.uniform(size=5)\n",
    "arr"
   ]
  },
  {
   "cell_type": "code",
   "execution_count": 235,
   "id": "b35749b1-3fad-4805-addb-bf5f58c8ff26",
   "metadata": {},
   "outputs": [
    {
     "data": {
      "text/plain": [
       "array([0, 1, 2, 3, 4, 5, 6, 7, 8, 9])"
      ]
     },
     "execution_count": 235,
     "metadata": {},
     "output_type": "execute_result"
    }
   ],
   "source": [
    "arr = np.arange(10)\n",
    "arr"
   ]
  },
  {
   "cell_type": "code",
   "execution_count": 237,
   "id": "dfbc29ab-7a79-484d-9ba5-7b625ecdc5c1",
   "metadata": {},
   "outputs": [
    {
     "data": {
      "text/plain": [
       "array([ 3,  4,  5,  6,  7,  8,  9, 10, 11, 12])"
      ]
     },
     "execution_count": 237,
     "metadata": {},
     "output_type": "execute_result"
    }
   ],
   "source": [
    "np.add(arr, 3)"
   ]
  },
  {
   "cell_type": "code",
   "execution_count": 240,
   "id": "498696dc-1570-4490-85cb-700b5db1c819",
   "metadata": {},
   "outputs": [],
   "source": [
    "a = np.array([5, 3, 7, 4, 10])\n",
    "b = np.array([3, 4, 5, 6, 7])"
   ]
  },
  {
   "cell_type": "code",
   "execution_count": 241,
   "id": "a3d7e0fb-d8a5-4764-9792-8ffa16bb2ed7",
   "metadata": {},
   "outputs": [
    {
     "data": {
      "text/plain": [
       "array([ 5,  4,  7,  6, 10])"
      ]
     },
     "execution_count": 241,
     "metadata": {},
     "output_type": "execute_result"
    }
   ],
   "source": [
    "np.maximum(a, b)"
   ]
  },
  {
   "cell_type": "code",
   "execution_count": 243,
   "id": "c1ef6fab-7fe3-4709-876d-9a7e1eee9ad4",
   "metadata": {},
   "outputs": [],
   "source": [
    "a = np.array([1, 2, 3])\n",
    "b = np.array([10, 20, 30])\n",
    "cond = np.array([True, True, False])"
   ]
  },
  {
   "cell_type": "code",
   "execution_count": 244,
   "id": "01673886-62c5-4eff-85ad-2c98dbd99800",
   "metadata": {},
   "outputs": [
    {
     "data": {
      "text/plain": [
       "array([ 1,  2, 30])"
      ]
     },
     "execution_count": 244,
     "metadata": {},
     "output_type": "execute_result"
    }
   ],
   "source": [
    "np.where(cond, a, b)"
   ]
  },
  {
   "cell_type": "code",
   "execution_count": 247,
   "id": "2920aae4-f9cb-4c65-aaf4-33ba7a9c75a9",
   "metadata": {},
   "outputs": [
    {
     "data": {
      "text/plain": [
       "array(['x', 'x', 'x', 'o', 'o'], dtype='<U1')"
      ]
     },
     "execution_count": 247,
     "metadata": {},
     "output_type": "execute_result"
    }
   ],
   "source": [
    "arr = np.array([-2, -1, 0, 1, 2])\n",
    "np.where(arr > 0, 'o', 'x')"
   ]
  },
  {
   "cell_type": "code",
   "execution_count": 257,
   "id": "0eff7ef1-430b-428f-968f-c348c5dbc5ca",
   "metadata": {},
   "outputs": [
    {
     "data": {
      "text/plain": [
       "array([  0, 100,   0, 100,   0])"
      ]
     },
     "execution_count": 257,
     "metadata": {},
     "output_type": "execute_result"
    }
   ],
   "source": [
    "arr = np.array([5, 12, 7, 20, 3])\n",
    "np.where(arr > 10, 100, 0)"
   ]
  },
  {
   "cell_type": "code",
   "execution_count": 261,
   "id": "7068f97d-5fff-490f-96cb-89543c24f132",
   "metadata": {},
   "outputs": [
    {
     "data": {
      "text/plain": [
       "array([15,  8, 22,  6, 13])"
      ]
     },
     "execution_count": 261,
     "metadata": {},
     "output_type": "execute_result"
    }
   ],
   "source": [
    "arr = np.array([15, 8, 22, 6, 13])\n",
    "arr"
   ]
  },
  {
   "cell_type": "code",
   "execution_count": 262,
   "id": "225a1321-4b4b-477f-8007-39fc6dceed37",
   "metadata": {},
   "outputs": [
    {
     "data": {
      "text/plain": [
       "array([-1,  1,  1,  1, -1])"
      ]
     },
     "execution_count": 262,
     "metadata": {},
     "output_type": "execute_result"
    }
   ],
   "source": [
    "np.where(arr % 2 == 0, 1, -1)"
   ]
  },
  {
   "cell_type": "code",
   "execution_count": 263,
   "id": "024ba218-1876-4582-ae04-5b30990c81b2",
   "metadata": {},
   "outputs": [
    {
     "data": {
      "text/plain": [
       "array([10,  2, 30,  4, 50])"
      ]
     },
     "execution_count": 263,
     "metadata": {},
     "output_type": "execute_result"
    }
   ],
   "source": [
    "a = np.array([10, 20, 30, 40, 50])\n",
    "b = np.array([1, 2, 3, 4, 5])\n",
    "arr = np.array([True, False, True, False, True])\n",
    "np.where(arr, a, b)"
   ]
  },
  {
   "cell_type": "code",
   "execution_count": 264,
   "id": "2e26dcb6-35c2-4c92-864f-492f509eb186",
   "metadata": {},
   "outputs": [
    {
     "data": {
      "text/plain": [
       "[1, 2, 3, 4, 5]"
      ]
     },
     "execution_count": 264,
     "metadata": {},
     "output_type": "execute_result"
    }
   ],
   "source": [
    "lis = [1, 2, 3, 4, 5]\n",
    "lis"
   ]
  },
  {
   "cell_type": "code",
   "execution_count": 269,
   "id": "b33288fa-a7de-40f6-a828-8e1ee412ff14",
   "metadata": {},
   "outputs": [
    {
     "name": "stdout",
     "output_type": "stream",
     "text": [
      "15\n",
      "3.0\n"
     ]
    }
   ],
   "source": [
    "sum = 0\n",
    "for n in lis:\n",
    "    sum = sum + n\n",
    "print(sum)\n",
    "print(sum / len(lis))"
   ]
  },
  {
   "cell_type": "code",
   "execution_count": 276,
   "id": "e2187482-f075-4a52-9ee9-9dc45effc94c",
   "metadata": {},
   "outputs": [
    {
     "name": "stdout",
     "output_type": "stream",
     "text": [
      "15\n",
      "3.0\n",
      "5\n",
      "1\n"
     ]
    }
   ],
   "source": [
    "lis = np.array([1, 2, 3, 4, 5])\n",
    "print(np.sum(lis))\n",
    "print(np.mean(lis))\n",
    "print(np.max(lis))\n",
    "print(np.min(lis))"
   ]
  },
  {
   "cell_type": "code",
   "execution_count": 279,
   "id": "602ed24b-fe42-48b0-a3af-0ee90e6dd559",
   "metadata": {},
   "outputs": [],
   "source": [
    "menu = np.array(['김밥', '라면', '떡볶이', '치킨'])\n",
    "cal = np.array([250, 550, 400, 800])"
   ]
  },
  {
   "cell_type": "code",
   "execution_count": 280,
   "id": "d45a0705-81df-4084-84ba-fe2778fa6d6a",
   "metadata": {},
   "outputs": [
    {
     "data": {
      "text/plain": [
       "np.int64(2000)"
      ]
     },
     "execution_count": 280,
     "metadata": {},
     "output_type": "execute_result"
    }
   ],
   "source": [
    "np.sum(cal)"
   ]
  },
  {
   "cell_type": "code",
   "execution_count": 281,
   "id": "1d4e12ab-b7be-4fc5-b50c-a6fd34d0a532",
   "metadata": {},
   "outputs": [
    {
     "data": {
      "text/plain": [
       "np.float64(500.0)"
      ]
     },
     "execution_count": 281,
     "metadata": {},
     "output_type": "execute_result"
    }
   ],
   "source": [
    "np.mean(cal)"
   ]
  },
  {
   "cell_type": "code",
   "execution_count": 283,
   "id": "99cc9e92-2489-4278-b2c0-4cf43362cf06",
   "metadata": {},
   "outputs": [
    {
     "data": {
      "text/plain": [
       "np.int64(800)"
      ]
     },
     "execution_count": 283,
     "metadata": {},
     "output_type": "execute_result"
    }
   ],
   "source": [
    "np.max(cal)"
   ]
  },
  {
   "cell_type": "code",
   "execution_count": 284,
   "id": "d24309d3-55f4-4395-81f2-327fc2eef93e",
   "metadata": {},
   "outputs": [
    {
     "data": {
      "text/plain": [
       "np.int64(250)"
      ]
     },
     "execution_count": 284,
     "metadata": {},
     "output_type": "execute_result"
    }
   ],
   "source": [
    "np.min(cal)"
   ]
  },
  {
   "cell_type": "code",
   "execution_count": 285,
   "id": "5a9cef74-abe1-4671-a550-3215516ea5ae",
   "metadata": {},
   "outputs": [],
   "source": [
    "day = np.array(['월', '화', '수', '목', '금', '토', '일'])\n",
    "tr_m = np.array([30, 45, 60, 20, 40, 50, 35])"
   ]
  },
  {
   "cell_type": "code",
   "execution_count": 286,
   "id": "d0a24ba6-c8d5-4401-9563-5046a055ecc6",
   "metadata": {},
   "outputs": [
    {
     "data": {
      "text/plain": [
       "np.int64(280)"
      ]
     },
     "execution_count": 286,
     "metadata": {},
     "output_type": "execute_result"
    }
   ],
   "source": [
    "np.sum(tr_m)"
   ]
  },
  {
   "cell_type": "code",
   "execution_count": 288,
   "id": "e2a564e6-db25-4028-bed4-0f304f470f48",
   "metadata": {},
   "outputs": [
    {
     "data": {
      "text/plain": [
       "np.float64(40.0)"
      ]
     },
     "execution_count": 288,
     "metadata": {},
     "output_type": "execute_result"
    }
   ],
   "source": [
    "np.mean(tr_m)"
   ]
  },
  {
   "cell_type": "code",
   "execution_count": 289,
   "id": "4f25af35-43ef-4e92-a9ce-3d013de24501",
   "metadata": {},
   "outputs": [
    {
     "data": {
      "text/plain": [
       "np.int64(60)"
      ]
     },
     "execution_count": 289,
     "metadata": {},
     "output_type": "execute_result"
    }
   ],
   "source": [
    "np.max(tr_m)"
   ]
  },
  {
   "cell_type": "code",
   "execution_count": 291,
   "id": "68280626-0b7e-409a-bcd5-5b80ead479e3",
   "metadata": {},
   "outputs": [
    {
     "data": {
      "text/plain": [
       "np.int64(20)"
      ]
     },
     "execution_count": 291,
     "metadata": {},
     "output_type": "execute_result"
    }
   ],
   "source": [
    "np.min(tr_m)"
   ]
  },
  {
   "cell_type": "code",
   "execution_count": 295,
   "id": "f4725c0b-2876-4d20-9384-214ad8f69400",
   "metadata": {},
   "outputs": [
    {
     "data": {
      "text/plain": [
       "array([[1, 2, 3],\n",
       "       [4, 5, 6],\n",
       "       [7, 8, 9]])"
      ]
     },
     "execution_count": 295,
     "metadata": {},
     "output_type": "execute_result"
    }
   ],
   "source": [
    "arr = np.arange(1, 10).reshape(3,3)\n",
    "arr"
   ]
  },
  {
   "cell_type": "code",
   "execution_count": 298,
   "id": "c7b25a90-be3f-4cf3-b657-86b3b2c11c52",
   "metadata": {},
   "outputs": [
    {
     "data": {
      "text/plain": [
       "np.int64(45)"
      ]
     },
     "execution_count": 298,
     "metadata": {},
     "output_type": "execute_result"
    }
   ],
   "source": [
    "arr.sum()"
   ]
  },
  {
   "cell_type": "code",
   "execution_count": 303,
   "id": "5d48e360-cc1f-49f1-a3f3-51b01558877c",
   "metadata": {},
   "outputs": [
    {
     "name": "stdout",
     "output_type": "stream",
     "text": [
      "[12 15 18]\n",
      "[ 6 15 24]\n"
     ]
    }
   ],
   "source": [
    "# axis=0 세로열, axis=1 가로행\n",
    "print(arr.sum(axis=0))\n",
    "print(arr.sum(axis=1))"
   ]
  },
  {
   "cell_type": "code",
   "execution_count": 304,
   "id": "d2f8eec5-4144-4887-92e0-cfac5229f046",
   "metadata": {},
   "outputs": [
    {
     "name": "stdout",
     "output_type": "stream",
     "text": [
      "[ 1  3  6 10 15]\n"
     ]
    }
   ],
   "source": [
    "arr = np.array([1, 2, 3, 4, 5])\n",
    "print(arr.cumsum())"
   ]
  },
  {
   "cell_type": "code",
   "execution_count": 309,
   "id": "974ba240-8e05-4676-8b15-29aa92872cbd",
   "metadata": {},
   "outputs": [
    {
     "name": "stdout",
     "output_type": "stream",
     "text": [
      "[[0 1 2]\n",
      " [3 4 5]\n",
      " [6 7 8]]\n",
      "[[ 0  1  2]\n",
      " [ 3  5  7]\n",
      " [ 9 12 15]]\n",
      "[[ 0  1  3]\n",
      " [ 3  7 12]\n",
      " [ 6 13 21]]\n"
     ]
    }
   ],
   "source": [
    "arr = np.array([[0, 1, 2], [3, 4, 5], [6, 7, 8]])\n",
    "print(arr)\n",
    "print(arr.cumsum(axis=0))\n",
    "print(arr.cumsum(axis=1))"
   ]
  },
  {
   "cell_type": "code",
   "execution_count": null,
   "id": "c34f5d6d-39cc-49cc-8953-935a94038018",
   "metadata": {},
   "outputs": [],
   "source": []
  },
  {
   "cell_type": "code",
   "execution_count": null,
   "id": "6104af0c-2650-4d70-9b0e-b74f5baf9ede",
   "metadata": {},
   "outputs": [],
   "source": []
  },
  {
   "cell_type": "code",
   "execution_count": null,
   "id": "9f89c299-63ba-4c4a-8a2a-5dbd98f071bf",
   "metadata": {},
   "outputs": [],
   "source": []
  },
  {
   "cell_type": "code",
   "execution_count": null,
   "id": "3514ad4c-5456-4f8b-b04b-c29a03911307",
   "metadata": {},
   "outputs": [],
   "source": []
  }
 ],
 "metadata": {
  "kernelspec": {
   "display_name": "Python 3 (ipykernel)",
   "language": "python",
   "name": "python3"
  },
  "language_info": {
   "codemirror_mode": {
    "name": "ipython",
    "version": 3
   },
   "file_extension": ".py",
   "mimetype": "text/x-python",
   "name": "python",
   "nbconvert_exporter": "python",
   "pygments_lexer": "ipython3",
   "version": "3.10.18"
  },
  "widgets": {
   "application/vnd.jupyter.widget-state+json": {
    "state": {},
    "version_major": 2,
    "version_minor": 0
   }
  }
 },
 "nbformat": 4,
 "nbformat_minor": 5
}
