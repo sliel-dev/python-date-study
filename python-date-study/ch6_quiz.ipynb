{
 "cells": [
  {
   "cell_type": "code",
   "execution_count": 1,
   "id": "24bd6e9f-b8b9-4f44-bd47-73bc9ac3c870",
   "metadata": {},
   "outputs": [],
   "source": [
    "import numpy as np\n",
    "import pandas as pd"
   ]
  },
  {
   "cell_type": "markdown",
   "id": "d73a285a-75e4-4bc3-90e5-83f3f65105f8",
   "metadata": {},
   "source": [
    "# 매출 데이터를 담은 Series를 만들고, 멀티 인덱스를 설정하세요\n",
    "• 인덱스: 지역-지점\n",
    "• 값: 매출\n",
    "서울 전체 매출을 조회하세요\n",
    "부산 해운대점 매출을 조회하세요"
   ]
  },
  {
   "cell_type": "code",
   "execution_count": 2,
   "id": "d0cc9f9c-9e0e-4e13-9903-2ed22ded388b",
   "metadata": {},
   "outputs": [],
   "source": [
    "busan = pd.Series([120, 100, 90, 80],\n",
    "                 index=[['서울', '서울', '부산', '부산'],\n",
    "                        ['강남점', '강북점', '해운대점', '서면점']])"
   ]
  },
  {
   "cell_type": "code",
   "execution_count": 3,
   "id": "adb07df2-0cd0-4738-895b-cf8d8da88bb1",
   "metadata": {},
   "outputs": [
    {
     "data": {
      "text/plain": [
       "강남점    120\n",
       "강북점    100\n",
       "dtype: int64"
      ]
     },
     "execution_count": 3,
     "metadata": {},
     "output_type": "execute_result"
    }
   ],
   "source": [
    "# 서울 전체 매출을 조회하세요\n",
    "busan.loc['서울']"
   ]
  },
  {
   "cell_type": "code",
   "execution_count": 6,
   "id": "60de79c1-e95f-478b-b07d-6b63d1a58a09",
   "metadata": {},
   "outputs": [
    {
     "data": {
      "text/plain": [
       "부산  해운대점    90\n",
       "dtype: int64"
      ]
     },
     "execution_count": 6,
     "metadata": {},
     "output_type": "execute_result"
    }
   ],
   "source": [
    "# 부산 해운대점 매출을 조회하세요\n",
    "busan.loc['부산',['해운대점']]"
   ]
  },
  {
   "cell_type": "markdown",
   "id": "d888fe56-edd1-4069-b46f-22924638d8a5",
   "metadata": {},
   "source": [
    "# 쇼핑몰의 판매량 데이터를 담은 Series를 만들고, 멀티 인덱스을 설정하세요\n",
    "• 인덱스 : 카테고리-상품명\n",
    "• 값: 판매량\n",
    "전자제품 카테고리 전체 판매량을 조회하세요\n",
    "식품 카테고리의 라면 판매량을 조회하세요"
   ]
  },
  {
   "cell_type": "code",
   "execution_count": 7,
   "id": "77a1c78f-53f3-499f-92b2-a649adbad1fe",
   "metadata": {},
   "outputs": [],
   "source": [
    "shop = pd.Series([300, 250, 500, 400],\n",
    "                index=[['전자제품', '전자제품', '식품', '식품'],\n",
    "                      ['노트북', '휴대폰', '라면', '과자']])"
   ]
  },
  {
   "cell_type": "code",
   "execution_count": 8,
   "id": "4cec201b-74a1-4788-8d2f-22d7fe9202b9",
   "metadata": {},
   "outputs": [
    {
     "data": {
      "text/plain": [
       "노트북    300\n",
       "휴대폰    250\n",
       "dtype: int64"
      ]
     },
     "execution_count": 8,
     "metadata": {},
     "output_type": "execute_result"
    }
   ],
   "source": [
    "# 전자제품 카테고리 전체 판매량을 조회하세요\n",
    "shop.loc['전자제품']"
   ]
  },
  {
   "cell_type": "code",
   "execution_count": 10,
   "id": "8e5ff640-4bdc-4e73-bfbb-0b981664bc9c",
   "metadata": {},
   "outputs": [
    {
     "data": {
      "text/plain": [
       "식품  라면    500\n",
       "dtype: int64"
      ]
     },
     "execution_count": 10,
     "metadata": {},
     "output_type": "execute_result"
    }
   ],
   "source": [
    "# 식품 카테고리의 라면 판매량을 조회하세요\n",
    "shop.loc['식품', ['라면']]"
   ]
  },
  {
   "cell_type": "markdown",
   "id": "fa34ea05-d0d0-4404-b609-8f352600431b",
   "metadata": {},
   "source": [
    "# 도서관의 대출 건수를 담은 Series를 만들고 멀티 인덱스를 설정하세요\n",
    "• 인덱스: 학년-과목\n",
    "• 값: 대출 건수\n",
    "1학년 전체 대출 건수를 조회하세요\n",
    "2학년 수학 과목의 대출 건수를 조회하세요"
   ]
  },
  {
   "cell_type": "code",
   "execution_count": 12,
   "id": "a5f1dfa8-0186-4b94-97a5-730ad651485a",
   "metadata": {},
   "outputs": [],
   "source": [
    "lib = pd.Series([40, 35, 50, 45],\n",
    "               index=[['1학년', '1학년', '2학년', '2학년'],\n",
    "                     ['국어', '수학', '국어', '수학']])"
   ]
  },
  {
   "cell_type": "code",
   "execution_count": 15,
   "id": "e919ebf7-a054-4b89-ad93-4ed4c85f3d61",
   "metadata": {},
   "outputs": [
    {
     "data": {
      "text/plain": [
       "국어    40\n",
       "수학    35\n",
       "dtype: int64"
      ]
     },
     "execution_count": 15,
     "metadata": {},
     "output_type": "execute_result"
    }
   ],
   "source": [
    "# 1학년 전체 대출 건수를 조회하세요\n",
    "lib.loc['1학년']"
   ]
  },
  {
   "cell_type": "code",
   "execution_count": 16,
   "id": "43d39285-6d55-4c0b-9ff7-56c6b26d336f",
   "metadata": {},
   "outputs": [
    {
     "data": {
      "text/plain": [
       "2학년  수학    45\n",
       "dtype: int64"
      ]
     },
     "execution_count": 16,
     "metadata": {},
     "output_type": "execute_result"
    }
   ],
   "source": [
    "# 2학년 수학 과목의 대출 건수를 조회하세요\n",
    "lib.loc['2학년',['수학']]"
   ]
  },
  {
   "cell_type": "markdown",
   "id": "19cef99c-63fc-4063-86c3-957d40357ce5",
   "metadata": {},
   "source": [
    "# 도서관 대출 건수를 담은 DataFrame를 만들고, 멀티 인덱스를 설정하세요\n",
    "• 행 인덱스: 도서관-월\n",
    "• 열: 소설, 과학\n",
    "• 값: 대출 건수\n",
    "중앙도서관 전체 대출 건수를 조회하세요\n",
    "시립도서관 2월의 과학 대출 건수를 조회하세요"
   ]
  },
  {
   "cell_type": "code",
   "execution_count": 62,
   "id": "3dfb9583-739e-488d-9309-ee2171e69788",
   "metadata": {},
   "outputs": [],
   "source": [
    "lib = pd.DataFrame([[120, 45], [95, 60], [150, 70], [110, 55]],\n",
    "                  index=[['중앙도서관', '중앙도서관', '시립도서관', '시립도서관'],\n",
    "                         ['1월', '2월', '1월', '2월']],\n",
    "                  columns=['소설', '과학'])"
   ]
  },
  {
   "cell_type": "code",
   "execution_count": 63,
   "id": "93698ff9-c298-475a-9d3d-de6ef14fd658",
   "metadata": {},
   "outputs": [
    {
     "data": {
      "text/html": [
       "<div>\n",
       "<style scoped>\n",
       "    .dataframe tbody tr th:only-of-type {\n",
       "        vertical-align: middle;\n",
       "    }\n",
       "\n",
       "    .dataframe tbody tr th {\n",
       "        vertical-align: top;\n",
       "    }\n",
       "\n",
       "    .dataframe thead th {\n",
       "        text-align: right;\n",
       "    }\n",
       "</style>\n",
       "<table border=\"1\" class=\"dataframe\">\n",
       "  <thead>\n",
       "    <tr style=\"text-align: right;\">\n",
       "      <th></th>\n",
       "      <th></th>\n",
       "      <th>소설</th>\n",
       "      <th>과학</th>\n",
       "    </tr>\n",
       "  </thead>\n",
       "  <tbody>\n",
       "    <tr>\n",
       "      <th rowspan=\"2\" valign=\"top\">중앙도서관</th>\n",
       "      <th>1월</th>\n",
       "      <td>120</td>\n",
       "      <td>45</td>\n",
       "    </tr>\n",
       "    <tr>\n",
       "      <th>2월</th>\n",
       "      <td>95</td>\n",
       "      <td>60</td>\n",
       "    </tr>\n",
       "    <tr>\n",
       "      <th rowspan=\"2\" valign=\"top\">시립도서관</th>\n",
       "      <th>1월</th>\n",
       "      <td>150</td>\n",
       "      <td>70</td>\n",
       "    </tr>\n",
       "    <tr>\n",
       "      <th>2월</th>\n",
       "      <td>110</td>\n",
       "      <td>55</td>\n",
       "    </tr>\n",
       "  </tbody>\n",
       "</table>\n",
       "</div>"
      ],
      "text/plain": [
       "           소설  과학\n",
       "중앙도서관 1월  120  45\n",
       "      2월   95  60\n",
       "시립도서관 1월  150  70\n",
       "      2월  110  55"
      ]
     },
     "execution_count": 63,
     "metadata": {},
     "output_type": "execute_result"
    }
   ],
   "source": [
    "lib"
   ]
  },
  {
   "cell_type": "code",
   "execution_count": 64,
   "id": "f6fed6b9-cc3b-4895-8f0e-8aae0bbefc12",
   "metadata": {},
   "outputs": [
    {
     "data": {
      "text/html": [
       "<div>\n",
       "<style scoped>\n",
       "    .dataframe tbody tr th:only-of-type {\n",
       "        vertical-align: middle;\n",
       "    }\n",
       "\n",
       "    .dataframe tbody tr th {\n",
       "        vertical-align: top;\n",
       "    }\n",
       "\n",
       "    .dataframe thead th {\n",
       "        text-align: right;\n",
       "    }\n",
       "</style>\n",
       "<table border=\"1\" class=\"dataframe\">\n",
       "  <thead>\n",
       "    <tr style=\"text-align: right;\">\n",
       "      <th></th>\n",
       "      <th>소설</th>\n",
       "      <th>과학</th>\n",
       "    </tr>\n",
       "  </thead>\n",
       "  <tbody>\n",
       "    <tr>\n",
       "      <th>1월</th>\n",
       "      <td>120</td>\n",
       "      <td>45</td>\n",
       "    </tr>\n",
       "    <tr>\n",
       "      <th>2월</th>\n",
       "      <td>95</td>\n",
       "      <td>60</td>\n",
       "    </tr>\n",
       "  </tbody>\n",
       "</table>\n",
       "</div>"
      ],
      "text/plain": [
       "     소설  과학\n",
       "1월  120  45\n",
       "2월   95  60"
      ]
     },
     "execution_count": 64,
     "metadata": {},
     "output_type": "execute_result"
    }
   ],
   "source": [
    "# 중앙도서관 전체 대출 건수를 조회하세요\n",
    "lib.loc['중앙도서관']"
   ]
  },
  {
   "cell_type": "code",
   "execution_count": 65,
   "id": "7c575c7e-9ea3-46c4-9a5e-a993c5ab1f1b",
   "metadata": {},
   "outputs": [
    {
     "data": {
      "text/plain": [
       "np.int64(55)"
      ]
     },
     "execution_count": 65,
     "metadata": {},
     "output_type": "execute_result"
    }
   ],
   "source": [
    "# 시립도서관 2월의 과학 대출 건수를 조회하세요\n",
    "lib.loc[('시립도서관', '2월'), '과학']"
   ]
  },
  {
   "cell_type": "markdown",
   "id": "e7d0e838-7b3a-40d6-8daa-09f5823c186a",
   "metadata": {},
   "source": [
    "자동차 판매량 데이터를 담은 DataFrame를 만들고, 멀티 인덱스를 설정하세요\n",
    "• 행 인덱스: 연도-차종\n",
    "• 열: 1분기, 2분기\n",
    "• 값: 판매 대수\n",
    "2022년 전체 판매량을 조회하세요\n",
    "2023년 세단의 2분기 판매량을 조회하세요"
   ]
  },
  {
   "cell_type": "code",
   "execution_count": 66,
   "id": "23802ad0-df51-44ab-a379-af095b41b5b8",
   "metadata": {},
   "outputs": [
    {
     "data": {
      "text/html": [
       "<div>\n",
       "<style scoped>\n",
       "    .dataframe tbody tr th:only-of-type {\n",
       "        vertical-align: middle;\n",
       "    }\n",
       "\n",
       "    .dataframe tbody tr th {\n",
       "        vertical-align: top;\n",
       "    }\n",
       "\n",
       "    .dataframe thead th {\n",
       "        text-align: right;\n",
       "    }\n",
       "</style>\n",
       "<table border=\"1\" class=\"dataframe\">\n",
       "  <thead>\n",
       "    <tr style=\"text-align: right;\">\n",
       "      <th></th>\n",
       "      <th></th>\n",
       "      <th>1분기</th>\n",
       "      <th>2분기</th>\n",
       "    </tr>\n",
       "  </thead>\n",
       "  <tbody>\n",
       "    <tr>\n",
       "      <th rowspan=\"2\" valign=\"top\">2022년</th>\n",
       "      <th>SUV</th>\n",
       "      <td>320</td>\n",
       "      <td>280</td>\n",
       "    </tr>\n",
       "    <tr>\n",
       "      <th>세단</th>\n",
       "      <td>210</td>\n",
       "      <td>230</td>\n",
       "    </tr>\n",
       "    <tr>\n",
       "      <th rowspan=\"2\" valign=\"top\">2023년</th>\n",
       "      <th>SUV</th>\n",
       "      <td>400</td>\n",
       "      <td>390</td>\n",
       "    </tr>\n",
       "    <tr>\n",
       "      <th>세단</th>\n",
       "      <td>180</td>\n",
       "      <td>200</td>\n",
       "    </tr>\n",
       "  </tbody>\n",
       "</table>\n",
       "</div>"
      ],
      "text/plain": [
       "           1분기  2분기\n",
       "2022년 SUV  320  280\n",
       "      세단   210  230\n",
       "2023년 SUV  400  390\n",
       "      세단   180  200"
      ]
     },
     "execution_count": 66,
     "metadata": {},
     "output_type": "execute_result"
    }
   ],
   "source": [
    "car = pd.DataFrame([[320, 280], [210, 230], [400, 390], [180, 200]],\n",
    "                  index=[['2022년', '2022년', '2023년', '2023년'],\n",
    "                        ['SUV', '세단', 'SUV', '세단']],\n",
    "                  columns=['1분기', '2분기'])\n",
    "car"
   ]
  },
  {
   "cell_type": "code",
   "execution_count": 67,
   "id": "99c382ee-b2b5-47b8-bb93-671f8b6ce113",
   "metadata": {},
   "outputs": [
    {
     "data": {
      "text/html": [
       "<div>\n",
       "<style scoped>\n",
       "    .dataframe tbody tr th:only-of-type {\n",
       "        vertical-align: middle;\n",
       "    }\n",
       "\n",
       "    .dataframe tbody tr th {\n",
       "        vertical-align: top;\n",
       "    }\n",
       "\n",
       "    .dataframe thead th {\n",
       "        text-align: right;\n",
       "    }\n",
       "</style>\n",
       "<table border=\"1\" class=\"dataframe\">\n",
       "  <thead>\n",
       "    <tr style=\"text-align: right;\">\n",
       "      <th></th>\n",
       "      <th>1분기</th>\n",
       "      <th>2분기</th>\n",
       "    </tr>\n",
       "  </thead>\n",
       "  <tbody>\n",
       "    <tr>\n",
       "      <th>SUV</th>\n",
       "      <td>320</td>\n",
       "      <td>280</td>\n",
       "    </tr>\n",
       "    <tr>\n",
       "      <th>세단</th>\n",
       "      <td>210</td>\n",
       "      <td>230</td>\n",
       "    </tr>\n",
       "  </tbody>\n",
       "</table>\n",
       "</div>"
      ],
      "text/plain": [
       "     1분기  2분기\n",
       "SUV  320  280\n",
       "세단   210  230"
      ]
     },
     "execution_count": 67,
     "metadata": {},
     "output_type": "execute_result"
    }
   ],
   "source": [
    "# 2022년 전체 판매량을 조회하세요\n",
    "car.loc['2022년']"
   ]
  },
  {
   "cell_type": "code",
   "execution_count": 78,
   "id": "e758abbf-fa8d-4893-837a-e75e4b85ad25",
   "metadata": {},
   "outputs": [
    {
     "data": {
      "text/plain": [
       "np.int64(200)"
      ]
     },
     "execution_count": 78,
     "metadata": {},
     "output_type": "execute_result"
    }
   ],
   "source": [
    "# 2023년 세단의 2분기 판매량을 조회하세요\n",
    "car.loc[('2023년', '세단'), '2분기']"
   ]
  },
  {
   "cell_type": "markdown",
   "id": "f5a361b0-3930-4021-91f8-9de02e3cdd42",
   "metadata": {},
   "source": [
    "# 호텔 예약 건수를 담은 DataFrame를 만들고, 멀티 인덱스를 설정하세요\n",
    "• 행 인덱스: 지점-월\n",
    "• 열: 싱글룸, 더블룸\n",
    "• 값: 예약 건수\n",
    "서울지점 전체 예약 건수를 조회하세요\n",
    "부산지점 8월의 더블룸 예약 건수를 조회하세요"
   ]
  },
  {
   "cell_type": "code",
   "execution_count": 80,
   "id": "37a97b59-bf3b-4cea-938a-1ded83b1435e",
   "metadata": {},
   "outputs": [
    {
     "data": {
      "text/html": [
       "<div>\n",
       "<style scoped>\n",
       "    .dataframe tbody tr th:only-of-type {\n",
       "        vertical-align: middle;\n",
       "    }\n",
       "\n",
       "    .dataframe tbody tr th {\n",
       "        vertical-align: top;\n",
       "    }\n",
       "\n",
       "    .dataframe thead th {\n",
       "        text-align: right;\n",
       "    }\n",
       "</style>\n",
       "<table border=\"1\" class=\"dataframe\">\n",
       "  <thead>\n",
       "    <tr style=\"text-align: right;\">\n",
       "      <th></th>\n",
       "      <th></th>\n",
       "      <th>싱글룸</th>\n",
       "      <th>더블룸</th>\n",
       "    </tr>\n",
       "  </thead>\n",
       "  <tbody>\n",
       "    <tr>\n",
       "      <th rowspan=\"2\" valign=\"top\">서울지점</th>\n",
       "      <th>7월</th>\n",
       "      <td>45</td>\n",
       "      <td>30</td>\n",
       "    </tr>\n",
       "    <tr>\n",
       "      <th>8월</th>\n",
       "      <td>50</td>\n",
       "      <td>35</td>\n",
       "    </tr>\n",
       "    <tr>\n",
       "      <th rowspan=\"2\" valign=\"top\">부산지점</th>\n",
       "      <th>7월</th>\n",
       "      <td>60</td>\n",
       "      <td>40</td>\n",
       "    </tr>\n",
       "    <tr>\n",
       "      <th>8월</th>\n",
       "      <td>55</td>\n",
       "      <td>38</td>\n",
       "    </tr>\n",
       "  </tbody>\n",
       "</table>\n",
       "</div>"
      ],
      "text/plain": [
       "         싱글룸  더블룸\n",
       "서울지점 7월   45   30\n",
       "     8월   50   35\n",
       "부산지점 7월   60   40\n",
       "     8월   55   38"
      ]
     },
     "execution_count": 80,
     "metadata": {},
     "output_type": "execute_result"
    }
   ],
   "source": [
    "hotel = pd.DataFrame([[45, 30], [50, 35], [60, 40], [55, 38]],\n",
    "                    index=[['서울지점', '서울지점', '부산지점', '부산지점'],\n",
    "                           ['7월', '8월', '7월', '8월']],\n",
    "                    columns=['싱글룸', '더블룸'])\n",
    "hotel"
   ]
  },
  {
   "cell_type": "code",
   "execution_count": 83,
   "id": "7b5c7da1-4fef-457b-95a4-ebbdfa7472ca",
   "metadata": {},
   "outputs": [
    {
     "data": {
      "text/html": [
       "<div>\n",
       "<style scoped>\n",
       "    .dataframe tbody tr th:only-of-type {\n",
       "        vertical-align: middle;\n",
       "    }\n",
       "\n",
       "    .dataframe tbody tr th {\n",
       "        vertical-align: top;\n",
       "    }\n",
       "\n",
       "    .dataframe thead th {\n",
       "        text-align: right;\n",
       "    }\n",
       "</style>\n",
       "<table border=\"1\" class=\"dataframe\">\n",
       "  <thead>\n",
       "    <tr style=\"text-align: right;\">\n",
       "      <th></th>\n",
       "      <th>싱글룸</th>\n",
       "      <th>더블룸</th>\n",
       "    </tr>\n",
       "  </thead>\n",
       "  <tbody>\n",
       "    <tr>\n",
       "      <th>7월</th>\n",
       "      <td>45</td>\n",
       "      <td>30</td>\n",
       "    </tr>\n",
       "    <tr>\n",
       "      <th>8월</th>\n",
       "      <td>50</td>\n",
       "      <td>35</td>\n",
       "    </tr>\n",
       "  </tbody>\n",
       "</table>\n",
       "</div>"
      ],
      "text/plain": [
       "    싱글룸  더블룸\n",
       "7월   45   30\n",
       "8월   50   35"
      ]
     },
     "execution_count": 83,
     "metadata": {},
     "output_type": "execute_result"
    }
   ],
   "source": [
    "# 서울지점 전체 예약 건수를 조회하세요\n",
    "hotel.loc['서울지점']"
   ]
  },
  {
   "cell_type": "code",
   "execution_count": 85,
   "id": "2839e30e-1975-4401-84b9-463736104023",
   "metadata": {},
   "outputs": [
    {
     "data": {
      "text/plain": [
       "np.int64(38)"
      ]
     },
     "execution_count": 85,
     "metadata": {},
     "output_type": "execute_result"
    }
   ],
   "source": [
    "# 부산지점 8월의 더블룸 예약 건수를 조회하세요\n",
    "hotel.loc[('부산지점', '8월'), '더블룸']"
   ]
  },
  {
   "cell_type": "markdown",
   "id": "428664be-857c-49e5-9ebd-1e2aaf167b34",
   "metadata": {},
   "source": [
    "# 쇼핑몰 주문 건수를 담은 DataFrame를 만들고, 멀티 인덱스를 설정하세요\n",
    "• 행 인덱스: 카테고리-상품\n",
    "• 열: 1월, 2월\n",
    "• 값: 주문 건수\n",
    "가전 카테고리 전체 주문 건수를 조회하세요\n",
    "식품 카테고리 라면의 2월 주문 건수를 조회하세요"
   ]
  },
  {
   "cell_type": "code",
   "execution_count": 88,
   "id": "f08d56fe-bd08-4d74-ac0c-749a6a1c3349",
   "metadata": {},
   "outputs": [
    {
     "data": {
      "text/html": [
       "<div>\n",
       "<style scoped>\n",
       "    .dataframe tbody tr th:only-of-type {\n",
       "        vertical-align: middle;\n",
       "    }\n",
       "\n",
       "    .dataframe tbody tr th {\n",
       "        vertical-align: top;\n",
       "    }\n",
       "\n",
       "    .dataframe thead th {\n",
       "        text-align: right;\n",
       "    }\n",
       "</style>\n",
       "<table border=\"1\" class=\"dataframe\">\n",
       "  <thead>\n",
       "    <tr style=\"text-align: right;\">\n",
       "      <th></th>\n",
       "      <th></th>\n",
       "      <th>1월</th>\n",
       "      <th>2월</th>\n",
       "    </tr>\n",
       "  </thead>\n",
       "  <tbody>\n",
       "    <tr>\n",
       "      <th rowspan=\"2\" valign=\"top\">가전</th>\n",
       "      <th>노트북</th>\n",
       "      <td>120</td>\n",
       "      <td>140</td>\n",
       "    </tr>\n",
       "    <tr>\n",
       "      <th>청소기</th>\n",
       "      <td>80</td>\n",
       "      <td>95</td>\n",
       "    </tr>\n",
       "    <tr>\n",
       "      <th rowspan=\"2\" valign=\"top\">식품</th>\n",
       "      <th>라면</th>\n",
       "      <td>200</td>\n",
       "      <td>220</td>\n",
       "    </tr>\n",
       "    <tr>\n",
       "      <th>과자</th>\n",
       "      <td>150</td>\n",
       "      <td>160</td>\n",
       "    </tr>\n",
       "  </tbody>\n",
       "</table>\n",
       "</div>"
      ],
      "text/plain": [
       "         1월   2월\n",
       "가전 노트북  120  140\n",
       "   청소기   80   95\n",
       "식품 라면   200  220\n",
       "   과자   150  160"
      ]
     },
     "execution_count": 88,
     "metadata": {},
     "output_type": "execute_result"
    }
   ],
   "source": [
    "shop = pd.DataFrame([[120, 140], [80, 95], [200, 220], [150, 160]],\n",
    "                index=[['가전', '가전', '식품', '식품'],\n",
    "                      ['노트북', '청소기', '라면', '과자']],\n",
    "                columns=['1월', '2월'])\n",
    "shop"
   ]
  },
  {
   "cell_type": "code",
   "execution_count": 89,
   "id": "91b9713a-0fdb-4271-b281-16b8ceb68239",
   "metadata": {},
   "outputs": [
    {
     "data": {
      "text/html": [
       "<div>\n",
       "<style scoped>\n",
       "    .dataframe tbody tr th:only-of-type {\n",
       "        vertical-align: middle;\n",
       "    }\n",
       "\n",
       "    .dataframe tbody tr th {\n",
       "        vertical-align: top;\n",
       "    }\n",
       "\n",
       "    .dataframe thead th {\n",
       "        text-align: right;\n",
       "    }\n",
       "</style>\n",
       "<table border=\"1\" class=\"dataframe\">\n",
       "  <thead>\n",
       "    <tr style=\"text-align: right;\">\n",
       "      <th></th>\n",
       "      <th>1월</th>\n",
       "      <th>2월</th>\n",
       "    </tr>\n",
       "  </thead>\n",
       "  <tbody>\n",
       "    <tr>\n",
       "      <th>노트북</th>\n",
       "      <td>120</td>\n",
       "      <td>140</td>\n",
       "    </tr>\n",
       "    <tr>\n",
       "      <th>청소기</th>\n",
       "      <td>80</td>\n",
       "      <td>95</td>\n",
       "    </tr>\n",
       "  </tbody>\n",
       "</table>\n",
       "</div>"
      ],
      "text/plain": [
       "      1월   2월\n",
       "노트북  120  140\n",
       "청소기   80   95"
      ]
     },
     "execution_count": 89,
     "metadata": {},
     "output_type": "execute_result"
    }
   ],
   "source": [
    "# 가전 카테고리 전체 주문 건수를 조회하세요\n",
    "shop.loc['가전']"
   ]
  },
  {
   "cell_type": "code",
   "execution_count": 90,
   "id": "8d6a76ae-c6e9-4500-9256-f9aac94e1036",
   "metadata": {},
   "outputs": [
    {
     "data": {
      "text/plain": [
       "np.int64(220)"
      ]
     },
     "execution_count": 90,
     "metadata": {},
     "output_type": "execute_result"
    }
   ],
   "source": [
    "# 식품 카테고리 라면의 2월 주문 건수를 조회하세요\n",
    "shop.loc[('식품', '라면'), '2월']"
   ]
  },
  {
   "cell_type": "markdown",
   "id": "b97a9eea-b27f-43fa-9d72-89d41edbc838",
   "metadata": {},
   "source": [
    "# 고객 데이터를 담은 DataFrame와 주문 데이터를 담은 DataFrame를 만들고, 고객ID 기준으로 합치세요"
   ]
  },
  {
   "cell_type": "code",
   "execution_count": 91,
   "id": "99c8bc3d-849e-4030-97ed-c2fa3af26fbf",
   "metadata": {},
   "outputs": [
    {
     "data": {
      "text/html": [
       "<div>\n",
       "<style scoped>\n",
       "    .dataframe tbody tr th:only-of-type {\n",
       "        vertical-align: middle;\n",
       "    }\n",
       "\n",
       "    .dataframe tbody tr th {\n",
       "        vertical-align: top;\n",
       "    }\n",
       "\n",
       "    .dataframe thead th {\n",
       "        text-align: right;\n",
       "    }\n",
       "</style>\n",
       "<table border=\"1\" class=\"dataframe\">\n",
       "  <thead>\n",
       "    <tr style=\"text-align: right;\">\n",
       "      <th></th>\n",
       "      <th>고객ID</th>\n",
       "      <th>이름</th>\n",
       "    </tr>\n",
       "  </thead>\n",
       "  <tbody>\n",
       "    <tr>\n",
       "      <th>0</th>\n",
       "      <td>101</td>\n",
       "      <td>철수</td>\n",
       "    </tr>\n",
       "    <tr>\n",
       "      <th>1</th>\n",
       "      <td>102</td>\n",
       "      <td>영희</td>\n",
       "    </tr>\n",
       "    <tr>\n",
       "      <th>2</th>\n",
       "      <td>103</td>\n",
       "      <td>민수</td>\n",
       "    </tr>\n",
       "  </tbody>\n",
       "</table>\n",
       "</div>"
      ],
      "text/plain": [
       "   고객ID  이름\n",
       "0   101  철수\n",
       "1   102  영희\n",
       "2   103  민수"
      ]
     },
     "execution_count": 91,
     "metadata": {},
     "output_type": "execute_result"
    }
   ],
   "source": [
    "cust = pd.DataFrame({'고객ID' : [101, 102, 103], '이름' : ['철수', '영희', '민수']})\n",
    "cust"
   ]
  },
  {
   "cell_type": "code",
   "execution_count": 93,
   "id": "510992bb-22e4-4116-8980-2472dda8762e",
   "metadata": {},
   "outputs": [
    {
     "data": {
      "text/html": [
       "<div>\n",
       "<style scoped>\n",
       "    .dataframe tbody tr th:only-of-type {\n",
       "        vertical-align: middle;\n",
       "    }\n",
       "\n",
       "    .dataframe tbody tr th {\n",
       "        vertical-align: top;\n",
       "    }\n",
       "\n",
       "    .dataframe thead th {\n",
       "        text-align: right;\n",
       "    }\n",
       "</style>\n",
       "<table border=\"1\" class=\"dataframe\">\n",
       "  <thead>\n",
       "    <tr style=\"text-align: right;\">\n",
       "      <th></th>\n",
       "      <th>고객ID</th>\n",
       "      <th>상품</th>\n",
       "    </tr>\n",
       "  </thead>\n",
       "  <tbody>\n",
       "    <tr>\n",
       "      <th>0</th>\n",
       "      <td>101</td>\n",
       "      <td>노트북</td>\n",
       "    </tr>\n",
       "    <tr>\n",
       "      <th>1</th>\n",
       "      <td>104</td>\n",
       "      <td>청소기</td>\n",
       "    </tr>\n",
       "    <tr>\n",
       "      <th>2</th>\n",
       "      <td>102</td>\n",
       "      <td>책</td>\n",
       "    </tr>\n",
       "  </tbody>\n",
       "</table>\n",
       "</div>"
      ],
      "text/plain": [
       "   고객ID   상품\n",
       "0   101  노트북\n",
       "1   104  청소기\n",
       "2   102    책"
      ]
     },
     "execution_count": 93,
     "metadata": {},
     "output_type": "execute_result"
    }
   ],
   "source": [
    "ord = pd.DataFrame({'고객ID' : [101, 104, 102], '상품' : ['노트북', '청소기', '책']})\n",
    "ord"
   ]
  },
  {
   "cell_type": "code",
   "execution_count": 96,
   "id": "f3d5ad0e-beb7-41ec-906b-b58cea3d3296",
   "metadata": {},
   "outputs": [
    {
     "data": {
      "text/html": [
       "<div>\n",
       "<style scoped>\n",
       "    .dataframe tbody tr th:only-of-type {\n",
       "        vertical-align: middle;\n",
       "    }\n",
       "\n",
       "    .dataframe tbody tr th {\n",
       "        vertical-align: top;\n",
       "    }\n",
       "\n",
       "    .dataframe thead th {\n",
       "        text-align: right;\n",
       "    }\n",
       "</style>\n",
       "<table border=\"1\" class=\"dataframe\">\n",
       "  <thead>\n",
       "    <tr style=\"text-align: right;\">\n",
       "      <th></th>\n",
       "      <th>고객ID</th>\n",
       "      <th>이름</th>\n",
       "      <th>상품</th>\n",
       "    </tr>\n",
       "  </thead>\n",
       "  <tbody>\n",
       "    <tr>\n",
       "      <th>0</th>\n",
       "      <td>101</td>\n",
       "      <td>철수</td>\n",
       "      <td>노트북</td>\n",
       "    </tr>\n",
       "    <tr>\n",
       "      <th>1</th>\n",
       "      <td>102</td>\n",
       "      <td>영희</td>\n",
       "      <td>책</td>\n",
       "    </tr>\n",
       "  </tbody>\n",
       "</table>\n",
       "</div>"
      ],
      "text/plain": [
       "   고객ID  이름   상품\n",
       "0   101  철수  노트북\n",
       "1   102  영희    책"
      ]
     },
     "execution_count": 96,
     "metadata": {},
     "output_type": "execute_result"
    }
   ],
   "source": [
    "ord_list = pd.merge(cust, ord, on='고객ID', how='inner')\n",
    "ord_list"
   ]
  },
  {
   "cell_type": "code",
   "execution_count": 95,
   "id": "9f2facb7-1fb6-424f-900a-d6094f54875b",
   "metadata": {},
   "outputs": [
    {
     "data": {
      "text/html": [
       "<div>\n",
       "<style scoped>\n",
       "    .dataframe tbody tr th:only-of-type {\n",
       "        vertical-align: middle;\n",
       "    }\n",
       "\n",
       "    .dataframe tbody tr th {\n",
       "        vertical-align: top;\n",
       "    }\n",
       "\n",
       "    .dataframe thead th {\n",
       "        text-align: right;\n",
       "    }\n",
       "</style>\n",
       "<table border=\"1\" class=\"dataframe\">\n",
       "  <thead>\n",
       "    <tr style=\"text-align: right;\">\n",
       "      <th></th>\n",
       "      <th>사번</th>\n",
       "      <th>이름</th>\n",
       "      <th>부서</th>\n",
       "    </tr>\n",
       "  </thead>\n",
       "  <tbody>\n",
       "    <tr>\n",
       "      <th>0</th>\n",
       "      <td>1</td>\n",
       "      <td>홍길동</td>\n",
       "      <td>영업</td>\n",
       "    </tr>\n",
       "    <tr>\n",
       "      <th>1</th>\n",
       "      <td>2</td>\n",
       "      <td>임꺽정</td>\n",
       "      <td>NaN</td>\n",
       "    </tr>\n",
       "    <tr>\n",
       "      <th>2</th>\n",
       "      <td>3</td>\n",
       "      <td>이몽룡</td>\n",
       "      <td>개발</td>\n",
       "    </tr>\n",
       "  </tbody>\n",
       "</table>\n",
       "</div>"
      ],
      "text/plain": [
       "   사번   이름   부서\n",
       "0   1  홍길동   영업\n",
       "1   2  임꺽정  NaN\n",
       "2   3  이몽룡   개발"
      ]
     },
     "execution_count": 95,
     "metadata": {},
     "output_type": "execute_result"
    }
   ],
   "source": [
    "ofi = pd.DataFrame({'사번' : [1, 2, 3], '이름' : ['홍길동', '임꺽정', '이몽룡']})\n",
    "suf = pd.DataFrame({'사번' : [1, 3], '부서' : ['영업', '개발']})\n",
    "\n",
    "lis = pd.merge(ofi, suf, on='사번', how='left')\n",
    "lis"
   ]
  },
  {
   "cell_type": "markdown",
   "id": "05c175de-921e-4622-bc7b-cde5f9158077",
   "metadata": {},
   "source": [
    "# 상품 데이터를 담은 DataFrame와 재고 데이터를 담은 DataFrame를 만들고, 상품코드 기준으로 합치세요"
   ]
  },
  {
   "cell_type": "code",
   "execution_count": 97,
   "id": "1121fcfd-cdd4-4502-90f0-901832e901ef",
   "metadata": {},
   "outputs": [
    {
     "data": {
      "text/html": [
       "<div>\n",
       "<style scoped>\n",
       "    .dataframe tbody tr th:only-of-type {\n",
       "        vertical-align: middle;\n",
       "    }\n",
       "\n",
       "    .dataframe tbody tr th {\n",
       "        vertical-align: top;\n",
       "    }\n",
       "\n",
       "    .dataframe thead th {\n",
       "        text-align: right;\n",
       "    }\n",
       "</style>\n",
       "<table border=\"1\" class=\"dataframe\">\n",
       "  <thead>\n",
       "    <tr style=\"text-align: right;\">\n",
       "      <th></th>\n",
       "      <th>상품코드</th>\n",
       "      <th>상품명</th>\n",
       "      <th>재고</th>\n",
       "    </tr>\n",
       "  </thead>\n",
       "  <tbody>\n",
       "    <tr>\n",
       "      <th>0</th>\n",
       "      <td>A2</td>\n",
       "      <td>청소기</td>\n",
       "      <td>5</td>\n",
       "    </tr>\n",
       "    <tr>\n",
       "      <th>1</th>\n",
       "      <td>A3</td>\n",
       "      <td>책상</td>\n",
       "      <td>8</td>\n",
       "    </tr>\n",
       "    <tr>\n",
       "      <th>2</th>\n",
       "      <td>A4</td>\n",
       "      <td>NaN</td>\n",
       "      <td>10</td>\n",
       "    </tr>\n",
       "  </tbody>\n",
       "</table>\n",
       "</div>"
      ],
      "text/plain": [
       "  상품코드  상품명  재고\n",
       "0   A2  청소기   5\n",
       "1   A3   책상   8\n",
       "2   A4  NaN  10"
      ]
     },
     "execution_count": 97,
     "metadata": {},
     "output_type": "execute_result"
    }
   ],
   "source": [
    "shop = pd.DataFrame({'상품코드' : ['A1', 'A2', 'A3'], '상품명' : ['노트북', '청소기', '책상']})\n",
    "zi = pd.DataFrame({'상품코드' : ['A2', 'A3', 'A4'], '재고' : [5, 8, 10]})\n",
    "hap = pd.merge(shop, zi, on='상품코드', how='right')\n",
    "hap"
   ]
  },
  {
   "cell_type": "markdown",
   "id": "6b550bee-9f36-4524-a685-8fe91d303f3d",
   "metadata": {},
   "source": [
    "# 학생 데이터를 담은 DataFrame와 동아리 데이터를 담은 DataFrame를 만들고, 학번 기준으로 합치세요"
   ]
  },
  {
   "cell_type": "code",
   "execution_count": 98,
   "id": "51036c6f-186b-45ac-98f2-28954879fe76",
   "metadata": {},
   "outputs": [
    {
     "data": {
      "text/html": [
       "<div>\n",
       "<style scoped>\n",
       "    .dataframe tbody tr th:only-of-type {\n",
       "        vertical-align: middle;\n",
       "    }\n",
       "\n",
       "    .dataframe tbody tr th {\n",
       "        vertical-align: top;\n",
       "    }\n",
       "\n",
       "    .dataframe thead th {\n",
       "        text-align: right;\n",
       "    }\n",
       "</style>\n",
       "<table border=\"1\" class=\"dataframe\">\n",
       "  <thead>\n",
       "    <tr style=\"text-align: right;\">\n",
       "      <th></th>\n",
       "      <th>학번</th>\n",
       "      <th>이름</th>\n",
       "      <th>동아리</th>\n",
       "    </tr>\n",
       "  </thead>\n",
       "  <tbody>\n",
       "    <tr>\n",
       "      <th>0</th>\n",
       "      <td>1</td>\n",
       "      <td>지훈</td>\n",
       "      <td>NaN</td>\n",
       "    </tr>\n",
       "    <tr>\n",
       "      <th>1</th>\n",
       "      <td>2</td>\n",
       "      <td>서연</td>\n",
       "      <td>축구부</td>\n",
       "    </tr>\n",
       "    <tr>\n",
       "      <th>2</th>\n",
       "      <td>3</td>\n",
       "      <td>민지</td>\n",
       "      <td>NaN</td>\n",
       "    </tr>\n",
       "    <tr>\n",
       "      <th>3</th>\n",
       "      <td>4</td>\n",
       "      <td>NaN</td>\n",
       "      <td>합창단</td>\n",
       "    </tr>\n",
       "  </tbody>\n",
       "</table>\n",
       "</div>"
      ],
      "text/plain": [
       "   학번   이름  동아리\n",
       "0   1   지훈  NaN\n",
       "1   2   서연  축구부\n",
       "2   3   민지  NaN\n",
       "3   4  NaN  합창단"
      ]
     },
     "execution_count": 98,
     "metadata": {},
     "output_type": "execute_result"
    }
   ],
   "source": [
    "stu = pd.DataFrame({'학번' : [1, 2, 3], '이름' : ['지훈', '서연', '민지']})\n",
    "dong = pd.DataFrame({'학번' : [2, 4], '동아리' : ['축구부', '합창단']})\n",
    "hap = pd.merge(stu, dong, on='학번', how='outer')\n",
    "hap"
   ]
  },
  {
   "cell_type": "markdown",
   "id": "c6aaa423-d24b-45c8-a4f4-ca99a1cd006e",
   "metadata": {},
   "source": [
    "# 사원 데이터를 담은 DataFrame와 부서 데이터를 담은 DataFrame를 만들고, 하나로 합치세요"
   ]
  },
  {
   "cell_type": "code",
   "execution_count": 100,
   "id": "5f758163-8b9f-41f9-8935-e8b301103014",
   "metadata": {},
   "outputs": [
    {
     "data": {
      "text/html": [
       "<div>\n",
       "<style scoped>\n",
       "    .dataframe tbody tr th:only-of-type {\n",
       "        vertical-align: middle;\n",
       "    }\n",
       "\n",
       "    .dataframe tbody tr th {\n",
       "        vertical-align: top;\n",
       "    }\n",
       "\n",
       "    .dataframe thead th {\n",
       "        text-align: right;\n",
       "    }\n",
       "</style>\n",
       "<table border=\"1\" class=\"dataframe\">\n",
       "  <thead>\n",
       "    <tr style=\"text-align: right;\">\n",
       "      <th></th>\n",
       "      <th>사번</th>\n",
       "      <th>이름</th>\n",
       "      <th>부서</th>\n",
       "    </tr>\n",
       "  </thead>\n",
       "  <tbody>\n",
       "    <tr>\n",
       "      <th>0</th>\n",
       "      <td>1</td>\n",
       "      <td>홍길동</td>\n",
       "      <td>영업</td>\n",
       "    </tr>\n",
       "    <tr>\n",
       "      <th>1</th>\n",
       "      <td>2</td>\n",
       "      <td>임꺽정</td>\n",
       "      <td>개발</td>\n",
       "    </tr>\n",
       "  </tbody>\n",
       "</table>\n",
       "</div>"
      ],
      "text/plain": [
       "   사번   이름  부서\n",
       "0   1  홍길동  영업\n",
       "1   2  임꺽정  개발"
      ]
     },
     "execution_count": 100,
     "metadata": {},
     "output_type": "execute_result"
    }
   ],
   "source": [
    "ofi = pd.DataFrame({'사번' : [1, 2], '이름' : ['홍길동', '임꺽정']})\n",
    "suf = pd.DataFrame({'부서' : ['영업', '개발']})\n",
    "pd.concat([ofi, suf], axis=1)"
   ]
  },
  {
   "cell_type": "markdown",
   "id": "cc88f14a-b3f4-4446-9dfd-99a8bd84ab12",
   "metadata": {},
   "source": [
    "# 세 개의 매출 데이터 DataFrame를 만들고, 하나로 합치세요"
   ]
  },
  {
   "cell_type": "code",
   "execution_count": 104,
   "id": "5aac09bb-46ff-4650-926e-ae191c6031d9",
   "metadata": {},
   "outputs": [
    {
     "data": {
      "text/html": [
       "<div>\n",
       "<style scoped>\n",
       "    .dataframe tbody tr th:only-of-type {\n",
       "        vertical-align: middle;\n",
       "    }\n",
       "\n",
       "    .dataframe tbody tr th {\n",
       "        vertical-align: top;\n",
       "    }\n",
       "\n",
       "    .dataframe thead th {\n",
       "        text-align: right;\n",
       "    }\n",
       "</style>\n",
       "<table border=\"1\" class=\"dataframe\">\n",
       "  <thead>\n",
       "    <tr style=\"text-align: right;\">\n",
       "      <th></th>\n",
       "      <th>매출</th>\n",
       "    </tr>\n",
       "  </thead>\n",
       "  <tbody>\n",
       "    <tr>\n",
       "      <th>0</th>\n",
       "      <td>100</td>\n",
       "    </tr>\n",
       "    <tr>\n",
       "      <th>1</th>\n",
       "      <td>200</td>\n",
       "    </tr>\n",
       "    <tr>\n",
       "      <th>2</th>\n",
       "      <td>150</td>\n",
       "    </tr>\n",
       "    <tr>\n",
       "      <th>3</th>\n",
       "      <td>250</td>\n",
       "    </tr>\n",
       "    <tr>\n",
       "      <th>4</th>\n",
       "      <td>300</td>\n",
       "    </tr>\n",
       "    <tr>\n",
       "      <th>5</th>\n",
       "      <td>400</td>\n",
       "    </tr>\n",
       "  </tbody>\n",
       "</table>\n",
       "</div>"
      ],
      "text/plain": [
       "    매출\n",
       "0  100\n",
       "1  200\n",
       "2  150\n",
       "3  250\n",
       "4  300\n",
       "5  400"
      ]
     },
     "execution_count": 104,
     "metadata": {},
     "output_type": "execute_result"
    }
   ],
   "source": [
    "df1 = pd.DataFrame({'매출' : [100, 200]})\n",
    "df2 = pd.DataFrame({'매출' : [150, 250]})\n",
    "df3 = pd.DataFrame({'매출' : [300, 400]})\n",
    "pd.concat([df1, df2, df3], ignore_index=True)"
   ]
  },
  {
   "cell_type": "markdown",
   "id": "d959dfdb-32f9-415f-b56b-9f0c8bbf4e19",
   "metadata": {},
   "source": [
    "# 두 개의 학생 점수 데이터를 담은 DataFrame를 만들고, 하나로 합치세요"
   ]
  },
  {
   "cell_type": "code",
   "execution_count": 107,
   "id": "7b470bc8-8632-4fc3-a249-a5d584554b30",
   "metadata": {},
   "outputs": [
    {
     "data": {
      "text/html": [
       "<div>\n",
       "<style scoped>\n",
       "    .dataframe tbody tr th:only-of-type {\n",
       "        vertical-align: middle;\n",
       "    }\n",
       "\n",
       "    .dataframe tbody tr th {\n",
       "        vertical-align: top;\n",
       "    }\n",
       "\n",
       "    .dataframe thead th {\n",
       "        text-align: right;\n",
       "    }\n",
       "</style>\n",
       "<table border=\"1\" class=\"dataframe\">\n",
       "  <thead>\n",
       "    <tr style=\"text-align: right;\">\n",
       "      <th></th>\n",
       "      <th>이름</th>\n",
       "      <th>국어</th>\n",
       "      <th>이름</th>\n",
       "      <th>수학</th>\n",
       "    </tr>\n",
       "  </thead>\n",
       "  <tbody>\n",
       "    <tr>\n",
       "      <th>0</th>\n",
       "      <td>철수</td>\n",
       "      <td>85</td>\n",
       "      <td>민수</td>\n",
       "      <td>78</td>\n",
       "    </tr>\n",
       "    <tr>\n",
       "      <th>1</th>\n",
       "      <td>영희</td>\n",
       "      <td>90</td>\n",
       "      <td>지연</td>\n",
       "      <td>92</td>\n",
       "    </tr>\n",
       "  </tbody>\n",
       "</table>\n",
       "</div>"
      ],
      "text/plain": [
       "   이름  국어  이름  수학\n",
       "0  철수  85  민수  78\n",
       "1  영희  90  지연  92"
      ]
     },
     "execution_count": 107,
     "metadata": {},
     "output_type": "execute_result"
    }
   ],
   "source": [
    "st1 = pd.DataFrame({'이름' : ['철수', '영희'], '국어' : [85, 90]})\n",
    "st2 = pd.DataFrame({'이름' : ['민수', '지연'], '수학' : [78, 92]})\n",
    "pd.concat([st1, st2], axis=1)"
   ]
  },
  {
   "cell_type": "markdown",
   "id": "9b25529c-4a45-4356-9f69-73a2d34916cc",
   "metadata": {},
   "source": [
    "# 쇼핑몰 판매 데이터를 담은 DataFrame를 만들고, pivot을 이용해 카테고리별 월 매출을 출력하세요"
   ]
  },
  {
   "cell_type": "code",
   "execution_count": 110,
   "id": "b5f7242d-089c-4a5c-ad84-089a48c68d17",
   "metadata": {},
   "outputs": [
    {
     "data": {
      "text/html": [
       "<div>\n",
       "<style scoped>\n",
       "    .dataframe tbody tr th:only-of-type {\n",
       "        vertical-align: middle;\n",
       "    }\n",
       "\n",
       "    .dataframe tbody tr th {\n",
       "        vertical-align: top;\n",
       "    }\n",
       "\n",
       "    .dataframe thead th {\n",
       "        text-align: right;\n",
       "    }\n",
       "</style>\n",
       "<table border=\"1\" class=\"dataframe\">\n",
       "  <thead>\n",
       "    <tr style=\"text-align: right;\">\n",
       "      <th>월</th>\n",
       "      <th>1월</th>\n",
       "      <th>2월</th>\n",
       "    </tr>\n",
       "    <tr>\n",
       "      <th>카테고리</th>\n",
       "      <th></th>\n",
       "      <th></th>\n",
       "    </tr>\n",
       "  </thead>\n",
       "  <tbody>\n",
       "    <tr>\n",
       "      <th>가전</th>\n",
       "      <td>500</td>\n",
       "      <td>550</td>\n",
       "    </tr>\n",
       "    <tr>\n",
       "      <th>식품</th>\n",
       "      <td>200</td>\n",
       "      <td>250</td>\n",
       "    </tr>\n",
       "  </tbody>\n",
       "</table>\n",
       "</div>"
      ],
      "text/plain": [
       "월      1월   2월\n",
       "카테고리          \n",
       "가전    500  550\n",
       "식품    200  250"
      ]
     },
     "execution_count": 110,
     "metadata": {},
     "output_type": "execute_result"
    }
   ],
   "source": [
    "shop = pd.DataFrame({'카테고리' : ['식품', '식품', '가전', '가전'],\n",
    "                  '월' : ['1월', '2월', '1월', '2월'],\n",
    "                  '매출' : [200, 250, 500, 550]})\n",
    "shop.pivot(index='카테고리', columns='월', values='매출')"
   ]
  },
  {
   "cell_type": "markdown",
   "id": "c55e065f-d879-4640-add6-2039c2311cda",
   "metadata": {},
   "source": [
    "# 도서관 대출 데이터를 담은 DataFrame를 만들고, pivot을 이용해 도서관별 장르 대출 건수를 출력하세요"
   ]
  },
  {
   "cell_type": "code",
   "execution_count": 112,
   "id": "6ab21f6e-6fbb-4d1e-b47c-7adb4bd18708",
   "metadata": {},
   "outputs": [
    {
     "data": {
      "text/html": [
       "<div>\n",
       "<style scoped>\n",
       "    .dataframe tbody tr th:only-of-type {\n",
       "        vertical-align: middle;\n",
       "    }\n",
       "\n",
       "    .dataframe tbody tr th {\n",
       "        vertical-align: top;\n",
       "    }\n",
       "\n",
       "    .dataframe thead th {\n",
       "        text-align: right;\n",
       "    }\n",
       "</style>\n",
       "<table border=\"1\" class=\"dataframe\">\n",
       "  <thead>\n",
       "    <tr style=\"text-align: right;\">\n",
       "      <th>장르</th>\n",
       "      <th>과학</th>\n",
       "      <th>소설</th>\n",
       "    </tr>\n",
       "    <tr>\n",
       "      <th>도서관</th>\n",
       "      <th></th>\n",
       "      <th></th>\n",
       "    </tr>\n",
       "  </thead>\n",
       "  <tbody>\n",
       "    <tr>\n",
       "      <th>시립</th>\n",
       "      <td>60</td>\n",
       "      <td>95</td>\n",
       "    </tr>\n",
       "    <tr>\n",
       "      <th>중앙</th>\n",
       "      <td>45</td>\n",
       "      <td>120</td>\n",
       "    </tr>\n",
       "  </tbody>\n",
       "</table>\n",
       "</div>"
      ],
      "text/plain": [
       "장르   과학   소설\n",
       "도서관         \n",
       "시립   60   95\n",
       "중앙   45  120"
      ]
     },
     "execution_count": 112,
     "metadata": {},
     "output_type": "execute_result"
    }
   ],
   "source": [
    "lib = pd.DataFrame({'도서관' : ['중앙', '중앙', '시립', '시립'],\n",
    "                  '장르' : ['소설', '과학', '소설', '과학'],\n",
    "                  '대출건수' : [120, 45, 95, 60]})\n",
    "lib.pivot(index='도서관', columns='장르', values='대출건수')"
   ]
  },
  {
   "cell_type": "markdown",
   "id": "77d20560-02f7-4073-9083-c2dedf9386ed",
   "metadata": {},
   "source": [
    "# 호텔 예약 데이터를 담은 DataFrame를 만들고, pivot을 이용해 지점별 객실 유형 예약 건수를 출력하세요"
   ]
  },
  {
   "cell_type": "code",
   "execution_count": 113,
   "id": "bdd088e5-86ce-4436-baf7-bdbebab8fa26",
   "metadata": {},
   "outputs": [
    {
     "data": {
      "text/html": [
       "<div>\n",
       "<style scoped>\n",
       "    .dataframe tbody tr th:only-of-type {\n",
       "        vertical-align: middle;\n",
       "    }\n",
       "\n",
       "    .dataframe tbody tr th {\n",
       "        vertical-align: top;\n",
       "    }\n",
       "\n",
       "    .dataframe thead th {\n",
       "        text-align: right;\n",
       "    }\n",
       "</style>\n",
       "<table border=\"1\" class=\"dataframe\">\n",
       "  <thead>\n",
       "    <tr style=\"text-align: right;\">\n",
       "      <th>객실유형</th>\n",
       "      <th>더블룸</th>\n",
       "      <th>싱글룸</th>\n",
       "    </tr>\n",
       "    <tr>\n",
       "      <th>지점</th>\n",
       "      <th></th>\n",
       "      <th></th>\n",
       "    </tr>\n",
       "  </thead>\n",
       "  <tbody>\n",
       "    <tr>\n",
       "      <th>부산</th>\n",
       "      <td>35</td>\n",
       "      <td>50</td>\n",
       "    </tr>\n",
       "    <tr>\n",
       "      <th>서울</th>\n",
       "      <td>30</td>\n",
       "      <td>45</td>\n",
       "    </tr>\n",
       "  </tbody>\n",
       "</table>\n",
       "</div>"
      ],
      "text/plain": [
       "객실유형  더블룸  싱글룸\n",
       "지점            \n",
       "부산     35   50\n",
       "서울     30   45"
      ]
     },
     "execution_count": 113,
     "metadata": {},
     "output_type": "execute_result"
    }
   ],
   "source": [
    "hotel = pd.DataFrame({'지점' : ['서울', '서울', '부산', '부산'],\n",
    "                  '객실유형' : ['싱글룸', '더블룸', '싱글룸', '더블룸'],\n",
    "                  '예약건수' : [45, 30, 50, 35]})\n",
    "hotel.pivot(index='지점', columns='객실유형', values='예약건수')"
   ]
  },
  {
   "cell_type": "code",
   "execution_count": null,
   "id": "aec55897-6913-46a4-a0b0-45c1ad1ee344",
   "metadata": {},
   "outputs": [],
   "source": []
  }
 ],
 "metadata": {
  "kernelspec": {
   "display_name": "Python 3 (ipykernel)",
   "language": "python",
   "name": "python3"
  },
  "language_info": {
   "codemirror_mode": {
    "name": "ipython",
    "version": 3
   },
   "file_extension": ".py",
   "mimetype": "text/x-python",
   "name": "python",
   "nbconvert_exporter": "python",
   "pygments_lexer": "ipython3",
   "version": "3.10.18"
  },
  "widgets": {
   "application/vnd.jupyter.widget-state+json": {
    "state": {},
    "version_major": 2,
    "version_minor": 0
   }
  }
 },
 "nbformat": 4,
 "nbformat_minor": 5
}
