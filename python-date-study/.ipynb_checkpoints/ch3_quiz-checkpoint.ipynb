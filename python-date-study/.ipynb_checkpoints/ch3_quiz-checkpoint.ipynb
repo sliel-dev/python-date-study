{
 "cells": [
  {
   "cell_type": "markdown",
   "id": "391a82d0-1c0c-42e9-92ca-a4820a447960",
   "metadata": {},
   "source": [
    "숫자 데이터를 시리즈로 만들어 주세요.\n",
    "값은 [5, 10, 15, 20] 이고, 인덱스는 자동으로 생성됩니다.\n",
    "\n",
    "숫자 데이터를 시리즈로 만들어 주세요.\n",
    "값은 [2, 4, 6, 8] 이고, 인덱스는 자동으로 생성됩니다."
   ]
  },
  {
   "cell_type": "code",
   "execution_count": 29,
   "id": "b8e0d840-1d5f-48c2-a521-f04c90e3b5d1",
   "metadata": {},
   "outputs": [],
   "source": [
    "import pandas as pd\n",
    "import numpy as np"
   ]
  },
  {
   "cell_type": "code",
   "execution_count": 2,
   "id": "292a00bb-b5ce-4fa4-a496-fe102f06c190",
   "metadata": {},
   "outputs": [],
   "source": [
    "num = pd.Series([5, 10, 15, 20])"
   ]
  },
  {
   "cell_type": "code",
   "execution_count": 3,
   "id": "bb6d6957-a52d-4da5-bee8-c75bd17a01d5",
   "metadata": {},
   "outputs": [
    {
     "data": {
      "text/plain": [
       "0     5\n",
       "1    10\n",
       "2    15\n",
       "3    20\n",
       "dtype: int64"
      ]
     },
     "execution_count": 3,
     "metadata": {},
     "output_type": "execute_result"
    }
   ],
   "source": [
    "num"
   ]
  },
  {
   "cell_type": "code",
   "execution_count": 4,
   "id": "5fbecb52-33e3-487e-ae86-ff7bee7355ac",
   "metadata": {},
   "outputs": [],
   "source": [
    "num = pd.Series([2, 4, 6, 8])"
   ]
  },
  {
   "cell_type": "code",
   "execution_count": 5,
   "id": "108a45a5-f708-4069-a16d-ef95224ad6e0",
   "metadata": {},
   "outputs": [
    {
     "data": {
      "text/plain": [
       "0    2\n",
       "1    4\n",
       "2    6\n",
       "3    8\n",
       "dtype: int64"
      ]
     },
     "execution_count": 5,
     "metadata": {},
     "output_type": "execute_result"
    }
   ],
   "source": [
    "num"
   ]
  },
  {
   "cell_type": "markdown",
   "id": "5e862248-858b-4108-b638-148d0b82f34c",
   "metadata": {},
   "source": [
    "# 성적 데이터를 시리즈로 만들어주세요.\n",
    "값은 점수 [70, 80, 90] 이고, 인덱스는 과목 ['국어', '영어', '수학'] 입니다.\n",
    "\n",
    "1. 국어 점수를 조회하세요. (결과: 70점)\n",
    "2. 수학 점수를 75점으로 수정하세요."
   ]
  },
  {
   "cell_type": "code",
   "execution_count": 8,
   "id": "02fd0954-bde0-478b-808b-104f071723e4",
   "metadata": {},
   "outputs": [
    {
     "data": {
      "text/plain": [
       "국어    70\n",
       "영어    80\n",
       "수학    90\n",
       "dtype: int64"
      ]
     },
     "execution_count": 8,
     "metadata": {},
     "output_type": "execute_result"
    }
   ],
   "source": [
    "score = pd.Series([70, 80, 90], index=['국어', '영어', '수학'])\n",
    "score"
   ]
  },
  {
   "cell_type": "code",
   "execution_count": 7,
   "id": "687fef9d-c670-41eb-8667-7b7db8dc30af",
   "metadata": {},
   "outputs": [
    {
     "name": "stdout",
     "output_type": "stream",
     "text": [
      "70\n"
     ]
    }
   ],
   "source": [
    "print(score['국어'])"
   ]
  },
  {
   "cell_type": "code",
   "execution_count": 9,
   "id": "44267c5b-f6a1-403a-b054-f8701855764c",
   "metadata": {},
   "outputs": [],
   "source": [
    "score['수학'] = 75"
   ]
  },
  {
   "cell_type": "code",
   "execution_count": 10,
   "id": "e59b7d33-8403-401a-8de3-9d1bbbeaf666",
   "metadata": {},
   "outputs": [
    {
     "data": {
      "text/plain": [
       "국어    70\n",
       "영어    80\n",
       "수학    75\n",
       "dtype: int64"
      ]
     },
     "execution_count": 10,
     "metadata": {},
     "output_type": "execute_result"
    }
   ],
   "source": [
    "score"
   ]
  },
  {
   "cell_type": "markdown",
   "id": "16eceae0-9807-4418-b7c0-a9747e544897",
   "metadata": {},
   "source": [
    "# 계절별 평균 기온 데이터를 시리즈로 만들어주세요.\n",
    "값은 기온 [15, 27, 18] 이고, 인덱스는 계절 ['봄', '여름', '가을'] 입니다.\n",
    "\n",
    "1. 봄 기온을 조회하세요. (결과: 15)\n",
    "2. 가을 기온을 20으로 수정하세요."
   ]
  },
  {
   "cell_type": "code",
   "execution_count": 11,
   "id": "6d58ece9-f627-423c-8a38-5466be13b139",
   "metadata": {},
   "outputs": [
    {
     "data": {
      "text/plain": [
       "봄     15\n",
       "여름    27\n",
       "가을    18\n",
       "dtype: int64"
      ]
     },
     "execution_count": 11,
     "metadata": {},
     "output_type": "execute_result"
    }
   ],
   "source": [
    "temp = pd.Series([15, 27, 18], index=['봄', '여름', '가을'])\n",
    "temp"
   ]
  },
  {
   "cell_type": "code",
   "execution_count": 12,
   "id": "152d75c7-e0c1-4688-afc5-82c0280d7af9",
   "metadata": {},
   "outputs": [
    {
     "data": {
      "text/plain": [
       "np.int64(15)"
      ]
     },
     "execution_count": 12,
     "metadata": {},
     "output_type": "execute_result"
    }
   ],
   "source": [
    "temp['봄']"
   ]
  },
  {
   "cell_type": "code",
   "execution_count": 13,
   "id": "dcc4bda0-7e24-4e85-acbf-186819be1a7b",
   "metadata": {},
   "outputs": [
    {
     "data": {
      "text/plain": [
       "봄     15\n",
       "여름    27\n",
       "가을    20\n",
       "dtype: int64"
      ]
     },
     "execution_count": 13,
     "metadata": {},
     "output_type": "execute_result"
    }
   ],
   "source": [
    "temp['가을'] = 20\n",
    "temp"
   ]
  },
  {
   "cell_type": "markdown",
   "id": "d1fffecc-4e17-483f-a8e4-c3e010e3e7d0",
   "metadata": {},
   "source": [
    "# 일별 매출 데이터를 시리즈로 만들어주세요.\n",
    "값은 매출 [1000, 1200, 1300] 이고, 인덱스는 날짜 ['01-01', '01-02', '01-03'] 입니다.\n",
    "\n",
    "1. 1월 1일 매출을 조회하세요. (결과: 1000)\n",
    "2. 1월 2일 매출을 1250으로 수정하세요."
   ]
  },
  {
   "cell_type": "code",
   "execution_count": 14,
   "id": "8da61ea4-b143-410d-93d0-849ed1d821c6",
   "metadata": {},
   "outputs": [
    {
     "data": {
      "text/plain": [
       "01-01    1000\n",
       "01-02    1200\n",
       "01-03    1300\n",
       "dtype: int64"
      ]
     },
     "execution_count": 14,
     "metadata": {},
     "output_type": "execute_result"
    }
   ],
   "source": [
    "day_money = pd.Series([1000, 1200, 1300], index=['01-01', '01-02', '01-03'])\n",
    "day_money"
   ]
  },
  {
   "cell_type": "code",
   "execution_count": 15,
   "id": "680a536d-b8e5-46ec-930e-83f1473b27cd",
   "metadata": {},
   "outputs": [
    {
     "data": {
      "text/plain": [
       "np.int64(1000)"
      ]
     },
     "execution_count": 15,
     "metadata": {},
     "output_type": "execute_result"
    }
   ],
   "source": [
    "day_money['01-01']"
   ]
  },
  {
   "cell_type": "code",
   "execution_count": 16,
   "id": "8abe3c3e-9591-44ca-886d-6d59bc899207",
   "metadata": {},
   "outputs": [
    {
     "data": {
      "text/plain": [
       "01-01    1000\n",
       "01-02    1250\n",
       "01-03    1300\n",
       "dtype: int64"
      ]
     },
     "execution_count": 16,
     "metadata": {},
     "output_type": "execute_result"
    }
   ],
   "source": [
    "day_money['01-02'] = 1250\n",
    "day_money"
   ]
  },
  {
   "cell_type": "markdown",
   "id": "50744c63-6acc-4da7-ab31-678672ba1715",
   "metadata": {},
   "source": [
    "# 요일별 매출 데이터를 시리즈로 만들어주세요.\n",
    "값은 매출 [300, 400, 500] 이고, 인덱스는 요일 ['월', '화', '수'] 입니다.\n",
    "\n",
    "1. 화요일 매출을 조회하세요. (결과: 400)\n",
    "2. 수요일 매출을 550으로 수정하세요."
   ]
  },
  {
   "cell_type": "code",
   "execution_count": 17,
   "id": "2c05031e-2af6-4989-923b-f86526aaf9c1",
   "metadata": {},
   "outputs": [
    {
     "data": {
      "text/plain": [
       "월    300\n",
       "화    400\n",
       "수    500\n",
       "dtype: int64"
      ]
     },
     "execution_count": 17,
     "metadata": {},
     "output_type": "execute_result"
    }
   ],
   "source": [
    "day_money = pd.Series([300, 400, 500], index=['월', '화', '수'])\n",
    "day_money"
   ]
  },
  {
   "cell_type": "code",
   "execution_count": 18,
   "id": "3e00abc4-2666-4246-b089-234a765bd436",
   "metadata": {},
   "outputs": [
    {
     "data": {
      "text/plain": [
       "np.int64(400)"
      ]
     },
     "execution_count": 18,
     "metadata": {},
     "output_type": "execute_result"
    }
   ],
   "source": [
    "day_money['화']"
   ]
  },
  {
   "cell_type": "code",
   "execution_count": 19,
   "id": "3dba406d-a71b-47d1-a087-75288edd4716",
   "metadata": {},
   "outputs": [],
   "source": [
    "day_money['수'] = 550"
   ]
  },
  {
   "cell_type": "markdown",
   "id": "a3b2d1f8-8ede-48a6-a2ed-230d9c9d9c21",
   "metadata": {},
   "source": [
    "# 학생 성적 데이터를 데이터프레임으로 만들어주세요.\n",
    "첫 번째 열은 학생 이름: [\"철수\", \"영희\", \"민수\"]\n",
    "두 번째 열은 수학 점수: [85, 90, 78]\n",
    "\n",
    "# 요일별 매출 데이터를 데이터프레임으로 만들어주세요.\n",
    "첫 번째 열은 요일: [\"월\", \"화\", \"수\"]\n",
    "두 번째 열은 매출: [1000, 1200, 900]"
   ]
  },
  {
   "cell_type": "code",
   "execution_count": 26,
   "id": "518b0803-073a-4b5d-b761-8bbba5b311ef",
   "metadata": {},
   "outputs": [
    {
     "data": {
      "text/html": [
       "<div>\n",
       "<style scoped>\n",
       "    .dataframe tbody tr th:only-of-type {\n",
       "        vertical-align: middle;\n",
       "    }\n",
       "\n",
       "    .dataframe tbody tr th {\n",
       "        vertical-align: top;\n",
       "    }\n",
       "\n",
       "    .dataframe thead th {\n",
       "        text-align: right;\n",
       "    }\n",
       "</style>\n",
       "<table border=\"1\" class=\"dataframe\">\n",
       "  <thead>\n",
       "    <tr style=\"text-align: right;\">\n",
       "      <th></th>\n",
       "      <th>학생이름</th>\n",
       "      <th>수학점수</th>\n",
       "    </tr>\n",
       "  </thead>\n",
       "  <tbody>\n",
       "    <tr>\n",
       "      <th>0</th>\n",
       "      <td>철수</td>\n",
       "      <td>85</td>\n",
       "    </tr>\n",
       "    <tr>\n",
       "      <th>1</th>\n",
       "      <td>영희</td>\n",
       "      <td>90</td>\n",
       "    </tr>\n",
       "    <tr>\n",
       "      <th>2</th>\n",
       "      <td>민수</td>\n",
       "      <td>78</td>\n",
       "    </tr>\n",
       "  </tbody>\n",
       "</table>\n",
       "</div>"
      ],
      "text/plain": [
       "  학생이름  수학점수\n",
       "0   철수    85\n",
       "1   영희    90\n",
       "2   민수    78"
      ]
     },
     "execution_count": 26,
     "metadata": {},
     "output_type": "execute_result"
    }
   ],
   "source": [
    "student = {'학생이름': ['철수', '영희', '민수'],\n",
    "          '수학점수': [85, 90, 78]}\n",
    "total = pd.DataFrame(student)\n",
    "total"
   ]
  },
  {
   "cell_type": "code",
   "execution_count": 28,
   "id": "6a847d88-31e7-4057-89ef-bf8e6eae2fe4",
   "metadata": {},
   "outputs": [
    {
     "data": {
      "text/html": [
       "<div>\n",
       "<style scoped>\n",
       "    .dataframe tbody tr th:only-of-type {\n",
       "        vertical-align: middle;\n",
       "    }\n",
       "\n",
       "    .dataframe tbody tr th {\n",
       "        vertical-align: top;\n",
       "    }\n",
       "\n",
       "    .dataframe thead th {\n",
       "        text-align: right;\n",
       "    }\n",
       "</style>\n",
       "<table border=\"1\" class=\"dataframe\">\n",
       "  <thead>\n",
       "    <tr style=\"text-align: right;\">\n",
       "      <th></th>\n",
       "      <th>요일</th>\n",
       "      <th>매출</th>\n",
       "    </tr>\n",
       "  </thead>\n",
       "  <tbody>\n",
       "    <tr>\n",
       "      <th>0</th>\n",
       "      <td>월</td>\n",
       "      <td>1000</td>\n",
       "    </tr>\n",
       "    <tr>\n",
       "      <th>1</th>\n",
       "      <td>화</td>\n",
       "      <td>1200</td>\n",
       "    </tr>\n",
       "    <tr>\n",
       "      <th>2</th>\n",
       "      <td>수</td>\n",
       "      <td>900</td>\n",
       "    </tr>\n",
       "  </tbody>\n",
       "</table>\n",
       "</div>"
      ],
      "text/plain": [
       "  요일    매출\n",
       "0  월  1000\n",
       "1  화  1200\n",
       "2  수   900"
      ]
     },
     "execution_count": 28,
     "metadata": {},
     "output_type": "execute_result"
    }
   ],
   "source": [
    "day = {'요일' : ['월', '화', '수'],\n",
    "      '매출' : [1000, 1200, 900]}\n",
    "total = pd.DataFrame(day)\n",
    "total"
   ]
  },
  {
   "cell_type": "markdown",
   "id": "8553ba84-1982-4faa-9469-4ad4208bc445",
   "metadata": {},
   "source": [
    "# 과일 판매 데이터를 데이터프레임으로 만들어주세요.\n",
    "값은 [[30, 50], [20, 40]]\n",
    "행 이름(index)은 ['사과', '배']\n",
    "열 이름(columns)은 ['판매량', '재고']\n",
    "\n",
    "1. 사과의 판매량을 조회하세요. (결과: 30)\n",
    "2. 새로운 열 '가격'을 추가하고, 사과는 1000원, 배는 1200원으로 입력하세요."
   ]
  },
  {
   "cell_type": "code",
   "execution_count": 46,
   "id": "020199cc-27c9-4d92-9a71-63c7ab74e81d",
   "metadata": {},
   "outputs": [],
   "source": [
    "fru = np.array([[30, 50], [20, 40]])\n",
    "fruit = pd.DataFrame(fru,\n",
    "                    index=['사과', '배'],\n",
    "                    columns=['판매량', '재고'])"
   ]
  },
  {
   "cell_type": "code",
   "execution_count": 60,
   "id": "854d3877-12c3-4b0e-aff8-04e8bb9b97c0",
   "metadata": {},
   "outputs": [
    {
     "data": {
      "text/plain": [
       "np.int64(30)"
      ]
     },
     "execution_count": 60,
     "metadata": {},
     "output_type": "execute_result"
    }
   ],
   "source": [
    "fruit.loc['사과'].iloc[0]"
   ]
  },
  {
   "cell_type": "code",
   "execution_count": 47,
   "id": "c5260345-fbb1-4612-b246-18512814dde5",
   "metadata": {},
   "outputs": [],
   "source": [
    "fruit['가격'] = [1000, 1200]"
   ]
  },
  {
   "cell_type": "code",
   "execution_count": 48,
   "id": "440f0c38-3151-4fca-b6f2-cd418df22f26",
   "metadata": {},
   "outputs": [
    {
     "data": {
      "text/html": [
       "<div>\n",
       "<style scoped>\n",
       "    .dataframe tbody tr th:only-of-type {\n",
       "        vertical-align: middle;\n",
       "    }\n",
       "\n",
       "    .dataframe tbody tr th {\n",
       "        vertical-align: top;\n",
       "    }\n",
       "\n",
       "    .dataframe thead th {\n",
       "        text-align: right;\n",
       "    }\n",
       "</style>\n",
       "<table border=\"1\" class=\"dataframe\">\n",
       "  <thead>\n",
       "    <tr style=\"text-align: right;\">\n",
       "      <th></th>\n",
       "      <th>판매량</th>\n",
       "      <th>재고</th>\n",
       "      <th>가격</th>\n",
       "    </tr>\n",
       "  </thead>\n",
       "  <tbody>\n",
       "    <tr>\n",
       "      <th>사과</th>\n",
       "      <td>30</td>\n",
       "      <td>50</td>\n",
       "      <td>1000</td>\n",
       "    </tr>\n",
       "    <tr>\n",
       "      <th>배</th>\n",
       "      <td>20</td>\n",
       "      <td>40</td>\n",
       "      <td>1200</td>\n",
       "    </tr>\n",
       "  </tbody>\n",
       "</table>\n",
       "</div>"
      ],
      "text/plain": [
       "    판매량  재고    가격\n",
       "사과   30  50  1000\n",
       "배    20  40  1200"
      ]
     },
     "execution_count": 48,
     "metadata": {},
     "output_type": "execute_result"
    }
   ],
   "source": [
    "fruit"
   ]
  },
  {
   "cell_type": "markdown",
   "id": "2d5d23a0-9d83-4ac3-96f0-69b4dd27ddfd",
   "metadata": {},
   "source": [
    "# 도시 데이터를 데이터프레임으로 만들어주세요.\n",
    "값은 [[950, 1200], [500, 800]]\n",
    "행 이름(index)은 ['서울', '부산']\n",
    "열 이름(columns)은 ['인구', '면적']\n",
    "\n",
    "1. 서울의 면적을 조회하세요. (결과: 1200)\n",
    "2. 새로운 열 '특산물'을 추가하고, 서울은 \"김치\", 부산은 \"어묵\"으로 입력하세요."
   ]
  },
  {
   "cell_type": "code",
   "execution_count": 41,
   "id": "34ce0a9c-ab2e-424c-804f-1905f181f8ca",
   "metadata": {},
   "outputs": [
    {
     "data": {
      "text/html": [
       "<div>\n",
       "<style scoped>\n",
       "    .dataframe tbody tr th:only-of-type {\n",
       "        vertical-align: middle;\n",
       "    }\n",
       "\n",
       "    .dataframe tbody tr th {\n",
       "        vertical-align: top;\n",
       "    }\n",
       "\n",
       "    .dataframe thead th {\n",
       "        text-align: right;\n",
       "    }\n",
       "</style>\n",
       "<table border=\"1\" class=\"dataframe\">\n",
       "  <thead>\n",
       "    <tr style=\"text-align: right;\">\n",
       "      <th></th>\n",
       "      <th>인구</th>\n",
       "      <th>면적</th>\n",
       "    </tr>\n",
       "  </thead>\n",
       "  <tbody>\n",
       "    <tr>\n",
       "      <th>서울</th>\n",
       "      <td>950</td>\n",
       "      <td>1200</td>\n",
       "    </tr>\n",
       "    <tr>\n",
       "      <th>부산</th>\n",
       "      <td>500</td>\n",
       "      <td>800</td>\n",
       "    </tr>\n",
       "  </tbody>\n",
       "</table>\n",
       "</div>"
      ],
      "text/plain": [
       "     인구    면적\n",
       "서울  950  1200\n",
       "부산  500   800"
      ]
     },
     "execution_count": 41,
     "metadata": {},
     "output_type": "execute_result"
    }
   ],
   "source": [
    "city = np.array([[950, 1200], [500, 800]])\n",
    "city = pd.DataFrame(city,\n",
    "                   index=['서울', '부산'],\n",
    "                   columns=['인구', '면적'])\n",
    "city"
   ]
  },
  {
   "cell_type": "code",
   "execution_count": 61,
   "id": "3b34332d-1d5b-4132-87e8-f0b9d75dccec",
   "metadata": {},
   "outputs": [
    {
     "data": {
      "text/plain": [
       "np.int64(1200)"
      ]
     },
     "execution_count": 61,
     "metadata": {},
     "output_type": "execute_result"
    }
   ],
   "source": [
    "city.loc['서울'].iloc[1]"
   ]
  },
  {
   "cell_type": "code",
   "execution_count": 42,
   "id": "bd3ba7a8-451a-4f71-acc7-a4cefb50a0e8",
   "metadata": {},
   "outputs": [],
   "source": [
    "city['특산물'] = ['김치', '어묵']"
   ]
  },
  {
   "cell_type": "code",
   "execution_count": 43,
   "id": "a61037fe-45f9-4729-87b9-bc03cd56c10b",
   "metadata": {},
   "outputs": [
    {
     "data": {
      "text/html": [
       "<div>\n",
       "<style scoped>\n",
       "    .dataframe tbody tr th:only-of-type {\n",
       "        vertical-align: middle;\n",
       "    }\n",
       "\n",
       "    .dataframe tbody tr th {\n",
       "        vertical-align: top;\n",
       "    }\n",
       "\n",
       "    .dataframe thead th {\n",
       "        text-align: right;\n",
       "    }\n",
       "</style>\n",
       "<table border=\"1\" class=\"dataframe\">\n",
       "  <thead>\n",
       "    <tr style=\"text-align: right;\">\n",
       "      <th></th>\n",
       "      <th>인구</th>\n",
       "      <th>면적</th>\n",
       "      <th>특산물</th>\n",
       "    </tr>\n",
       "  </thead>\n",
       "  <tbody>\n",
       "    <tr>\n",
       "      <th>서울</th>\n",
       "      <td>950</td>\n",
       "      <td>1200</td>\n",
       "      <td>김치</td>\n",
       "    </tr>\n",
       "    <tr>\n",
       "      <th>부산</th>\n",
       "      <td>500</td>\n",
       "      <td>800</td>\n",
       "      <td>어묵</td>\n",
       "    </tr>\n",
       "  </tbody>\n",
       "</table>\n",
       "</div>"
      ],
      "text/plain": [
       "     인구    면적 특산물\n",
       "서울  950  1200  김치\n",
       "부산  500   800  어묵"
      ]
     },
     "execution_count": 43,
     "metadata": {},
     "output_type": "execute_result"
    }
   ],
   "source": [
    "city"
   ]
  },
  {
   "cell_type": "markdown",
   "id": "0d83d6a2-1b7c-4104-942e-909fbce842a9",
   "metadata": {},
   "source": [
    "# 도서 데이터를 데이터프레임으로 만들어주세요.\n",
    "값은 [[15000, '홍길동전'], [20000, '해리포터']]\n",
    "행 이름(index)은 ['책1', '책2']\n",
    "열 이름(columns)은 ['가격', '제목']\n",
    "\n",
    "1. 책2의 가격을 조회하세요. (결과: 20000)\n",
    "2. 새로운 열 '저자'를 가격 뒤에 추가하고, 책1은 \"허균\", 책2는 \"J.K. 롤링\"으로 입력하세요."
   ]
  },
  {
   "cell_type": "code",
   "execution_count": 76,
   "id": "e382db8d-335a-4f57-916d-87dafda18ff8",
   "metadata": {},
   "outputs": [
    {
     "data": {
      "text/html": [
       "<div>\n",
       "<style scoped>\n",
       "    .dataframe tbody tr th:only-of-type {\n",
       "        vertical-align: middle;\n",
       "    }\n",
       "\n",
       "    .dataframe tbody tr th {\n",
       "        vertical-align: top;\n",
       "    }\n",
       "\n",
       "    .dataframe thead th {\n",
       "        text-align: right;\n",
       "    }\n",
       "</style>\n",
       "<table border=\"1\" class=\"dataframe\">\n",
       "  <thead>\n",
       "    <tr style=\"text-align: right;\">\n",
       "      <th></th>\n",
       "      <th>가격</th>\n",
       "      <th>제목</th>\n",
       "    </tr>\n",
       "  </thead>\n",
       "  <tbody>\n",
       "    <tr>\n",
       "      <th>책1</th>\n",
       "      <td>15000</td>\n",
       "      <td>홍길동전</td>\n",
       "    </tr>\n",
       "    <tr>\n",
       "      <th>책2</th>\n",
       "      <td>20000</td>\n",
       "      <td>해리포터</td>\n",
       "    </tr>\n",
       "  </tbody>\n",
       "</table>\n",
       "</div>"
      ],
      "text/plain": [
       "       가격    제목\n",
       "책1  15000  홍길동전\n",
       "책2  20000  해리포터"
      ]
     },
     "execution_count": 76,
     "metadata": {},
     "output_type": "execute_result"
    }
   ],
   "source": [
    "book = np.array([[15000, '홍길동전'], [20000, '해리포터']])\n",
    "book = pd.DataFrame(book,\n",
    "                   index=['책1', '책2'],\n",
    "                   columns=['가격', '제목'])\n",
    "book"
   ]
  },
  {
   "cell_type": "code",
   "execution_count": 77,
   "id": "743e9d0d-2a89-487d-ab20-d56240660384",
   "metadata": {},
   "outputs": [
    {
     "data": {
      "text/plain": [
       "'20000'"
      ]
     },
     "execution_count": 77,
     "metadata": {},
     "output_type": "execute_result"
    }
   ],
   "source": [
    "book.loc['책2'].iloc[0]"
   ]
  },
  {
   "cell_type": "code",
   "execution_count": 78,
   "id": "266c368a-168b-4469-aeec-18e72600d66d",
   "metadata": {},
   "outputs": [],
   "source": [
    "book.insert(1, '저자', ['허균', 'J.K. 롤링'])"
   ]
  },
  {
   "cell_type": "code",
   "execution_count": 79,
   "id": "e185f24f-15ff-4f7a-b088-11abae18f252",
   "metadata": {},
   "outputs": [
    {
     "data": {
      "text/html": [
       "<div>\n",
       "<style scoped>\n",
       "    .dataframe tbody tr th:only-of-type {\n",
       "        vertical-align: middle;\n",
       "    }\n",
       "\n",
       "    .dataframe tbody tr th {\n",
       "        vertical-align: top;\n",
       "    }\n",
       "\n",
       "    .dataframe thead th {\n",
       "        text-align: right;\n",
       "    }\n",
       "</style>\n",
       "<table border=\"1\" class=\"dataframe\">\n",
       "  <thead>\n",
       "    <tr style=\"text-align: right;\">\n",
       "      <th></th>\n",
       "      <th>가격</th>\n",
       "      <th>저자</th>\n",
       "      <th>제목</th>\n",
       "    </tr>\n",
       "  </thead>\n",
       "  <tbody>\n",
       "    <tr>\n",
       "      <th>책1</th>\n",
       "      <td>15000</td>\n",
       "      <td>허균</td>\n",
       "      <td>홍길동전</td>\n",
       "    </tr>\n",
       "    <tr>\n",
       "      <th>책2</th>\n",
       "      <td>20000</td>\n",
       "      <td>J.K. 롤링</td>\n",
       "      <td>해리포터</td>\n",
       "    </tr>\n",
       "  </tbody>\n",
       "</table>\n",
       "</div>"
      ],
      "text/plain": [
       "       가격       저자    제목\n",
       "책1  15000       허균  홍길동전\n",
       "책2  20000  J.K. 롤링  해리포터"
      ]
     },
     "execution_count": 79,
     "metadata": {},
     "output_type": "execute_result"
    }
   ],
   "source": [
    "book"
   ]
  },
  {
   "cell_type": "markdown",
   "id": "8352e1f8-23b9-4c34-b1ce-0c91d9d89c92",
   "metadata": {},
   "source": [
    "# 영화 데이터를 데이터프레임으로 만들어주세요.\n",
    "값은 [[9.0, 14000], [8.2, 9500]]\n",
    "행 이름(index)은 ['기생충', '인터스텔라']\n",
    "열 이름(columns)은 ['평점', '관객수']\n",
    "\n",
    "1. 영화 기생충의 평점을 조회하세요. (결과: 9.0)\n",
    "2. '관객수' 열을 삭제하세요."
   ]
  },
  {
   "cell_type": "code",
   "execution_count": 69,
   "id": "af883ca2-b2f7-4d1b-a49c-3636299adec6",
   "metadata": {},
   "outputs": [
    {
     "data": {
      "text/html": [
       "<div>\n",
       "<style scoped>\n",
       "    .dataframe tbody tr th:only-of-type {\n",
       "        vertical-align: middle;\n",
       "    }\n",
       "\n",
       "    .dataframe tbody tr th {\n",
       "        vertical-align: top;\n",
       "    }\n",
       "\n",
       "    .dataframe thead th {\n",
       "        text-align: right;\n",
       "    }\n",
       "</style>\n",
       "<table border=\"1\" class=\"dataframe\">\n",
       "  <thead>\n",
       "    <tr style=\"text-align: right;\">\n",
       "      <th></th>\n",
       "      <th>평점</th>\n",
       "      <th>관객수</th>\n",
       "    </tr>\n",
       "  </thead>\n",
       "  <tbody>\n",
       "    <tr>\n",
       "      <th>기생충</th>\n",
       "      <td>9.0</td>\n",
       "      <td>14000.0</td>\n",
       "    </tr>\n",
       "    <tr>\n",
       "      <th>인터스텔라</th>\n",
       "      <td>8.2</td>\n",
       "      <td>9500.0</td>\n",
       "    </tr>\n",
       "  </tbody>\n",
       "</table>\n",
       "</div>"
      ],
      "text/plain": [
       "        평점      관객수\n",
       "기생충    9.0  14000.0\n",
       "인터스텔라  8.2   9500.0"
      ]
     },
     "execution_count": 69,
     "metadata": {},
     "output_type": "execute_result"
    }
   ],
   "source": [
    "movie = np.array([[9.0, 14000], [8.2, 9500]])\n",
    "movie = pd.DataFrame(movie,\n",
    "                     index=['기생충', '인터스텔라'],\n",
    "                     columns=['평점', '관객수'])\n",
    "movie"
   ]
  },
  {
   "cell_type": "code",
   "execution_count": 70,
   "id": "1fe32e15-cbe4-4ba4-a1c8-a89cf128198d",
   "metadata": {},
   "outputs": [
    {
     "data": {
      "text/plain": [
       "np.float64(9.0)"
      ]
     },
     "execution_count": 70,
     "metadata": {},
     "output_type": "execute_result"
    }
   ],
   "source": [
    "movie.loc['기생충'].iloc[0]"
   ]
  },
  {
   "cell_type": "code",
   "execution_count": 71,
   "id": "e35bec5d-bf0d-41b3-9a16-a845dd80a359",
   "metadata": {},
   "outputs": [],
   "source": [
    "movie = movie.drop('관객수', axis=1)"
   ]
  },
  {
   "cell_type": "code",
   "execution_count": 72,
   "id": "ccc0f1e5-edb9-4cc9-a39e-8263e9dbce72",
   "metadata": {},
   "outputs": [
    {
     "data": {
      "text/html": [
       "<div>\n",
       "<style scoped>\n",
       "    .dataframe tbody tr th:only-of-type {\n",
       "        vertical-align: middle;\n",
       "    }\n",
       "\n",
       "    .dataframe tbody tr th {\n",
       "        vertical-align: top;\n",
       "    }\n",
       "\n",
       "    .dataframe thead th {\n",
       "        text-align: right;\n",
       "    }\n",
       "</style>\n",
       "<table border=\"1\" class=\"dataframe\">\n",
       "  <thead>\n",
       "    <tr style=\"text-align: right;\">\n",
       "      <th></th>\n",
       "      <th>평점</th>\n",
       "    </tr>\n",
       "  </thead>\n",
       "  <tbody>\n",
       "    <tr>\n",
       "      <th>기생충</th>\n",
       "      <td>9.0</td>\n",
       "    </tr>\n",
       "    <tr>\n",
       "      <th>인터스텔라</th>\n",
       "      <td>8.2</td>\n",
       "    </tr>\n",
       "  </tbody>\n",
       "</table>\n",
       "</div>"
      ],
      "text/plain": [
       "        평점\n",
       "기생충    9.0\n",
       "인터스텔라  8.2"
      ]
     },
     "execution_count": 72,
     "metadata": {},
     "output_type": "execute_result"
    }
   ],
   "source": [
    "movie"
   ]
  },
  {
   "cell_type": "markdown",
   "id": "d8cb5980-3c39-429a-be58-0ac8ad9dcbc2",
   "metadata": {},
   "source": [
    "# 학생 점수 데이터를 시리즈로 만들어주세요.\n",
    "값은 점수 [80, 90, 75, 85] 이고, 인덱스는 과목 ['국어', '영어', '수학', '과학'] 입니다.\n",
    "\n",
    "1. 총점을 구하세요.\n",
    "2. 평균 점수를 구하세요.\n",
    "3. 가장 높은 점수를 구하세요.\n",
    "4. 가장 낮은 점수를 구하세요."
   ]
  },
  {
   "cell_type": "code",
   "execution_count": 81,
   "id": "584cd08b-a6a1-47bd-8eab-927ee9fafef9",
   "metadata": {},
   "outputs": [
    {
     "data": {
      "text/plain": [
       "국어    80\n",
       "영어    90\n",
       "수학    75\n",
       "과학    85\n",
       "dtype: int64"
      ]
     },
     "execution_count": 81,
     "metadata": {},
     "output_type": "execute_result"
    }
   ],
   "source": [
    "score = pd.Series([80, 90, 75, 85], index=['국어', '영어', '수학', '과학'])\n",
    "score"
   ]
  },
  {
   "cell_type": "code",
   "execution_count": 94,
   "id": "1473e1bf-8c7c-4bee-b8cc-5a14ab3da809",
   "metadata": {},
   "outputs": [
    {
     "name": "stdout",
     "output_type": "stream",
     "text": [
      "총점: 330\n"
     ]
    }
   ],
   "source": [
    "print('총점:', score.sum())"
   ]
  },
  {
   "cell_type": "code",
   "execution_count": 95,
   "id": "c5412c72-7533-4ecb-ac91-61fbb9d416a9",
   "metadata": {},
   "outputs": [
    {
     "name": "stdout",
     "output_type": "stream",
     "text": [
      "평균 점수: 82.5\n"
     ]
    }
   ],
   "source": [
    "print('평균 점수:', score.mean())"
   ]
  },
  {
   "cell_type": "code",
   "execution_count": 96,
   "id": "c62b39c2-6821-4049-be08-25c7cee55206",
   "metadata": {},
   "outputs": [
    {
     "name": "stdout",
     "output_type": "stream",
     "text": [
      "최고 점수: 90\n"
     ]
    }
   ],
   "source": [
    "print('최고 점수:', score.max())"
   ]
  },
  {
   "cell_type": "code",
   "execution_count": 97,
   "id": "5b5760ca-1d20-49de-a34e-b666a74ec35a",
   "metadata": {},
   "outputs": [
    {
     "name": "stdout",
     "output_type": "stream",
     "text": [
      "최저 점수: 75\n"
     ]
    }
   ],
   "source": [
    "print('최저 점수:', score.min())"
   ]
  },
  {
   "cell_type": "markdown",
   "id": "09c95aa5-863d-4159-9a48-4cbd0cc1f33d",
   "metadata": {},
   "source": [
    "# 일주일 동안의 기온 데이터를 시리즈로 만들어주세요.\n",
    "값은 기온 [2, 5, -1, 0, 7, -3, 4] 이고, 인덱스는 요일 ['월', '화', '수', '목', '금', '토', '일'] 입니다.\n",
    "\n",
    "1. 영상(0°C 이상)인 날만 골라내세요."
   ]
  },
  {
   "cell_type": "code",
   "execution_count": 98,
   "id": "6d705f55-b36d-4117-9837-909c697e1a88",
   "metadata": {},
   "outputs": [
    {
     "data": {
      "text/plain": [
       "월    2\n",
       "화    5\n",
       "목    0\n",
       "금    7\n",
       "일    4\n",
       "dtype: int64"
      ]
     },
     "execution_count": 98,
     "metadata": {},
     "output_type": "execute_result"
    }
   ],
   "source": [
    "temp = pd.Series([2, 5, -1, 0, 7, -3, 4], index=['월', '화', '수', '목', '금', '토', '일'])\n",
    "temp[temp >= 0]"
   ]
  },
  {
   "cell_type": "markdown",
   "id": "fb18622a-9405-4be1-9841-a175a5c51793",
   "metadata": {},
   "source": [
    "# 영화 데이터를 데이터프레임으로 만들어주세요.\n",
    "값은 [[12000, 9.0], [8000, 8.5], [15000, 9.3]]\n",
    "행 이름(index)은 ['기생충', '인터스텔라', '아바타']\n",
    "열 이름(columns)은 ['관객수', '평점']\n",
    "\n",
    "1. 모든 영화의 관객수에 1000명을 추가하세요.\n",
    "(결과: [13000, 9000, 16000])\n",
    "\n",
    "2. 평점이 9.0 이상인 영화만 조회하세요."
   ]
  },
  {
   "cell_type": "code",
   "execution_count": 99,
   "id": "33e29167-4bef-4cf8-9a84-4258cda33333",
   "metadata": {},
   "outputs": [
    {
     "data": {
      "text/html": [
       "<div>\n",
       "<style scoped>\n",
       "    .dataframe tbody tr th:only-of-type {\n",
       "        vertical-align: middle;\n",
       "    }\n",
       "\n",
       "    .dataframe tbody tr th {\n",
       "        vertical-align: top;\n",
       "    }\n",
       "\n",
       "    .dataframe thead th {\n",
       "        text-align: right;\n",
       "    }\n",
       "</style>\n",
       "<table border=\"1\" class=\"dataframe\">\n",
       "  <thead>\n",
       "    <tr style=\"text-align: right;\">\n",
       "      <th></th>\n",
       "      <th>관객수</th>\n",
       "      <th>평점</th>\n",
       "    </tr>\n",
       "  </thead>\n",
       "  <tbody>\n",
       "    <tr>\n",
       "      <th>기생충</th>\n",
       "      <td>12000.0</td>\n",
       "      <td>9.0</td>\n",
       "    </tr>\n",
       "    <tr>\n",
       "      <th>인터스텔라</th>\n",
       "      <td>8000.0</td>\n",
       "      <td>8.5</td>\n",
       "    </tr>\n",
       "    <tr>\n",
       "      <th>아바타</th>\n",
       "      <td>15000.0</td>\n",
       "      <td>9.3</td>\n",
       "    </tr>\n",
       "  </tbody>\n",
       "</table>\n",
       "</div>"
      ],
      "text/plain": [
       "           관객수   평점\n",
       "기생충    12000.0  9.0\n",
       "인터스텔라   8000.0  8.5\n",
       "아바타    15000.0  9.3"
      ]
     },
     "execution_count": 99,
     "metadata": {},
     "output_type": "execute_result"
    }
   ],
   "source": [
    "movie = np.array([[12000, 9.0], [8000, 8.5], [15000, 9.3]])\n",
    "movie = pd.DataFrame(movie,\n",
    "                    index=['기생충', '인터스텔라', '아바타'],\n",
    "                    columns=['관객수', '평점'])\n",
    "movie"
   ]
  },
  {
   "cell_type": "code",
   "execution_count": 117,
   "id": "382fd644-10c3-4298-ae44-01a88c81fe50",
   "metadata": {},
   "outputs": [
    {
     "data": {
      "text/plain": [
       "기생충      13000.0\n",
       "인터스텔라     9000.0\n",
       "아바타      16000.0\n",
       "Name: 관객수, dtype: float64"
      ]
     },
     "execution_count": 117,
     "metadata": {},
     "output_type": "execute_result"
    }
   ],
   "source": [
    "movie['관객수'] + 1000"
   ]
  },
  {
   "cell_type": "code",
   "execution_count": 106,
   "id": "b691e740-7be2-4998-a2dd-853f770a18f1",
   "metadata": {},
   "outputs": [
    {
     "data": {
      "text/html": [
       "<div>\n",
       "<style scoped>\n",
       "    .dataframe tbody tr th:only-of-type {\n",
       "        vertical-align: middle;\n",
       "    }\n",
       "\n",
       "    .dataframe tbody tr th {\n",
       "        vertical-align: top;\n",
       "    }\n",
       "\n",
       "    .dataframe thead th {\n",
       "        text-align: right;\n",
       "    }\n",
       "</style>\n",
       "<table border=\"1\" class=\"dataframe\">\n",
       "  <thead>\n",
       "    <tr style=\"text-align: right;\">\n",
       "      <th></th>\n",
       "      <th>관객수</th>\n",
       "      <th>평점</th>\n",
       "    </tr>\n",
       "  </thead>\n",
       "  <tbody>\n",
       "    <tr>\n",
       "      <th>기생충</th>\n",
       "      <td>12000.0</td>\n",
       "      <td>9.0</td>\n",
       "    </tr>\n",
       "    <tr>\n",
       "      <th>아바타</th>\n",
       "      <td>15000.0</td>\n",
       "      <td>9.3</td>\n",
       "    </tr>\n",
       "  </tbody>\n",
       "</table>\n",
       "</div>"
      ],
      "text/plain": [
       "         관객수   평점\n",
       "기생충  12000.0  9.0\n",
       "아바타  15000.0  9.3"
      ]
     },
     "execution_count": 106,
     "metadata": {},
     "output_type": "execute_result"
    }
   ],
   "source": [
    "movie.loc[movie['평점'] >= 9.0]"
   ]
  },
  {
   "cell_type": "markdown",
   "id": "c0da14e2-0bf5-4db2-a479-f8b045021519",
   "metadata": {},
   "source": [
    "# 상품 매출 데이터를 데이터프레임으로 만들어주세요.\n",
    "값: [[25000, 30000], [40000, 15000]]\n",
    "행 이름(index): [‘치마', '바지']\n",
    "열 이름(columns): ['1월 매출', ‘2월 매출']\n",
    "\n",
    "1. 새로운 열 '합계'를 추가하여 1월과 2월 매출의 합을 구하세요.\n",
    "2. '합계'를 만원 단위로 바꾼 새로운 열 '합계(만원)'을 추가하세요."
   ]
  },
  {
   "cell_type": "code",
   "execution_count": 162,
   "id": "ffa41d1b-2086-4bea-a117-78f416e91504",
   "metadata": {},
   "outputs": [
    {
     "data": {
      "text/html": [
       "<div>\n",
       "<style scoped>\n",
       "    .dataframe tbody tr th:only-of-type {\n",
       "        vertical-align: middle;\n",
       "    }\n",
       "\n",
       "    .dataframe tbody tr th {\n",
       "        vertical-align: top;\n",
       "    }\n",
       "\n",
       "    .dataframe thead th {\n",
       "        text-align: right;\n",
       "    }\n",
       "</style>\n",
       "<table border=\"1\" class=\"dataframe\">\n",
       "  <thead>\n",
       "    <tr style=\"text-align: right;\">\n",
       "      <th></th>\n",
       "      <th>1월 매출</th>\n",
       "      <th>2월 매출</th>\n",
       "    </tr>\n",
       "  </thead>\n",
       "  <tbody>\n",
       "    <tr>\n",
       "      <th>치마</th>\n",
       "      <td>25000</td>\n",
       "      <td>30000</td>\n",
       "    </tr>\n",
       "    <tr>\n",
       "      <th>바지</th>\n",
       "      <td>40000</td>\n",
       "      <td>15000</td>\n",
       "    </tr>\n",
       "  </tbody>\n",
       "</table>\n",
       "</div>"
      ],
      "text/plain": [
       "    1월 매출  2월 매출\n",
       "치마  25000  30000\n",
       "바지  40000  15000"
      ]
     },
     "execution_count": 162,
     "metadata": {},
     "output_type": "execute_result"
    }
   ],
   "source": [
    "sale = np.array([[25000, 30000], [40000, 15000]])\n",
    "sale = pd.DataFrame(sale,\n",
    "                   index=['치마', '바지'],\n",
    "                   columns=['1월 매출', '2월 매출'])\n",
    "sale"
   ]
  },
  {
   "cell_type": "code",
   "execution_count": 163,
   "id": "7d851927-9578-4124-8e9e-5926abe4a181",
   "metadata": {},
   "outputs": [
    {
     "data": {
      "text/html": [
       "<div>\n",
       "<style scoped>\n",
       "    .dataframe tbody tr th:only-of-type {\n",
       "        vertical-align: middle;\n",
       "    }\n",
       "\n",
       "    .dataframe tbody tr th {\n",
       "        vertical-align: top;\n",
       "    }\n",
       "\n",
       "    .dataframe thead th {\n",
       "        text-align: right;\n",
       "    }\n",
       "</style>\n",
       "<table border=\"1\" class=\"dataframe\">\n",
       "  <thead>\n",
       "    <tr style=\"text-align: right;\">\n",
       "      <th></th>\n",
       "      <th>1월 매출</th>\n",
       "      <th>2월 매출</th>\n",
       "      <th>합계</th>\n",
       "    </tr>\n",
       "  </thead>\n",
       "  <tbody>\n",
       "    <tr>\n",
       "      <th>치마</th>\n",
       "      <td>25000</td>\n",
       "      <td>30000</td>\n",
       "      <td>55000</td>\n",
       "    </tr>\n",
       "    <tr>\n",
       "      <th>바지</th>\n",
       "      <td>40000</td>\n",
       "      <td>15000</td>\n",
       "      <td>55000</td>\n",
       "    </tr>\n",
       "  </tbody>\n",
       "</table>\n",
       "</div>"
      ],
      "text/plain": [
       "    1월 매출  2월 매출     합계\n",
       "치마  25000  30000  55000\n",
       "바지  40000  15000  55000"
      ]
     },
     "execution_count": 163,
     "metadata": {},
     "output_type": "execute_result"
    }
   ],
   "source": [
    "sale['합계'] = sale['1월 매출'] + sale['2월 매출']\n",
    "sale"
   ]
  },
  {
   "cell_type": "code",
   "execution_count": 164,
   "id": "00edb072-2dfe-49d9-9d3f-50daed6aff13",
   "metadata": {},
   "outputs": [
    {
     "data": {
      "text/html": [
       "<div>\n",
       "<style scoped>\n",
       "    .dataframe tbody tr th:only-of-type {\n",
       "        vertical-align: middle;\n",
       "    }\n",
       "\n",
       "    .dataframe tbody tr th {\n",
       "        vertical-align: top;\n",
       "    }\n",
       "\n",
       "    .dataframe thead th {\n",
       "        text-align: right;\n",
       "    }\n",
       "</style>\n",
       "<table border=\"1\" class=\"dataframe\">\n",
       "  <thead>\n",
       "    <tr style=\"text-align: right;\">\n",
       "      <th></th>\n",
       "      <th>1월 매출</th>\n",
       "      <th>2월 매출</th>\n",
       "      <th>합계</th>\n",
       "      <th>합계(만원)</th>\n",
       "    </tr>\n",
       "  </thead>\n",
       "  <tbody>\n",
       "    <tr>\n",
       "      <th>치마</th>\n",
       "      <td>25000</td>\n",
       "      <td>30000</td>\n",
       "      <td>55000</td>\n",
       "      <td>5.5</td>\n",
       "    </tr>\n",
       "    <tr>\n",
       "      <th>바지</th>\n",
       "      <td>40000</td>\n",
       "      <td>15000</td>\n",
       "      <td>55000</td>\n",
       "      <td>5.5</td>\n",
       "    </tr>\n",
       "  </tbody>\n",
       "</table>\n",
       "</div>"
      ],
      "text/plain": [
       "    1월 매출  2월 매출     합계  합계(만원)\n",
       "치마  25000  30000  55000     5.5\n",
       "바지  40000  15000  55000     5.5"
      ]
     },
     "execution_count": 164,
     "metadata": {},
     "output_type": "execute_result"
    }
   ],
   "source": [
    "sale['합계(만원)'] = (sale['1월 매출'] + sale['2월 매출']) / 10000\n",
    "sale"
   ]
  },
  {
   "cell_type": "markdown",
   "id": "a182c3a9-a295-4646-9582-9f86aeb55ec0",
   "metadata": {},
   "source": [
    "# 도시별 기온 데이터를 데이터 프레임으로 만들어 주세요.\n",
    "데이터: [[20, 25, 15], [18, 22, 19], [25, 27, 23]]\n",
    "행 이름(index): ['서울', '부산', '대구']\n",
    "열 이름(columns): ['봄', '여름', '겨울']\n",
    "\n",
    "1. 서울의 여름 기온을 빈값(NaN) 으로 변경하세요.\n",
    "2. 빈값이 포함된 행을 삭제 하세요.\n",
    "3. 부산의 봄 기온을 빈값(NaN) 으로 변경하세요.\n",
    "4. 모든 빈값을 0으로 채우세요."
   ]
  },
  {
   "cell_type": "code",
   "execution_count": 231,
   "id": "ca1b7a4a-5e22-45bb-b84b-80d43c5c7753",
   "metadata": {},
   "outputs": [
    {
     "data": {
      "text/html": [
       "<div>\n",
       "<style scoped>\n",
       "    .dataframe tbody tr th:only-of-type {\n",
       "        vertical-align: middle;\n",
       "    }\n",
       "\n",
       "    .dataframe tbody tr th {\n",
       "        vertical-align: top;\n",
       "    }\n",
       "\n",
       "    .dataframe thead th {\n",
       "        text-align: right;\n",
       "    }\n",
       "</style>\n",
       "<table border=\"1\" class=\"dataframe\">\n",
       "  <thead>\n",
       "    <tr style=\"text-align: right;\">\n",
       "      <th></th>\n",
       "      <th>봄</th>\n",
       "      <th>여름</th>\n",
       "      <th>겨울</th>\n",
       "    </tr>\n",
       "  </thead>\n",
       "  <tbody>\n",
       "    <tr>\n",
       "      <th>서울</th>\n",
       "      <td>20</td>\n",
       "      <td>25</td>\n",
       "      <td>15</td>\n",
       "    </tr>\n",
       "    <tr>\n",
       "      <th>부산</th>\n",
       "      <td>18</td>\n",
       "      <td>22</td>\n",
       "      <td>19</td>\n",
       "    </tr>\n",
       "    <tr>\n",
       "      <th>대구</th>\n",
       "      <td>25</td>\n",
       "      <td>27</td>\n",
       "      <td>23</td>\n",
       "    </tr>\n",
       "  </tbody>\n",
       "</table>\n",
       "</div>"
      ],
      "text/plain": [
       "     봄  여름  겨울\n",
       "서울  20  25  15\n",
       "부산  18  22  19\n",
       "대구  25  27  23"
      ]
     },
     "execution_count": 231,
     "metadata": {},
     "output_type": "execute_result"
    }
   ],
   "source": [
    "city = np.array([[20, 25, 15], [18, 22, 19], [25, 27, 23]])\n",
    "city = pd.DataFrame(city,\n",
    "                    index=['서울', '부산', '대구'],\n",
    "                    columns=['봄', '여름', '겨울'])\n",
    "city"
   ]
  },
  {
   "cell_type": "code",
   "execution_count": 232,
   "id": "4319a2cf-b12e-42f5-be6c-e047263d45fb",
   "metadata": {},
   "outputs": [
    {
     "data": {
      "text/html": [
       "<div>\n",
       "<style scoped>\n",
       "    .dataframe tbody tr th:only-of-type {\n",
       "        vertical-align: middle;\n",
       "    }\n",
       "\n",
       "    .dataframe tbody tr th {\n",
       "        vertical-align: top;\n",
       "    }\n",
       "\n",
       "    .dataframe thead th {\n",
       "        text-align: right;\n",
       "    }\n",
       "</style>\n",
       "<table border=\"1\" class=\"dataframe\">\n",
       "  <thead>\n",
       "    <tr style=\"text-align: right;\">\n",
       "      <th></th>\n",
       "      <th>봄</th>\n",
       "      <th>여름</th>\n",
       "      <th>겨울</th>\n",
       "    </tr>\n",
       "  </thead>\n",
       "  <tbody>\n",
       "    <tr>\n",
       "      <th>서울</th>\n",
       "      <td>20</td>\n",
       "      <td>NaN</td>\n",
       "      <td>15</td>\n",
       "    </tr>\n",
       "    <tr>\n",
       "      <th>부산</th>\n",
       "      <td>18</td>\n",
       "      <td>22.0</td>\n",
       "      <td>19</td>\n",
       "    </tr>\n",
       "    <tr>\n",
       "      <th>대구</th>\n",
       "      <td>25</td>\n",
       "      <td>27.0</td>\n",
       "      <td>23</td>\n",
       "    </tr>\n",
       "  </tbody>\n",
       "</table>\n",
       "</div>"
      ],
      "text/plain": [
       "     봄    여름  겨울\n",
       "서울  20   NaN  15\n",
       "부산  18  22.0  19\n",
       "대구  25  27.0  23"
      ]
     },
     "execution_count": 232,
     "metadata": {},
     "output_type": "execute_result"
    }
   ],
   "source": [
    "city.loc['서울', '여름'] = np.nan\n",
    "city"
   ]
  },
  {
   "cell_type": "code",
   "execution_count": 233,
   "id": "7be78f70-7045-4090-83c7-412a530d68c1",
   "metadata": {},
   "outputs": [
    {
     "data": {
      "text/html": [
       "<div>\n",
       "<style scoped>\n",
       "    .dataframe tbody tr th:only-of-type {\n",
       "        vertical-align: middle;\n",
       "    }\n",
       "\n",
       "    .dataframe tbody tr th {\n",
       "        vertical-align: top;\n",
       "    }\n",
       "\n",
       "    .dataframe thead th {\n",
       "        text-align: right;\n",
       "    }\n",
       "</style>\n",
       "<table border=\"1\" class=\"dataframe\">\n",
       "  <thead>\n",
       "    <tr style=\"text-align: right;\">\n",
       "      <th></th>\n",
       "      <th>봄</th>\n",
       "      <th>여름</th>\n",
       "      <th>겨울</th>\n",
       "    </tr>\n",
       "  </thead>\n",
       "  <tbody>\n",
       "    <tr>\n",
       "      <th>부산</th>\n",
       "      <td>18</td>\n",
       "      <td>22.0</td>\n",
       "      <td>19</td>\n",
       "    </tr>\n",
       "    <tr>\n",
       "      <th>대구</th>\n",
       "      <td>25</td>\n",
       "      <td>27.0</td>\n",
       "      <td>23</td>\n",
       "    </tr>\n",
       "  </tbody>\n",
       "</table>\n",
       "</div>"
      ],
      "text/plain": [
       "     봄    여름  겨울\n",
       "부산  18  22.0  19\n",
       "대구  25  27.0  23"
      ]
     },
     "execution_count": 233,
     "metadata": {},
     "output_type": "execute_result"
    }
   ],
   "source": [
    "city = city.dropna(axis=0)\n",
    "city"
   ]
  },
  {
   "cell_type": "code",
   "execution_count": 234,
   "id": "dd90fd0c-baa0-4c8a-a0e2-59ce1e193d0e",
   "metadata": {},
   "outputs": [
    {
     "data": {
      "text/html": [
       "<div>\n",
       "<style scoped>\n",
       "    .dataframe tbody tr th:only-of-type {\n",
       "        vertical-align: middle;\n",
       "    }\n",
       "\n",
       "    .dataframe tbody tr th {\n",
       "        vertical-align: top;\n",
       "    }\n",
       "\n",
       "    .dataframe thead th {\n",
       "        text-align: right;\n",
       "    }\n",
       "</style>\n",
       "<table border=\"1\" class=\"dataframe\">\n",
       "  <thead>\n",
       "    <tr style=\"text-align: right;\">\n",
       "      <th></th>\n",
       "      <th>봄</th>\n",
       "      <th>여름</th>\n",
       "      <th>겨울</th>\n",
       "    </tr>\n",
       "  </thead>\n",
       "  <tbody>\n",
       "    <tr>\n",
       "      <th>부산</th>\n",
       "      <td>NaN</td>\n",
       "      <td>22.0</td>\n",
       "      <td>19</td>\n",
       "    </tr>\n",
       "    <tr>\n",
       "      <th>대구</th>\n",
       "      <td>25.0</td>\n",
       "      <td>27.0</td>\n",
       "      <td>23</td>\n",
       "    </tr>\n",
       "  </tbody>\n",
       "</table>\n",
       "</div>"
      ],
      "text/plain": [
       "       봄    여름  겨울\n",
       "부산   NaN  22.0  19\n",
       "대구  25.0  27.0  23"
      ]
     },
     "execution_count": 234,
     "metadata": {},
     "output_type": "execute_result"
    }
   ],
   "source": [
    "city.loc['부산', '봄'] = np.nan\n",
    "city"
   ]
  },
  {
   "cell_type": "code",
   "execution_count": 235,
   "id": "36824ae6-dd7f-4658-a489-a1c348b8fbe4",
   "metadata": {},
   "outputs": [
    {
     "data": {
      "text/html": [
       "<div>\n",
       "<style scoped>\n",
       "    .dataframe tbody tr th:only-of-type {\n",
       "        vertical-align: middle;\n",
       "    }\n",
       "\n",
       "    .dataframe tbody tr th {\n",
       "        vertical-align: top;\n",
       "    }\n",
       "\n",
       "    .dataframe thead th {\n",
       "        text-align: right;\n",
       "    }\n",
       "</style>\n",
       "<table border=\"1\" class=\"dataframe\">\n",
       "  <thead>\n",
       "    <tr style=\"text-align: right;\">\n",
       "      <th></th>\n",
       "      <th>봄</th>\n",
       "      <th>여름</th>\n",
       "      <th>겨울</th>\n",
       "    </tr>\n",
       "  </thead>\n",
       "  <tbody>\n",
       "    <tr>\n",
       "      <th>부산</th>\n",
       "      <td>0.0</td>\n",
       "      <td>22.0</td>\n",
       "      <td>19</td>\n",
       "    </tr>\n",
       "    <tr>\n",
       "      <th>대구</th>\n",
       "      <td>25.0</td>\n",
       "      <td>27.0</td>\n",
       "      <td>23</td>\n",
       "    </tr>\n",
       "  </tbody>\n",
       "</table>\n",
       "</div>"
      ],
      "text/plain": [
       "       봄    여름  겨울\n",
       "부산   0.0  22.0  19\n",
       "대구  25.0  27.0  23"
      ]
     },
     "execution_count": 235,
     "metadata": {},
     "output_type": "execute_result"
    }
   ],
   "source": [
    "city.fillna(0)"
   ]
  },
  {
   "cell_type": "markdown",
   "id": "e264b1a9-959c-4f73-af23-2a9d3c9ab0a1",
   "metadata": {},
   "source": [
    "# 학급별 점수 데이터를 데이터프레임으로 만드세요.\n",
    "데이터: [[80, 75, 90], [85, 88, 82], [70, 65, 78]]\n",
    "행 이름(index): ['국어', '영어', '수학']\n",
    "열 이름(columns): ['1반', '2반', '3반']\n",
    "\n",
    "1. 2반 영어 점수를 빈값(NaN) 으로 변경하세요.\n",
    "2. 빈값이 포함된 열을 삭제하세요.\n",
    "3. 3반 수학 점수를 빈값(NaN) 으로 변경하세요.\n",
    "4. 모든 빈값을 100으로 채우세요."
   ]
  },
  {
   "cell_type": "code",
   "execution_count": 166,
   "id": "ec1f0e40-9f11-47b2-9f68-f398b619ebca",
   "metadata": {},
   "outputs": [
    {
     "data": {
      "text/html": [
       "<div>\n",
       "<style scoped>\n",
       "    .dataframe tbody tr th:only-of-type {\n",
       "        vertical-align: middle;\n",
       "    }\n",
       "\n",
       "    .dataframe tbody tr th {\n",
       "        vertical-align: top;\n",
       "    }\n",
       "\n",
       "    .dataframe thead th {\n",
       "        text-align: right;\n",
       "    }\n",
       "</style>\n",
       "<table border=\"1\" class=\"dataframe\">\n",
       "  <thead>\n",
       "    <tr style=\"text-align: right;\">\n",
       "      <th></th>\n",
       "      <th>1반</th>\n",
       "      <th>2반</th>\n",
       "      <th>3반</th>\n",
       "    </tr>\n",
       "  </thead>\n",
       "  <tbody>\n",
       "    <tr>\n",
       "      <th>국어</th>\n",
       "      <td>80</td>\n",
       "      <td>75</td>\n",
       "      <td>90</td>\n",
       "    </tr>\n",
       "    <tr>\n",
       "      <th>영어</th>\n",
       "      <td>85</td>\n",
       "      <td>88</td>\n",
       "      <td>82</td>\n",
       "    </tr>\n",
       "    <tr>\n",
       "      <th>수학</th>\n",
       "      <td>70</td>\n",
       "      <td>65</td>\n",
       "      <td>78</td>\n",
       "    </tr>\n",
       "  </tbody>\n",
       "</table>\n",
       "</div>"
      ],
      "text/plain": [
       "    1반  2반  3반\n",
       "국어  80  75  90\n",
       "영어  85  88  82\n",
       "수학  70  65  78"
      ]
     },
     "execution_count": 166,
     "metadata": {},
     "output_type": "execute_result"
    }
   ],
   "source": [
    "student = np.array([[80, 75, 90], [85, 88, 82], [70, 65, 78]])\n",
    "student = pd.DataFrame(student,\n",
    "                       index=['국어', '영어', '수학'],\n",
    "                       columns=['1반', '2반', '3반'])\n",
    "student"
   ]
  },
  {
   "cell_type": "code",
   "execution_count": 237,
   "id": "e23502f2-c786-4487-a237-f7e3392fa4d7",
   "metadata": {},
   "outputs": [],
   "source": [
    "student.loc['영어', '2반'] = np.nan"
   ]
  },
  {
   "cell_type": "code",
   "execution_count": 238,
   "id": "57e87bd7-c927-45ee-8e4e-fae37aebbd32",
   "metadata": {},
   "outputs": [
    {
     "data": {
      "text/html": [
       "<div>\n",
       "<style scoped>\n",
       "    .dataframe tbody tr th:only-of-type {\n",
       "        vertical-align: middle;\n",
       "    }\n",
       "\n",
       "    .dataframe tbody tr th {\n",
       "        vertical-align: top;\n",
       "    }\n",
       "\n",
       "    .dataframe thead th {\n",
       "        text-align: right;\n",
       "    }\n",
       "</style>\n",
       "<table border=\"1\" class=\"dataframe\">\n",
       "  <thead>\n",
       "    <tr style=\"text-align: right;\">\n",
       "      <th></th>\n",
       "      <th>1반</th>\n",
       "      <th>2반</th>\n",
       "      <th>3반</th>\n",
       "    </tr>\n",
       "  </thead>\n",
       "  <tbody>\n",
       "    <tr>\n",
       "      <th>국어</th>\n",
       "      <td>80</td>\n",
       "      <td>75.0</td>\n",
       "      <td>90</td>\n",
       "    </tr>\n",
       "    <tr>\n",
       "      <th>영어</th>\n",
       "      <td>85</td>\n",
       "      <td>NaN</td>\n",
       "      <td>82</td>\n",
       "    </tr>\n",
       "    <tr>\n",
       "      <th>수학</th>\n",
       "      <td>70</td>\n",
       "      <td>65.0</td>\n",
       "      <td>78</td>\n",
       "    </tr>\n",
       "  </tbody>\n",
       "</table>\n",
       "</div>"
      ],
      "text/plain": [
       "    1반    2반  3반\n",
       "국어  80  75.0  90\n",
       "영어  85   NaN  82\n",
       "수학  70  65.0  78"
      ]
     },
     "execution_count": 238,
     "metadata": {},
     "output_type": "execute_result"
    }
   ],
   "source": [
    "student"
   ]
  },
  {
   "cell_type": "code",
   "execution_count": 241,
   "id": "e3f39849-e9e1-403d-b5fa-116aca8eb943",
   "metadata": {},
   "outputs": [
    {
     "data": {
      "text/html": [
       "<div>\n",
       "<style scoped>\n",
       "    .dataframe tbody tr th:only-of-type {\n",
       "        vertical-align: middle;\n",
       "    }\n",
       "\n",
       "    .dataframe tbody tr th {\n",
       "        vertical-align: top;\n",
       "    }\n",
       "\n",
       "    .dataframe thead th {\n",
       "        text-align: right;\n",
       "    }\n",
       "</style>\n",
       "<table border=\"1\" class=\"dataframe\">\n",
       "  <thead>\n",
       "    <tr style=\"text-align: right;\">\n",
       "      <th></th>\n",
       "      <th>1반</th>\n",
       "      <th>3반</th>\n",
       "    </tr>\n",
       "  </thead>\n",
       "  <tbody>\n",
       "    <tr>\n",
       "      <th>국어</th>\n",
       "      <td>80</td>\n",
       "      <td>90</td>\n",
       "    </tr>\n",
       "    <tr>\n",
       "      <th>영어</th>\n",
       "      <td>85</td>\n",
       "      <td>82</td>\n",
       "    </tr>\n",
       "    <tr>\n",
       "      <th>수학</th>\n",
       "      <td>70</td>\n",
       "      <td>78</td>\n",
       "    </tr>\n",
       "  </tbody>\n",
       "</table>\n",
       "</div>"
      ],
      "text/plain": [
       "    1반  3반\n",
       "국어  80  90\n",
       "영어  85  82\n",
       "수학  70  78"
      ]
     },
     "execution_count": 241,
     "metadata": {},
     "output_type": "execute_result"
    }
   ],
   "source": [
    "student = student.dropna(axis=1)\n",
    "student"
   ]
  },
  {
   "cell_type": "code",
   "execution_count": 242,
   "id": "6639288a-26bf-4125-afb1-a2785bde02a9",
   "metadata": {},
   "outputs": [],
   "source": [
    "student.loc['수학', '3반'] = np.nan"
   ]
  },
  {
   "cell_type": "code",
   "execution_count": 243,
   "id": "bb2e05f7-8508-4ca6-80a5-636f7fc93865",
   "metadata": {},
   "outputs": [
    {
     "data": {
      "text/html": [
       "<div>\n",
       "<style scoped>\n",
       "    .dataframe tbody tr th:only-of-type {\n",
       "        vertical-align: middle;\n",
       "    }\n",
       "\n",
       "    .dataframe tbody tr th {\n",
       "        vertical-align: top;\n",
       "    }\n",
       "\n",
       "    .dataframe thead th {\n",
       "        text-align: right;\n",
       "    }\n",
       "</style>\n",
       "<table border=\"1\" class=\"dataframe\">\n",
       "  <thead>\n",
       "    <tr style=\"text-align: right;\">\n",
       "      <th></th>\n",
       "      <th>1반</th>\n",
       "      <th>3반</th>\n",
       "    </tr>\n",
       "  </thead>\n",
       "  <tbody>\n",
       "    <tr>\n",
       "      <th>국어</th>\n",
       "      <td>80</td>\n",
       "      <td>90.0</td>\n",
       "    </tr>\n",
       "    <tr>\n",
       "      <th>영어</th>\n",
       "      <td>85</td>\n",
       "      <td>82.0</td>\n",
       "    </tr>\n",
       "    <tr>\n",
       "      <th>수학</th>\n",
       "      <td>70</td>\n",
       "      <td>NaN</td>\n",
       "    </tr>\n",
       "  </tbody>\n",
       "</table>\n",
       "</div>"
      ],
      "text/plain": [
       "    1반    3반\n",
       "국어  80  90.0\n",
       "영어  85  82.0\n",
       "수학  70   NaN"
      ]
     },
     "execution_count": 243,
     "metadata": {},
     "output_type": "execute_result"
    }
   ],
   "source": [
    "student"
   ]
  },
  {
   "cell_type": "code",
   "execution_count": 246,
   "id": "4949eb65-08ec-418f-8cbc-e10583407b76",
   "metadata": {},
   "outputs": [
    {
     "data": {
      "text/html": [
       "<div>\n",
       "<style scoped>\n",
       "    .dataframe tbody tr th:only-of-type {\n",
       "        vertical-align: middle;\n",
       "    }\n",
       "\n",
       "    .dataframe tbody tr th {\n",
       "        vertical-align: top;\n",
       "    }\n",
       "\n",
       "    .dataframe thead th {\n",
       "        text-align: right;\n",
       "    }\n",
       "</style>\n",
       "<table border=\"1\" class=\"dataframe\">\n",
       "  <thead>\n",
       "    <tr style=\"text-align: right;\">\n",
       "      <th></th>\n",
       "      <th>1반</th>\n",
       "      <th>3반</th>\n",
       "    </tr>\n",
       "  </thead>\n",
       "  <tbody>\n",
       "    <tr>\n",
       "      <th>국어</th>\n",
       "      <td>80</td>\n",
       "      <td>90.0</td>\n",
       "    </tr>\n",
       "    <tr>\n",
       "      <th>영어</th>\n",
       "      <td>85</td>\n",
       "      <td>82.0</td>\n",
       "    </tr>\n",
       "    <tr>\n",
       "      <th>수학</th>\n",
       "      <td>70</td>\n",
       "      <td>100.0</td>\n",
       "    </tr>\n",
       "  </tbody>\n",
       "</table>\n",
       "</div>"
      ],
      "text/plain": [
       "    1반     3반\n",
       "국어  80   90.0\n",
       "영어  85   82.0\n",
       "수학  70  100.0"
      ]
     },
     "execution_count": 246,
     "metadata": {},
     "output_type": "execute_result"
    }
   ],
   "source": [
    "student = student.fillna(100)\n",
    "student"
   ]
  }
 ],
 "metadata": {
  "kernelspec": {
   "display_name": "Python 3 (ipykernel)",
   "language": "python",
   "name": "python3"
  },
  "language_info": {
   "codemirror_mode": {
    "name": "ipython",
    "version": 3
   },
   "file_extension": ".py",
   "mimetype": "text/x-python",
   "name": "python",
   "nbconvert_exporter": "python",
   "pygments_lexer": "ipython3",
   "version": "3.10.18"
  },
  "widgets": {
   "application/vnd.jupyter.widget-state+json": {
    "state": {},
    "version_major": 2,
    "version_minor": 0
   }
  }
 },
 "nbformat": 4,
 "nbformat_minor": 5
}
